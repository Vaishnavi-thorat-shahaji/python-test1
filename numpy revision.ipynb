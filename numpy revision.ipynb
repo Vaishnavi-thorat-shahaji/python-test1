{
 "cells": [
  {
   "cell_type": "code",
   "execution_count": 1,
   "id": "71127d12",
   "metadata": {},
   "outputs": [
    {
     "data": {
      "text/plain": [
       "'1.25.2'"
      ]
     },
     "execution_count": 1,
     "metadata": {},
     "output_type": "execute_result"
    }
   ],
   "source": [
    "import numpy as np\n",
    "np.__version__"
   ]
  },
  {
   "cell_type": "code",
   "execution_count": 4,
   "id": "a7076a6f",
   "metadata": {},
   "outputs": [
    {
     "name": "stdout",
     "output_type": "stream",
     "text": [
      "[1 2 3 4 5 6 7]\n",
      "<class 'numpy.ndarray'>\n"
     ]
    }
   ],
   "source": [
    "arr = np.array([1,2,3,4,5,6,7])\n",
    "print(arr)\n",
    "print(type(arr))"
   ]
  },
  {
   "cell_type": "code",
   "execution_count": 7,
   "id": "425ff985",
   "metadata": {},
   "outputs": [
    {
     "name": "stdout",
     "output_type": "stream",
     "text": [
      "[1 2 4 5 6 7 8 9]\n",
      "<class 'numpy.ndarray'>\n"
     ]
    }
   ],
   "source": [
    "l = [1,2,4,5,6,7,8,9]\n",
    "arr = np.array(l)\n",
    "print(arr)\n",
    "print(type(arr))"
   ]
  },
  {
   "cell_type": "code",
   "execution_count": 10,
   "id": "7cdbd10a",
   "metadata": {},
   "outputs": [
    {
     "name": "stdout",
     "output_type": "stream",
     "text": [
      "{33, 66, 22, 55, 11, 44}\n",
      "<class 'numpy.ndarray'>\n"
     ]
    }
   ],
   "source": [
    "a = {11,22,33,44,55,66}\n",
    "arr = np.array(a)\n",
    "print(arr)\n",
    "print(type(arr))"
   ]
  },
  {
   "cell_type": "code",
   "execution_count": 12,
   "id": "3e48f25d",
   "metadata": {},
   "outputs": [
    {
     "name": "stdout",
     "output_type": "stream",
     "text": [
      "[10 20 30 40 50 60]\n",
      "<class 'numpy.ndarray'>\n"
     ]
    }
   ],
   "source": [
    "b = np.array([10,20,30,40,50,60])\n",
    "print(b)\n",
    "print(type(b))"
   ]
  },
  {
   "cell_type": "code",
   "execution_count": 13,
   "id": "c7e9b3fc",
   "metadata": {},
   "outputs": [
    {
     "name": "stdout",
     "output_type": "stream",
     "text": [
      "[1 2 3 4 5 6 7]\n",
      "<class 'numpy.ndarray'>\n"
     ]
    }
   ],
   "source": [
    "tup = (1,2,3,4,5,6,7)\n",
    "arr = np.array(tup)\n",
    "print(arr)\n",
    "print(type(arr))"
   ]
  },
  {
   "cell_type": "code",
   "execution_count": 17,
   "id": "a87c5258",
   "metadata": {},
   "outputs": [
    {
     "name": "stdout",
     "output_type": "stream",
     "text": [
      "[1 2 3 4 5 6]\n",
      "<class 'numpy.ndarray'>\n"
     ]
    }
   ],
   "source": [
    "array = np.array([1,2,3,4,5,6])\n",
    "print(array)\n",
    "print(type(array))"
   ]
  },
  {
   "cell_type": "code",
   "execution_count": 16,
   "id": "d15b5f9e",
   "metadata": {},
   "outputs": [
    {
     "name": "stdout",
     "output_type": "stream",
     "text": [
      "[1 2 3 4 5 6 7 8 9]\n"
     ]
    }
   ],
   "source": [
    "a = ([1,2,3,4,5,6,7,8,9])\n",
    "b = np.array(a)\n",
    "print(b)"
   ]
  },
  {
   "cell_type": "code",
   "execution_count": 18,
   "id": "39137c95",
   "metadata": {},
   "outputs": [
    {
     "name": "stdout",
     "output_type": "stream",
     "text": [
      "[1 2 3 4 5 6 7]\n",
      "1\n"
     ]
    }
   ],
   "source": [
    "arr = np.array([1,2,3,4,5,6,7,])\n",
    "print(arr)\n",
    "print(arr.ndim)"
   ]
  },
  {
   "cell_type": "code",
   "execution_count": 19,
   "id": "6c345bf1",
   "metadata": {},
   "outputs": [
    {
     "name": "stdout",
     "output_type": "stream",
     "text": [
      "[10 20 30 40 50]\n",
      "1\n"
     ]
    }
   ],
   "source": [
    "arr = np.array([10,20,30,40,50])\n",
    "print(arr)\n",
    "print(arr.ndim)"
   ]
  },
  {
   "cell_type": "code",
   "execution_count": 20,
   "id": "941ab90a",
   "metadata": {},
   "outputs": [
    {
     "name": "stdout",
     "output_type": "stream",
     "text": [
      "[1 2 3 4 5 6 7 8]\n",
      "1\n"
     ]
    }
   ],
   "source": [
    "tup = (1,2,3,4,5,6,7,8)\n",
    "arr = np.array(tup)\n",
    "print(arr)\n",
    "print(arr.ndim)"
   ]
  },
  {
   "cell_type": "code",
   "execution_count": 21,
   "id": "9a7bfed5",
   "metadata": {},
   "outputs": [
    {
     "name": "stdout",
     "output_type": "stream",
     "text": [
      "[11 22 33 44 55 66]\n",
      "1\n"
     ]
    }
   ],
   "source": [
    "l = [11,22,33,44,55,66]\n",
    "arr = np.array(l)\n",
    "print(arr)\n",
    "print(arr.ndim)\n"
   ]
  },
  {
   "cell_type": "code",
   "execution_count": 22,
   "id": "705ff804",
   "metadata": {},
   "outputs": [
    {
     "name": "stdout",
     "output_type": "stream",
     "text": [
      "{400, 100, 500, 200, 300}\n",
      "0\n"
     ]
    }
   ],
   "source": [
    "s = {100,200,300,400,500}\n",
    "arr = np.array(s)\n",
    "print(arr)\n",
    "print(arr.ndim)"
   ]
  },
  {
   "cell_type": "code",
   "execution_count": 23,
   "id": "3e6c4e44",
   "metadata": {},
   "outputs": [
    {
     "name": "stdout",
     "output_type": "stream",
     "text": [
      "110\n",
      "0\n"
     ]
    }
   ],
   "source": [
    "# 0 - d array\n",
    "arr = np.array(110)\n",
    "print(arr)\n",
    "print(arr.ndim)"
   ]
  },
  {
   "cell_type": "code",
   "execution_count": 24,
   "id": "9f60c222",
   "metadata": {},
   "outputs": [
    {
     "name": "stdout",
     "output_type": "stream",
     "text": [
      "100\n",
      "0\n"
     ]
    }
   ],
   "source": [
    "arr = np.array(100)\n",
    "print(arr)\n",
    "print(arr.ndim)"
   ]
  },
  {
   "cell_type": "code",
   "execution_count": 26,
   "id": "dc43fe5f",
   "metadata": {},
   "outputs": [
    {
     "name": "stdout",
     "output_type": "stream",
     "text": [
      "10\n",
      "0\n"
     ]
    }
   ],
   "source": [
    "l = (10)\n",
    "arr = np.array(l)\n",
    "print(arr)\n",
    "print(arr.ndim)"
   ]
  },
  {
   "cell_type": "code",
   "execution_count": 27,
   "id": "73e23db4",
   "metadata": {},
   "outputs": [
    {
     "name": "stdout",
     "output_type": "stream",
     "text": [
      "{100}\n",
      "0\n"
     ]
    }
   ],
   "source": [
    "s = {100}\n",
    "arr = np.array(s)\n",
    "print(arr)\n",
    "print(arr.ndim)"
   ]
  },
  {
   "cell_type": "code",
   "execution_count": 28,
   "id": "f3de1f17",
   "metadata": {},
   "outputs": [
    {
     "name": "stdout",
     "output_type": "stream",
     "text": [
      "0\n",
      "0\n"
     ]
    }
   ],
   "source": [
    "tup = (0)\n",
    "arr = np.array(tup)\n",
    "print(arr)\n",
    "print(arr.ndim)"
   ]
  },
  {
   "cell_type": "code",
   "execution_count": 29,
   "id": "b2e77296",
   "metadata": {},
   "outputs": [
    {
     "name": "stdout",
     "output_type": "stream",
     "text": [
      "[1 2 3 4 5]\n",
      "1\n"
     ]
    }
   ],
   "source": [
    "# 1- d array\n",
    "arr = np.array([1,2,3,4,5])\n",
    "print(arr)\n",
    "print(arr.ndim)"
   ]
  },
  {
   "cell_type": "code",
   "execution_count": 30,
   "id": "c531d353",
   "metadata": {},
   "outputs": [
    {
     "name": "stdout",
     "output_type": "stream",
     "text": [
      "[10 20 30 40]\n",
      "1\n"
     ]
    }
   ],
   "source": [
    "tup = (10,20,30,40)\n",
    "arr = np.array(tup)\n",
    "print(arr)\n",
    "print(arr.ndim)"
   ]
  },
  {
   "cell_type": "code",
   "execution_count": 31,
   "id": "fad7f64e",
   "metadata": {},
   "outputs": [
    {
     "name": "stdout",
     "output_type": "stream",
     "text": [
      "[100]\n",
      "1\n"
     ]
    }
   ],
   "source": [
    "l = [100]\n",
    "arr = np.array(l)\n",
    "print(arr)\n",
    "print(arr.ndim)"
   ]
  },
  {
   "cell_type": "code",
   "execution_count": 33,
   "id": "7cdea10a",
   "metadata": {},
   "outputs": [
    {
     "name": "stdout",
     "output_type": "stream",
     "text": [
      "[10 20 30 40 50 60]\n",
      "1\n"
     ]
    }
   ],
   "source": [
    "ar = ([10,20,30,40,50,60])\n",
    "arr = np.array(ar)\n",
    "print(arr)\n",
    "print(arr.ndim)"
   ]
  },
  {
   "cell_type": "code",
   "execution_count": 35,
   "id": "eb543477",
   "metadata": {},
   "outputs": [
    {
     "name": "stdout",
     "output_type": "stream",
     "text": [
      "[1 2 3 4 5 6]\n",
      "1\n"
     ]
    }
   ],
   "source": [
    "s = [1,2,3,4,5,6]\n",
    "arr = np.array(s)\n",
    "print(arr)\n",
    "print(arr.ndim)"
   ]
  },
  {
   "cell_type": "code",
   "execution_count": 36,
   "id": "84a0349a",
   "metadata": {},
   "outputs": [
    {
     "name": "stdout",
     "output_type": "stream",
     "text": [
      "[[10 20 30]\n",
      " [40 50 60]]\n",
      "2\n"
     ]
    }
   ],
   "source": [
    "# 2 - d array\n",
    "ar = ([[10,20,30],[40,50,60]])\n",
    "arr = np.array(ar)\n",
    "print(arr)\n",
    "print(arr.ndim)"
   ]
  },
  {
   "cell_type": "code",
   "execution_count": 38,
   "id": "54437813",
   "metadata": {},
   "outputs": [
    {
     "name": "stdout",
     "output_type": "stream",
     "text": [
      "[[1 2 3 4 5 6]]\n",
      "2\n"
     ]
    }
   ],
   "source": [
    "l = [[1,2,3,4,5,6]]\n",
    "ar = np.array(l)\n",
    "print(ar)\n",
    "print(ar.ndim)"
   ]
  },
  {
   "cell_type": "code",
   "execution_count": 39,
   "id": "67f815f1",
   "metadata": {},
   "outputs": [
    {
     "name": "stdout",
     "output_type": "stream",
     "text": [
      "[[11 22 33 44 55]]\n",
      "2\n"
     ]
    }
   ],
   "source": [
    "s = ([[11,22,33,44,55]])\n",
    "ar = np.array(s)\n",
    "print(ar)\n",
    "print(ar.ndim)"
   ]
  },
  {
   "cell_type": "code",
   "execution_count": 40,
   "id": "bcb4673c",
   "metadata": {},
   "outputs": [
    {
     "name": "stdout",
     "output_type": "stream",
     "text": [
      "[[100]]\n",
      "2\n"
     ]
    }
   ],
   "source": [
    "a = [[100]]\n",
    "ar = np.array(a)\n",
    "print(ar)\n",
    "print(ar.ndim)"
   ]
  },
  {
   "cell_type": "code",
   "execution_count": 42,
   "id": "fa8e52e2",
   "metadata": {},
   "outputs": [
    {
     "name": "stdout",
     "output_type": "stream",
     "text": [
      "[[1 2 3 4]]\n",
      "2\n"
     ]
    }
   ],
   "source": [
    "array = [[1,2,3,4]]\n",
    "ar = np.array(array)\n",
    "print(ar)\n",
    "print(ar.ndim)"
   ]
  },
  {
   "cell_type": "code",
   "execution_count": 43,
   "id": "7a5e3416",
   "metadata": {},
   "outputs": [
    {
     "name": "stdout",
     "output_type": "stream",
     "text": [
      "[[[1 2 3 4 5]]]\n",
      "3\n"
     ]
    }
   ],
   "source": [
    "# 3 - d array\n",
    "ar = [[[1,2,3,4,5]]]\n",
    "arr = np.array(ar)\n",
    "print(arr)\n",
    "print(arr.ndim)"
   ]
  },
  {
   "cell_type": "code",
   "execution_count": 44,
   "id": "14587792",
   "metadata": {},
   "outputs": [
    {
     "name": "stdout",
     "output_type": "stream",
     "text": [
      "[[[10 20 30 40 50]]]\n",
      "3\n"
     ]
    }
   ],
   "source": [
    "l = [[[10,20,30,40,50]]]\n",
    "arr = np.array(l)\n",
    "print(arr)\n",
    "print(arr.ndim)"
   ]
  },
  {
   "cell_type": "code",
   "execution_count": 45,
   "id": "9d9fa05b",
   "metadata": {},
   "outputs": [
    {
     "name": "stdout",
     "output_type": "stream",
     "text": [
      "[[[11 22 33]\n",
      "  [44 55 66]]]\n",
      "3\n"
     ]
    }
   ],
   "source": [
    "tup = ([[[11,22,33],[44,55,66]]])\n",
    "ar = np.array(tup)\n",
    "print(ar)\n",
    "print(ar.ndim)"
   ]
  },
  {
   "cell_type": "code",
   "execution_count": 46,
   "id": "9c294512",
   "metadata": {},
   "outputs": [
    {
     "name": "stdout",
     "output_type": "stream",
     "text": [
      "[[[1000]]]\n",
      "3\n"
     ]
    }
   ],
   "source": [
    "s = [[[1000]]]\n",
    "ar = np.array(s)\n",
    "print(ar)\n",
    "print(ar.ndim)"
   ]
  },
  {
   "cell_type": "code",
   "execution_count": 47,
   "id": "59096c90",
   "metadata": {},
   "outputs": [
    {
     "name": "stdout",
     "output_type": "stream",
     "text": [
      "[[[10 20]\n",
      "  [30 40]]]\n",
      "3\n"
     ]
    }
   ],
   "source": [
    "a = [[[10,20],[30,40]]]\n",
    "ar = np.array(a)\n",
    "print(ar)\n",
    "print(ar.ndim)"
   ]
  },
  {
   "cell_type": "code",
   "execution_count": 62,
   "id": "49a37882",
   "metadata": {},
   "outputs": [
    {
     "name": "stdout",
     "output_type": "stream",
     "text": [
      "[1 2 3 4 5 6 7 8]\n",
      "4\n",
      "8\n",
      "1\n",
      "\n",
      "\n",
      "[10 20 30 40 50]\n",
      "50\n",
      "10\n",
      "\n",
      "\n",
      "[11 22 33 44 55]\n",
      "33\n",
      "55\n",
      "\n",
      "\n",
      "[10 20]\n",
      "20\n",
      "\n",
      "\n",
      "[1 2 3 4 5]\n",
      "2\n"
     ]
    }
   ],
   "source": [
    "# access array 1- d array\n",
    "arr = np.array([1,2,3,4,5,6,7,8])\n",
    "print(arr)\n",
    "print(arr[3])\n",
    "print(arr[-1])\n",
    "print(arr[0,])\n",
    "print('\\n')\n",
    "l = [10,20,30,40,50]\n",
    "arr = np.array(l)\n",
    "print(arr)\n",
    "print(arr[4])\n",
    "print(arr[0])\n",
    "print('\\n')\n",
    "tup = (11,22,33,44,55)\n",
    "arr = np.array(tup)\n",
    "print(arr)\n",
    "print(arr[2])\n",
    "print(arr[-1])\n",
    "print('\\n')\n",
    "a = [10,20]\n",
    "arr = np.array(a)\n",
    "print(arr)\n",
    "print(arr[-1])\n",
    "print('\\n')\n",
    "b = ([1,2,3,4,5])\n",
    "ar = np.array(b)\n",
    "print(ar)\n",
    "print(ar[1])"
   ]
  },
  {
   "cell_type": "code",
   "execution_count": 75,
   "id": "7dc58e75",
   "metadata": {},
   "outputs": [
    {
     "name": "stdout",
     "output_type": "stream",
     "text": [
      "[[1 2 3 4 5 6 7]]\n",
      "[1 2 3 4 5 6 7]\n",
      "[1 2 3 4 5 6 7]\n",
      "\n",
      "\n",
      "[[10 20 30 40]\n",
      " [50 60 70 80]]\n",
      "20\n",
      "70\n",
      "40\n",
      "60\n",
      "\n",
      "\n",
      "[[1 2 3 4]\n",
      " [5 6 7 8]]\n",
      "5\n",
      "4\n",
      "\n",
      "\n",
      "[[11 22 33]\n",
      " [44 55 66]]\n",
      "33\n",
      "66\n"
     ]
    }
   ],
   "source": [
    "# access 2- d array\n",
    "arr = ([[1,2,3,4,5,6,7]])\n",
    "a = np.array(arr)\n",
    "print(a)\n",
    "print(a[0])\n",
    "print(a[-1])\n",
    "print('\\n')\n",
    "l = [[10,20,30,40],[50,60,70,80]]\n",
    "ar = np.array(l)\n",
    "print(ar)\n",
    "print(ar[0][1])\n",
    "print(ar[1][2])\n",
    "print(ar[0,3])\n",
    "print(ar[1,1])\n",
    "print('\\n')\n",
    "tup = ([[1,2,3,4],[5,6,7,8]])\n",
    "ar = np.array(tup)\n",
    "print(ar)\n",
    "print(ar[1][0])\n",
    "print(ar[0,3])\n",
    "print('\\n')\n",
    "ar = np.array([[11,22,33],[44,55,66]])\n",
    "print(ar)\n",
    "print(ar[0][2])\n",
    "print(ar[1,2])"
   ]
  },
  {
   "cell_type": "code",
   "execution_count": 99,
   "id": "65262d86",
   "metadata": {},
   "outputs": [
    {
     "name": "stdout",
     "output_type": "stream",
     "text": [
      "[[[ 1  2  3  4]\n",
      "  [ 5  6  7  8]]\n",
      "\n",
      " [[ 9 10 11 12]\n",
      "  [13 14 15 16]]]\n",
      "[5 6 7 8]\n",
      "3\n",
      "13\n",
      "12\n",
      "\n",
      "\n",
      "[[[1 2 3 4 5 6]]]\n",
      "[[1 2 3 4 5 6]]\n",
      "[[1 2 3 4 5 6]]\n",
      "\n",
      "\n",
      "[4 5 6]\n",
      "[1 2 3]\n",
      "2\n",
      "6\n",
      "[[[10 20 30]]]\n",
      "[10 20 30]\n",
      "20\n",
      "[[[1 2 3 4 5]]]\n",
      "2\n",
      "3\n",
      "5\n"
     ]
    }
   ],
   "source": [
    "# access 3 - d array \n",
    "a = [[[1,2,3,4],[5,6,7,8]],[[9,10,11,12],[13,14,15,16]]]\n",
    "ar = np.array(a)\n",
    "print(ar)\n",
    "print(ar[0][1])\n",
    "print(ar[0][0][2])\n",
    "print(ar[1,1,0])\n",
    "print(ar[1,0,3])\n",
    "print('\\n')\n",
    "l = [[[1,2,3,4,5,6]]]\n",
    "ar = np.array(l)\n",
    "print(ar)\n",
    "print(ar[0])\n",
    "print(ar[-1])\n",
    "print('\\n')\n",
    "tup = ([[[1,2,3],[4,5,6]]])\n",
    "ar = np.array(tup)\n",
    "print(ar[0][1])\n",
    "print(ar[0][0])\n",
    "print(ar[0,0,1])\n",
    "print(ar[0,1,2])\n",
    "arr = ([[[10,20,30]]])\n",
    "ar = np.array(arr)\n",
    "print(ar)\n",
    "print(ar[0][0])\n",
    "print(ar[0,0,1])\n",
    "s = [[[1,2,3,4,5]]]\n",
    "arr = np.array(s)\n",
    "print(arr)\n",
    "print(arr[0][0][1])\n",
    "print(arr[0][0][2])\n",
    "print(arr[0,0,4])"
   ]
  },
  {
   "cell_type": "code",
   "execution_count": 103,
   "id": "87d71e6e",
   "metadata": {},
   "outputs": [
    {
     "name": "stdout",
     "output_type": "stream",
     "text": [
      "0\n",
      "1\n",
      "2\n",
      "3\n"
     ]
    }
   ],
   "source": [
    "a = np.array(10)\n",
    "b = np.array([1,2,3,4])\n",
    "c = np.array([[10,20,30,40]])\n",
    "d = np.array([[[11,22,33]]])\n",
    "print(a.ndim)\n",
    "print(b.ndim)\n",
    "print(c.ndim)\n",
    "print(d.ndim)"
   ]
  },
  {
   "cell_type": "code",
   "execution_count": 105,
   "id": "19b9b0c6",
   "metadata": {},
   "outputs": [
    {
     "name": "stdout",
     "output_type": "stream",
     "text": [
      "0\n",
      "1\n",
      "2\n",
      "3\n"
     ]
    }
   ],
   "source": [
    "a = np.array(10)\n",
    "b = np.array([1,2,3,4])\n",
    "c = np.array([[1,2,3],[4,5,6]])\n",
    "d = np.array([[[11,22,33],[44,55,66]]])\n",
    "print(a.ndim)\n",
    "print(b.ndim)\n",
    "print(c.ndim)\n",
    "print(d.ndim)"
   ]
  },
  {
   "cell_type": "code",
   "execution_count": 106,
   "id": "a4c90c73",
   "metadata": {},
   "outputs": [
    {
     "name": "stdout",
     "output_type": "stream",
     "text": [
      "[[10]]\n"
     ]
    }
   ],
   "source": [
    "arr = np.array([10], ndmin = 2)\n",
    "print(arr)"
   ]
  },
  {
   "cell_type": "code",
   "execution_count": 107,
   "id": "789ba5c0",
   "metadata": {},
   "outputs": [
    {
     "name": "stdout",
     "output_type": "stream",
     "text": [
      "[[[20 30 40]]]\n"
     ]
    }
   ],
   "source": [
    "arr = np.array([20,30,40], ndmin = 3)\n",
    "print(arr)"
   ]
  },
  {
   "cell_type": "code",
   "execution_count": 108,
   "id": "2c3a3bd5",
   "metadata": {},
   "outputs": [
    {
     "name": "stdout",
     "output_type": "stream",
     "text": [
      "[[[[11 22 33 44]]]]\n"
     ]
    }
   ],
   "source": [
    "arr = np.array([11,22,33,44], ndmin = 4)\n",
    "print(arr)"
   ]
  },
  {
   "cell_type": "code",
   "execution_count": 109,
   "id": "e5a643c4",
   "metadata": {},
   "outputs": [
    {
     "name": "stdout",
     "output_type": "stream",
     "text": [
      "[[[[[11 12 13 14]]]]]\n"
     ]
    }
   ],
   "source": [
    "a = np.array([11,12,13,14], ndmin = 5)\n",
    "print(a)"
   ]
  },
  {
   "cell_type": "code",
   "execution_count": 110,
   "id": "7c4749cc",
   "metadata": {},
   "outputs": [
    {
     "name": "stdout",
     "output_type": "stream",
     "text": [
      "[[[[[[100 200 300]]]]]]\n"
     ]
    }
   ],
   "source": [
    "b = np.array([100,200,300], ndmin = 6)\n",
    "print(b)"
   ]
  },
  {
   "cell_type": "code",
   "execution_count": 140,
   "id": "2760b2c5",
   "metadata": {},
   "outputs": [
    {
     "name": "stdout",
     "output_type": "stream",
     "text": [
      "[1 2 3 4 5 6 7 8 9]\n",
      "[1 2 3 4 5 6 7 8 9]\n",
      "[4 5 6 7 8 9]\n",
      "[4 5 6]\n",
      "[6 7]\n",
      "[6 7 8]\n",
      "[7 8]\n",
      "[1 3 5 7 9]\n",
      "[10 20 30 40 50 60]\n",
      "[20 30 40 50]\n",
      "[10 20 30 40]\n",
      "[30 40 50 60]\n",
      "[10 30 50]\n",
      "[11]\n",
      "[33 44]\n",
      "66\n",
      "[11 44]\n",
      "[1 2 3 4 5 6 7 8 9]\n",
      "[1 2 3 4 5]\n",
      "[2 3 4]\n",
      "[7 8 9]\n",
      "[1 5 9]\n",
      "[11, 12, 13, 14, 15, 16]\n",
      "[13, 14, 15]\n",
      "[12, 13, 14]\n",
      "[12, 13, 14]\n",
      "[11, 13, 15]\n"
     ]
    }
   ],
   "source": [
    "# slicing 1 -d array\n",
    "arr = np.array([1,2,3,4,5,6,7,8,9])\n",
    "print(arr)\n",
    "print(arr[0:])\n",
    "print(arr[3:])\n",
    "print(arr[3:6])\n",
    "print(arr[5:7])\n",
    "print(arr[-4:-1])\n",
    "print(arr[-3:-1])\n",
    "print(arr[0:9:2])\n",
    "l = [10,20,30,40,50,60]\n",
    "ar = np.array(l)\n",
    "print(ar)\n",
    "print(ar[1:5])\n",
    "print(ar[0:4])\n",
    "print(ar[-4:])\n",
    "print(ar[0:6:2])\n",
    "tup = (11,22,33,44,55,66)\n",
    "ar = np.array(tup)\n",
    "print(ar[0:1])\n",
    "print(ar[2:4])\n",
    "print(ar[-1])\n",
    "print(ar[0:6:3])\n",
    "a = ([1,2,3,4,5,6,7,8,9])\n",
    "ar = np.array(a)\n",
    "print(ar)\n",
    "print(ar[0:5])\n",
    "print(ar[1:4])\n",
    "print(ar[6:10])\n",
    "print(ar[0:9:4])\n",
    "b = [11,12,13,14,15,16]\n",
    "arr = np.array(b)\n",
    "print(b)\n",
    "print(b[2:5])\n",
    "print(b[1:4])\n",
    "print(b[-5:-2])\n",
    "print(b[0:6:2])"
   ]
  },
  {
   "cell_type": "code",
   "execution_count": 163,
   "id": "aafd1c42",
   "metadata": {},
   "outputs": [
    {
     "name": "stdout",
     "output_type": "stream",
     "text": [
      "[[1 2 3 4 5 6 7 8 9]]\n",
      "[[1 2 3 4 5 6 7 8 9]]\n",
      "[4 5 6 7 8 9]\n",
      "[1 2 3 4]\n",
      "[2 3 4 5 6 7]\n",
      "\n",
      "\n",
      "[[11 22 33]\n",
      " [44 55 66]]\n",
      "[11 22 33]\n",
      "[[11 22]\n",
      " [44 55]]\n",
      "[[33]\n",
      " [66]]\n",
      "[[10 20 30 40]\n",
      " [50 60 70 80]]\n",
      "[10 20 30 40]\n",
      "[[10]\n",
      " [50]]\n",
      "[[20 30]\n",
      " [60 70]]\n",
      "[[ 1  2  3  4  5  6  7  8  9 10]]\n",
      "[1 2 3 4]\n",
      "[1 2]\n",
      "[[ 1  2  3  4]\n",
      " [ 5  6  7  8]\n",
      " [ 9 10 11 12]]\n",
      "[[ 2  3]\n",
      " [ 6  7]\n",
      " [10 11]]\n",
      "[[ 4]\n",
      " [ 8]\n",
      " [12]]\n"
     ]
    }
   ],
   "source": [
    "# slicing 2 - d array\n",
    "arr = np.array([[1,2,3,4,5,6,7,8,9]])\n",
    "print(arr)\n",
    "print(arr[0:3])\n",
    "print(arr[0,3:10])\n",
    "print(arr[0,0:4])\n",
    "print(arr[0,1:7])\n",
    "print('\\n')\n",
    "l = np.array([[11,22,33],[44,55,66]])\n",
    "print(l)\n",
    "print(l[0,0:3])\n",
    "print(l[0:2,0:2])\n",
    "print(l[0:2,2:])\n",
    "arr = np.array([[10,20,30,40],[50,60,70,80]])\n",
    "print(arr)\n",
    "print(arr[0])\n",
    "print(arr[0:2,0:1])\n",
    "print(arr[0:2,1:3])\n",
    "tup =([[1,2,3,4,5,6,7,8,9,10]])\n",
    "arr = np.array(tup)\n",
    "print(arr)\n",
    "print(arr[0,0:4])\n",
    "print(arr[0,0:2])\n",
    "a = np.array([[1,2,3,4],[5,6,7,8],[9,10,11,12]])\n",
    "print(a)\n",
    "print(a[0:3,1:3])\n",
    "print(a[0:3,3:])"
   ]
  },
  {
   "cell_type": "code",
   "execution_count": 186,
   "id": "96724343",
   "metadata": {},
   "outputs": [
    {
     "name": "stdout",
     "output_type": "stream",
     "text": [
      "[[[ 1  2  3  4]\n",
      "  [ 5  6  7  8]]\n",
      "\n",
      " [[ 9 10 11 12]\n",
      "  [13 14 15 16]]]\n",
      "\n",
      "\n",
      "[[[ 5  6  7  8]]\n",
      "\n",
      " [[13 14 15 16]]]\n",
      "[[1 2 3 4]\n",
      " [5 6 7 8]]\n",
      "[[[ 5  6  7  8]]\n",
      "\n",
      " [[13 14 15 16]]]\n",
      "[[1 2 3 4 5 6 7 8 9]]\n",
      "[[1 2 3 4 5 6 7 8 9]]\n",
      "\n",
      "\n",
      "[[[ 1  2  3]\n",
      "  [ 4  5  6]]\n",
      "\n",
      " [[ 7  8  9]\n",
      "  [10 11 12]]]\n",
      "[[4 5 6]]\n",
      "[]\n"
     ]
    }
   ],
   "source": [
    " # slicing  3 - d array\n",
    "arr = ([[[1,2,3,4],[5,6,7,8]],[[9,10,11,12],[13,14,15,16]]])\n",
    "a = np.array(arr)\n",
    "print(a)\n",
    "print('\\n')\n",
    "print(a[:,1:3])\n",
    "print(a[0,0:2])\n",
    "print(a[0:2,1:4])\n",
    "l = [[[1,2,3,4,5,6,7,8,9]]]\n",
    "ar = np.array(l)\n",
    "print(ar[0,0:1])\n",
    "print(ar[0,0:])\n",
    "print('\\n')\n",
    "s = ([[[1,2,3],[4,5,6]],[[7,8,9],[10,11,12]]])\n",
    "ar = np.array(s)\n",
    "print(ar)\n",
    "print(ar[0,1:2])\n",
    "print(ar[0,1:0])"
   ]
  },
  {
   "cell_type": "code",
   "execution_count": 9,
   "id": "0441e0f9",
   "metadata": {},
   "outputs": [
    {
     "name": "stdout",
     "output_type": "stream",
     "text": [
      "[[[ 1  2  3  4]\n",
      "  [ 5  6  7  8]]\n",
      "\n",
      " [[ 9 10 11 12]\n",
      "  [13 14 15 16]]\n",
      "\n",
      " [[17 18 19 20]\n",
      "  [21 22 23 24]]]\n",
      "\n",
      "\n",
      "[[[ 3  4]\n",
      "  [ 7  8]]\n",
      "\n",
      " [[11 12]\n",
      "  [15 16]]\n",
      "\n",
      " [[19 20]\n",
      "  [23 24]]]\n",
      "\n",
      "\n",
      "[[[ 1  2]\n",
      "  [ 5  6]]\n",
      "\n",
      " [[ 9 10]\n",
      "  [13 14]]\n",
      "\n",
      " [[17 18]\n",
      "  [21 22]]]\n",
      "[[[3]\n",
      "  [7]]]\n"
     ]
    }
   ],
   "source": [
    "import numpy as np\n",
    "arr =([[[1,2,3,4],[5,6,7,8]],[[9,10,11,12],[13,14,15,16]],[[17,18,19,20],[21,22,23,24]]])\n",
    "ar = np.array(arr)\n",
    "print(ar)\n",
    "print('\\n')\n",
    "print(ar[:,:,2:])\n",
    "print('\\n')\n",
    "print(ar[:,:,0:2])\n",
    "print(ar[0:1,0:2,2:3])"
   ]
  },
  {
   "cell_type": "code",
   "execution_count": 30,
   "id": "ac64dc39",
   "metadata": {},
   "outputs": [
    {
     "name": "stdout",
     "output_type": "stream",
     "text": [
      "[[[ 1  2  3]\n",
      "  [ 4  5  6]]\n",
      "\n",
      " [[ 7  8  9]\n",
      "  [10 11 12]]]\n",
      "\n",
      "\n",
      "[[[4 5]]]\n",
      "[[[ 5]]\n",
      "\n",
      " [[11]]]\n",
      "[[[1]]\n",
      "\n",
      " [[7]]]\n",
      "[[[ 1]\n",
      "  [ 4]]\n",
      "\n",
      " [[ 7]\n",
      "  [10]]]\n",
      "[[[1]]]\n",
      "[1 2 3]\n",
      "2\n",
      "[[[ 1  2]\n",
      "  [ 4  5]]\n",
      "\n",
      " [[ 7  8]\n",
      "  [10 11]]]\n"
     ]
    }
   ],
   "source": [
    "arr = ([[[1,2,3],[4,5,6]],[[7,8,9],[10,11,12]]])\n",
    "ar = np.array(arr)\n",
    "print(ar)\n",
    "print('\\n')\n",
    "print(ar[:1,1:2,0:2])\n",
    "print(ar[:2,1:2,1:2])\n",
    "print(ar[:2,0:1,0:1])\n",
    "print(ar[:3,0:3,0:1])\n",
    "print(ar[0:1,0:1,0:1])\n",
    "print(ar[0][0])\n",
    "print(ar[0,0,1])\n",
    "print(ar[:,:,0:2])\n",
    "print()"
   ]
  },
  {
   "cell_type": "code",
   "execution_count": 31,
   "id": "225449a5",
   "metadata": {},
   "outputs": [
    {
     "name": "stdout",
     "output_type": "stream",
     "text": [
      "[1 2 3 4 5]\n",
      "int32\n"
     ]
    }
   ],
   "source": [
    "# date types \n",
    "arr = np.array([1,2,3,4,5])\n",
    "print(arr)\n",
    "print(arr.dtype)"
   ]
  },
  {
   "cell_type": "code",
   "execution_count": 32,
   "id": "3e297d9f",
   "metadata": {},
   "outputs": [
    {
     "name": "stdout",
     "output_type": "stream",
     "text": [
      "[[10 20 30 40 50]]\n",
      "int32\n"
     ]
    }
   ],
   "source": [
    "arr = np.array([[10,20,30,40,50]])\n",
    "print(arr)\n",
    "print(arr.dtype)"
   ]
  },
  {
   "cell_type": "code",
   "execution_count": 33,
   "id": "1c1f5df0",
   "metadata": {},
   "outputs": [
    {
     "name": "stdout",
     "output_type": "stream",
     "text": [
      "[[10.2 10.3 10.4 10.5]]\n",
      "float64\n"
     ]
    }
   ],
   "source": [
    "arr = np.array([[10.2,10.3,10.4,10.5]])\n",
    "print(arr)\n",
    "print(arr.dtype)"
   ]
  },
  {
   "cell_type": "code",
   "execution_count": 34,
   "id": "25ea3b46",
   "metadata": {},
   "outputs": [
    {
     "name": "stdout",
     "output_type": "stream",
     "text": [
      "[10.+3.j  2.+5.j]\n",
      "complex128\n"
     ]
    }
   ],
   "source": [
    "arr = np.array([10+3j,2+5j])\n",
    "print(arr)\n",
    "print(arr.dtype)"
   ]
  },
  {
   "cell_type": "code",
   "execution_count": 35,
   "id": "db4df455",
   "metadata": {},
   "outputs": [
    {
     "name": "stdout",
     "output_type": "stream",
     "text": [
      "[ True False]\n",
      "bool\n"
     ]
    }
   ],
   "source": [
    "arr = np.array([True, False])\n",
    "print(arr)\n",
    "print(arr.dtype)"
   ]
  },
  {
   "cell_type": "code",
   "execution_count": 36,
   "id": "864ed0b6",
   "metadata": {},
   "outputs": [
    {
     "name": "stdout",
     "output_type": "stream",
     "text": [
      "['aa' 'bb' 'cc' 'dd' 'ee']\n",
      "<U2\n"
     ]
    }
   ],
   "source": [
    "arr = np.array(['aa','bb','cc','dd','ee'])\n",
    "print(arr)\n",
    "print(arr.dtype)"
   ]
  },
  {
   "cell_type": "code",
   "execution_count": 37,
   "id": "e293a3b6",
   "metadata": {},
   "outputs": [
    {
     "name": "stdout",
     "output_type": "stream",
     "text": [
      "[-2032]\n",
      "int32\n"
     ]
    }
   ],
   "source": [
    "arr = np.array([2-11-2023])\n",
    "print(arr)\n",
    "print(arr.dtype)"
   ]
  },
  {
   "cell_type": "code",
   "execution_count": 39,
   "id": "38fd0a20",
   "metadata": {},
   "outputs": [
    {
     "name": "stdout",
     "output_type": "stream",
     "text": [
      "[1 2 3 4 5 6 7 8 9]\n",
      "int32\n"
     ]
    }
   ],
   "source": [
    "arr = np.array([1,2,3,4,5,6,7,8,9])\n",
    "print(arr)\n",
    "print(arr.dtype)"
   ]
  },
  {
   "cell_type": "code",
   "execution_count": 40,
   "id": "ad8993c0",
   "metadata": {},
   "outputs": [
    {
     "name": "stdout",
     "output_type": "stream",
     "text": [
      "[1 2 3 4 5]\n",
      "int32\n"
     ]
    }
   ],
   "source": [
    "# creating array with defined date type\n",
    "arr = np.array([1,2,3,4,5], dtype = 'int')\n",
    "print(arr)\n",
    "print(arr.dtype)"
   ]
  },
  {
   "cell_type": "code",
   "execution_count": 41,
   "id": "fc8c9e31",
   "metadata": {},
   "outputs": [
    {
     "name": "stdout",
     "output_type": "stream",
     "text": [
      "[ 11.  22. 333.  44.]\n",
      "float64\n"
     ]
    }
   ],
   "source": [
    "arr = np.array([11,22,333,44], dtype = 'float')\n",
    "print(arr)\n",
    "print(arr.dtype)"
   ]
  },
  {
   "cell_type": "code",
   "execution_count": 42,
   "id": "d6611d85",
   "metadata": {},
   "outputs": [
    {
     "name": "stdout",
     "output_type": "stream",
     "text": [
      "[ True  True  True  True  True]\n",
      "bool\n"
     ]
    }
   ],
   "source": [
    "arr = np.array(['1','2','3','4','5'], dtype = 'bool')\n",
    "print(arr)\n",
    "print(arr.dtype)"
   ]
  },
  {
   "cell_type": "code",
   "execution_count": 43,
   "id": "42519f28",
   "metadata": {},
   "outputs": [
    {
     "name": "stdout",
     "output_type": "stream",
     "text": [
      "[10 20 30 40 50]\n",
      "int32\n"
     ]
    }
   ],
   "source": [
    "arr = np.array([10,20,30,40,50], dtype = 'i')\n",
    "print(arr)\n",
    "print(arr.dtype)"
   ]
  },
  {
   "cell_type": "code",
   "execution_count": 46,
   "id": "db93e86c",
   "metadata": {},
   "outputs": [
    {
     "name": "stdout",
     "output_type": "stream",
     "text": [
      "[1 1 1 1 1]\n",
      "int32\n"
     ]
    }
   ],
   "source": [
    "arr = np.array([1.1,1.2,1.3,1.4,1.5], dtype = 'int')\n",
    "print(arr)\n",
    "print(arr.dtype)"
   ]
  },
  {
   "cell_type": "code",
   "execution_count": 47,
   "id": "dd943803",
   "metadata": {},
   "outputs": [
    {
     "name": "stdout",
     "output_type": "stream",
     "text": [
      "[1 2 3 4 5 6 7]\n",
      "int16\n"
     ]
    }
   ],
   "source": [
    "arr = np.array([1,2,3,4,5,6,7], dtype = 'i2')\n",
    "print(arr)\n",
    "print(arr.dtype)"
   ]
  },
  {
   "cell_type": "code",
   "execution_count": 48,
   "id": "b3abd508",
   "metadata": {},
   "outputs": [
    {
     "name": "stdout",
     "output_type": "stream",
     "text": [
      "[10 20 30 40 50]\n",
      "int32\n"
     ]
    }
   ],
   "source": [
    "arr = np.array([10,20,30,40,50], dtype = 'i4')\n",
    "print(arr)\n",
    "print(arr.dtype)"
   ]
  },
  {
   "cell_type": "code",
   "execution_count": 49,
   "id": "8dd8ac98",
   "metadata": {},
   "outputs": [
    {
     "name": "stdout",
     "output_type": "stream",
     "text": [
      "[11 22 33 44 55]\n",
      "int64\n"
     ]
    }
   ],
   "source": [
    "arr = np.array([11,22,33,44,55],dtype = 'i8')\n",
    "print(arr)\n",
    "print(arr.dtype)"
   ]
  },
  {
   "cell_type": "code",
   "execution_count": 51,
   "id": "67c96e8d",
   "metadata": {},
   "outputs": [
    {
     "name": "stdout",
     "output_type": "stream",
     "text": [
      "[10.1 20.1 30.1 40.1]\n",
      "float64\n"
     ]
    }
   ],
   "source": [
    "arr = np.array([10.1,20.1,30.1,40.1],dtype = 'float')\n",
    "print(arr)\n",
    "print(arr.dtype)"
   ]
  },
  {
   "cell_type": "code",
   "execution_count": 69,
   "id": "3402c5f7",
   "metadata": {},
   "outputs": [
    {
     "name": "stdout",
     "output_type": "stream",
     "text": [
      "[1. 2. 3. 4. 6. 7.]\n",
      "float64\n",
      "[1 2 3 4 5]\n",
      "int32\n",
      "[False  True  True  True]\n",
      "[11. 22. 33. 44. 55.]\n",
      "['10' '20' '30' '40' '50' '60']\n",
      "[1 0 1]\n",
      "[ True  True  True  True]\n",
      "[1.+0.j 0.+0.j]\n",
      "[[1. 2. 3. 4. 5. 6. 7.]]\n"
     ]
    }
   ],
   "source": [
    "# date type conversion\n",
    "arr = np.array([1,2,3,4,6,7])\n",
    "ar = arr.astype('float')\n",
    "print(ar)\n",
    "print(ar.dtype)\n",
    "a = np.array([1.1,2.1,3.1,4.1,5.1])\n",
    "b = a.astype('int')\n",
    "print(b)\n",
    "print(b.dtype)\n",
    "b = np.array([0,1,2,-1])\n",
    "c = b.astype('bool')\n",
    "print(c)\n",
    "c = np.array(['11','22','33','44','55'])\n",
    "d = c.astype('float')\n",
    "print(d)\n",
    "d = np.array([10,20,30,40,50,60])\n",
    "e = d.astype('str')\n",
    "print(e)\n",
    "arr = np.array([True , False, True])\n",
    "ar = arr.astype('int')\n",
    "print(ar)\n",
    "arr = np.array([1+2j,2+3j,3+4j,4+5j])\n",
    "ar = arr.astype('bool')\n",
    "print(ar)\n",
    "arr = np.array([True , False])\n",
    "ar = arr.astype('complex')\n",
    "print(ar)\n",
    "ar = np.array([[1,2,3,4,5,6,7]])\n",
    "a = ar.astype('float')\n",
    "print(a)"
   ]
  },
  {
   "cell_type": "code",
   "execution_count": 77,
   "id": "269ba8f3",
   "metadata": {},
   "outputs": [
    {
     "name": "stdout",
     "output_type": "stream",
     "text": [
      "[1 2 3 4 5 6 7]\n",
      "[100   2   3   4   5   6   7]\n",
      "[[10 20 30 40 50]]\n",
      "[[ 10 400  30  40  50]]\n",
      "[[10.1 20.1 30.1 40.1]]\n",
      "[[10.1 20.1 30.1 30. ]]\n",
      "[11 22 33 44 55 60]\n",
      "[11 22 33 44 55 66]\n",
      "[[[1 2 3 4 5 6 7 8]]]\n",
      "[[[ 1  2  3  4  5 60  7  8]]]\n"
     ]
    }
   ],
   "source": [
    "# copy\n",
    "ar = np.array([1,2,3,4,5,6,7])\n",
    "arr = ar.copy()\n",
    "arr[0] = 100\n",
    "print(ar)\n",
    "print(arr)\n",
    "arr = np.array([[10,20,30,40,50]])\n",
    "a = arr.copy()\n",
    "a[0][1] = 400\n",
    "print(arr)\n",
    "print(a)\n",
    "arr = np.array([[10.1,20.1,30.1,40.1]])\n",
    "a = arr.copy()\n",
    "a[0][3] = 30\n",
    "print(arr)\n",
    "print(a)\n",
    "ar = np.array([11,22,33,44,55,66])\n",
    "a = ar.copy()\n",
    "a[5] = 60\n",
    "print(a)\n",
    "print(ar)\n",
    "a = np.array([[[1,2,3,4,5,6,7,8]]])\n",
    "b = a.copy()\n",
    "b[0][0][5] = 60\n",
    "print(a)\n",
    "print(b)"
   ]
  },
  {
   "cell_type": "code",
   "execution_count": 85,
   "id": "31c823fd",
   "metadata": {},
   "outputs": [
    {
     "name": "stdout",
     "output_type": "stream",
     "text": [
      "[ 1  2  3 40  5  6]\n",
      "[ 1  2  3 40  5  6]\n",
      "[[10 20 30  4 50]]\n",
      "[[10 20 30  4 50]]\n",
      "[[[ 1.1  2.1  3.1  4.1 50. ]]]\n",
      "[[[ 1.1  2.1  3.1  4.1 50. ]]]\n",
      "[ 1 10  3  4  5  6  7]\n",
      "[ 1 10  3  4  5  6  7]\n",
      "[[100   1 300]]\n",
      "[[100   1 300]]\n"
     ]
    }
   ],
   "source": [
    "# view \n",
    "arr = np.array([1,2,3,4,5,6])\n",
    "ar = arr.view()\n",
    "ar[3]=40\n",
    "print(arr)\n",
    "print(ar)\n",
    "a = np.array([[10,20,30,40,50]])\n",
    "b = a.view()\n",
    "b[0][3] = 4\n",
    "print(a)\n",
    "print(b)\n",
    "b = np.array([[[1.1,2.1,3.1,4.1,5.1]]])\n",
    "c = b.view()\n",
    "c[0][0][4] = 50\n",
    "print(b)\n",
    "print(c)\n",
    "x = np.array([1,2,3,4,5,6,7])\n",
    "y = x.view()\n",
    "y[1] = 10\n",
    "print(x)\n",
    "print(y)\n",
    "y = np.array([[100,200,300]])\n",
    "z = y.view()\n",
    "z[0][1] = 1\n",
    "print(y)\n",
    "print(z)"
   ]
  },
  {
   "cell_type": "code",
   "execution_count": 96,
   "id": "c1da8cdf",
   "metadata": {},
   "outputs": [
    {
     "name": "stdout",
     "output_type": "stream",
     "text": [
      "None\n",
      "[1 2 3 4 5]\n",
      "None\n",
      "[[10 20 30 40]]\n",
      "None\n",
      "[[[11 22 33 44 55]]]\n",
      "None\n",
      "[[ 1.1  2.2 20.   4.4]]\n",
      "None\n",
      "[[[ 1 20  3  4  5  6  7]]]\n"
     ]
    }
   ],
   "source": [
    "# base\n",
    "ar = np.array([1,2,3,4,5])\n",
    "a = ar.copy()\n",
    "b = ar.view()\n",
    "print(a.base)\n",
    "print(b.base)\n",
    "arr = np.array([[10,20,30,40]])\n",
    "a = arr.copy()\n",
    "b = arr.view()\n",
    "print(a.base)\n",
    "print(b.base)\n",
    "ar = np.array([[[11,22,33,44,55]]])\n",
    "a = ar.copy()\n",
    "b = ar.view()\n",
    "print(a.base)\n",
    "print(b.base)\n",
    "a = np.array([[1.1,2.2,3.3,4.4]])\n",
    "b = a.copy()\n",
    "c = a.view()\n",
    "c[0][2] = 20\n",
    "print(b.base)\n",
    "print(c.base)\n",
    "a = np.array([[[1,2,3,4,5,6,7]]])\n",
    "b = a.copy()\n",
    "c = a.view()\n",
    "c[0][0][1] = 20\n",
    "print(b.base)\n",
    "print(c.base)\n",
    "     \n",
    "     \n",
    "     "
   ]
  },
  {
   "cell_type": "code",
   "execution_count": 144,
   "id": "dfa55378",
   "metadata": {},
   "outputs": [
    {
     "name": "stdout",
     "output_type": "stream",
     "text": [
      "[1 2 3 4 5 6 7 8 9]\n",
      "9\n",
      "(9,)\n",
      "[1 2 3 4 5 6 7 8 9]\n",
      "[[1]\n",
      " [2]\n",
      " [3]\n",
      " [4]\n",
      " [5]\n",
      " [6]\n",
      " [7]\n",
      " [8]\n",
      " [9]]\n",
      "[[[1]\n",
      "  [2]\n",
      "  [3]]\n",
      "\n",
      " [[4]\n",
      "  [5]\n",
      "  [6]]\n",
      "\n",
      " [[7]\n",
      "  [8]\n",
      "  [9]]]\n",
      "[10 20 30 40 50 60]\n",
      "6\n",
      "(6,)\n",
      "[10 20 30 40 50 60]\n",
      "[[10 20]\n",
      " [30 40]\n",
      " [50 60]]\n",
      "[[[10]\n",
      "  [20]\n",
      "  [30]]\n",
      "\n",
      " [[40]\n",
      "  [50]\n",
      "  [60]]]\n",
      "[11 22 33 44 55 66]\n",
      "[11 22 33 44 55 66]\n",
      "[[11 22 33 44 55 66]]\n",
      "[[[11]\n",
      "  [22]\n",
      "  [33]\n",
      "  [44]\n",
      "  [55]\n",
      "  [66]]]\n",
      "[ 1 12 13 14 15 16]\n",
      "[ 1 12 13 14 15 16]\n",
      "[[ 1]\n",
      " [12]\n",
      " [13]\n",
      " [14]\n",
      " [15]\n",
      " [16]]\n",
      "[[[ 1]\n",
      "  [12]\n",
      "  [13]\n",
      "  [14]\n",
      "  [15]\n",
      "  [16]]]\n"
     ]
    }
   ],
   "source": [
    "# array reshaping\n",
    "# 1 - d array\n",
    "arr = np.array([1,2,3,4,5,6,7,8,9])\n",
    "print(arr)\n",
    "print(arr.size)\n",
    "print(arr.shape)\n",
    "x = arr.reshape(9)\n",
    "y = arr.reshape(9,1)\n",
    "z = arr.reshape(3,3,1)\n",
    "print(x)\n",
    "print(y)\n",
    "print(z)\n",
    "arr = np.array([10,20,30,40,50,60])\n",
    "print(arr)\n",
    "print(arr.size)\n",
    "print(arr.shape)\n",
    "a = arr.reshape(6)\n",
    "b = arr.reshape(3,2)\n",
    "c = arr.reshape(2,3,1)\n",
    "print(a)\n",
    "print(b)\n",
    "print(c)\n",
    "arr = np.array([11,22,33,44,55,66])\n",
    "print(arr)\n",
    "x = arr.reshape(6)\n",
    "y = arr.reshape(1,6)\n",
    "z = arr.reshape(1,6,1)\n",
    "print(x)\n",
    "print(y)\n",
    "print(z)\n",
    "ar = np.array([1,12,13,14,15,16])\n",
    "print(ar)\n",
    "a = ar.reshape(6)\n",
    "print(a)\n",
    "b = ar.reshape(6,1)\n",
    "print(b)\n",
    "c = ar.reshape(1,6,1)\n",
    "print(c)\n"
   ]
  },
  {
   "cell_type": "code",
   "execution_count": 146,
   "id": "f437ad49",
   "metadata": {},
   "outputs": [
    {
     "name": "stdout",
     "output_type": "stream",
     "text": [
      "[[ 1  2  3  4  5  6  7  8  9 10 11 12 13 14]]\n",
      "14\n",
      "(1, 14)\n",
      "[ 1  2  3  4  5  6  7  8  9 10 11 12 13 14]\n",
      "[[ 1]\n",
      " [ 2]\n",
      " [ 3]\n",
      " [ 4]\n",
      " [ 5]\n",
      " [ 6]\n",
      " [ 7]\n",
      " [ 8]\n",
      " [ 9]\n",
      " [10]\n",
      " [11]\n",
      " [12]\n",
      " [13]\n",
      " [14]]\n",
      "[[[ 1]\n",
      "  [ 2]]\n",
      "\n",
      " [[ 3]\n",
      "  [ 4]]\n",
      "\n",
      " [[ 5]\n",
      "  [ 6]]\n",
      "\n",
      " [[ 7]\n",
      "  [ 8]]\n",
      "\n",
      " [[ 9]\n",
      "  [10]]\n",
      "\n",
      " [[11]\n",
      "  [12]]\n",
      "\n",
      " [[13]\n",
      "  [14]]]\n",
      "[[ 1  2  3  4  5  6  7  8  9 10 11 12]]\n",
      "(1, 12)\n",
      "12\n",
      "[ 1  2  3  4  5  6  7  8  9 10 11 12]\n",
      "[ 1  2  3  4  5  6  7  8  9 10 11 12]\n",
      "[[[ 1]\n",
      "  [ 2]\n",
      "  [ 3]]\n",
      "\n",
      " [[ 4]\n",
      "  [ 5]\n",
      "  [ 6]]\n",
      "\n",
      " [[ 7]\n",
      "  [ 8]\n",
      "  [ 9]]\n",
      "\n",
      " [[10]\n",
      "  [11]\n",
      "  [12]]]\n",
      "[[1 2 3 4 5 6]]\n",
      "[1 2 3 4 5 6]\n",
      "[[1]\n",
      " [2]\n",
      " [3]\n",
      " [4]\n",
      " [5]\n",
      " [6]]\n",
      "[[[1]\n",
      "  [2]]\n",
      "\n",
      " [[3]\n",
      "  [4]]\n",
      "\n",
      " [[5]\n",
      "  [6]]]\n"
     ]
    }
   ],
   "source": [
    "# 2 - d array\n",
    "ar = np.array([[1,2,3,4,5,6,7,8,9,10,11,12,13,14]])\n",
    "print(ar)\n",
    "print(ar.size)\n",
    "print(ar.shape)\n",
    "a = ar.reshape(14)\n",
    "print(a)\n",
    "b = ar.reshape(14,1)\n",
    "print(b)\n",
    "c = ar.reshape(7,2,1)\n",
    "print(c)\n",
    "arr = np.array([[1,2,3,4,5,6,7,8,9,10,11,12]])\n",
    "print(arr)\n",
    "print(arr.shape)\n",
    "print(arr.size)\n",
    "a = arr.reshape(-1)\n",
    "print(a)\n",
    "b = arr.reshape(12)\n",
    "print(b)\n",
    "c = arr.reshape(4,3,1)\n",
    "print(c)\n",
    "arr = np.array([[1,2,3,4,5,6]])\n",
    "print(arr)\n",
    "a =arr.reshape(6)\n",
    "b = arr.reshape(6,1)\n",
    "c = arr.reshape(3,2,1)\n",
    "print(a)\n",
    "print(b)\n",
    "print(c)"
   ]
  },
  {
   "cell_type": "code",
   "execution_count": 133,
   "id": "3303f214",
   "metadata": {},
   "outputs": [
    {
     "name": "stdout",
     "output_type": "stream",
     "text": [
      "[[[ 1  2  3  4  5  6  7  8  9 10 11 12 13 14 15 16]]]\n",
      "[ 1  2  3  4  5  6  7  8  9 10 11 12 13 14 15 16]\n",
      "[[ 1]\n",
      " [ 2]\n",
      " [ 3]\n",
      " [ 4]\n",
      " [ 5]\n",
      " [ 6]\n",
      " [ 7]\n",
      " [ 8]\n",
      " [ 9]\n",
      " [10]\n",
      " [11]\n",
      " [12]\n",
      " [13]\n",
      " [14]\n",
      " [15]\n",
      " [16]]\n",
      "[[[ 1]\n",
      "  [ 2]\n",
      "  [ 3]\n",
      "  [ 4]]\n",
      "\n",
      " [[ 5]\n",
      "  [ 6]\n",
      "  [ 7]\n",
      "  [ 8]]\n",
      "\n",
      " [[ 9]\n",
      "  [10]\n",
      "  [11]\n",
      "  [12]]\n",
      "\n",
      " [[13]\n",
      "  [14]\n",
      "  [15]\n",
      "  [16]]]\n",
      "[[[1 2 3 4 5 6 7 8]]]\n",
      "[1 2 3 4 5 6 7 8]\n",
      "[[1 2]\n",
      " [3 4]\n",
      " [5 6]\n",
      " [7 8]]\n",
      "[[[1]\n",
      "  [2]\n",
      "  [3]\n",
      "  [4]]\n",
      "\n",
      " [[5]\n",
      "  [6]\n",
      "  [7]\n",
      "  [8]]]\n",
      "[[[1 2 3 4]]]\n",
      "[1 2 3 4]\n",
      "[[1 2]\n",
      " [3 4]]\n",
      "[[[1]\n",
      "  [2]]\n",
      "\n",
      " [[3]\n",
      "  [4]]]\n"
     ]
    }
   ],
   "source": [
    "# 3 - d array\n",
    "arr = ([[[1,2,3,4,5,6,7,8,9,10,11,12,13,14,15,16]]])\n",
    "ar = np.array(arr)\n",
    "print(ar)\n",
    "a = ar.reshape(16)\n",
    "print(a)\n",
    "b = ar.reshape(16,1)\n",
    "print(b)\n",
    "c = ar.reshape(4,4,1)\n",
    "print(c)\n",
    "ar = np.array([[[1,2,3,4,5,6,7,8]]])\n",
    "print(ar)\n",
    "a = ar.reshape(8)\n",
    "print(a)\n",
    "b = ar.reshape(4,2)\n",
    "print(b)\n",
    "c = ar.reshape(2,4,1)\n",
    "print(c)\n",
    "a = np.array([[[1,2,3,4]]])\n",
    "print(a)\n",
    "x = a.reshape(4)\n",
    "y = a.reshape(2,2)\n",
    "z = a.reshape(2,2,1)\n",
    "print(x)\n",
    "print(y)\n",
    "print(z)"
   ]
  },
  {
   "cell_type": "code",
   "execution_count": 139,
   "id": "69237711",
   "metadata": {},
   "outputs": [
    {
     "name": "stdout",
     "output_type": "stream",
     "text": [
      "[1 2 3 4 5 6]\n",
      "[1 2 3 4 5 6]\n",
      "[[1 2 3 4 5 6 7 8]]\n",
      "[[1]\n",
      " [2]\n",
      " [3]\n",
      " [4]\n",
      " [5]\n",
      " [6]\n",
      " [7]\n",
      " [8]]\n",
      "[[[1]\n",
      "  [2]]\n",
      "\n",
      " [[3]\n",
      "  [4]]\n",
      "\n",
      " [[5]\n",
      "  [6]]\n",
      "\n",
      " [[7]\n",
      "  [8]]]\n",
      "[[[1 2 3 4 5 6 7]]]\n",
      "[1 2 3 4 5 6 7]\n",
      "[[1]\n",
      " [2]\n",
      " [3]\n",
      " [4]\n",
      " [5]\n",
      " [6]\n",
      " [7]]\n",
      "[[[1]]\n",
      "\n",
      " [[2]]\n",
      "\n",
      " [[3]]\n",
      "\n",
      " [[4]]\n",
      "\n",
      " [[5]]\n",
      "\n",
      " [[6]]\n",
      "\n",
      " [[7]]]\n"
     ]
    }
   ],
   "source": [
    "# unknown dimension\n",
    "ar = np.array([1,2,3,4,5,6])\n",
    "print(ar)\n",
    "x = ar.reshape(-1)\n",
    "print(x)\n",
    "arr = np.array([[1,2,3,4,5,6,7,8]])\n",
    "print(arr)\n",
    "x = arr.reshape(8,-1,)\n",
    "print(x)\n",
    "y = arr.reshape(4,2,-1)\n",
    "print(y)\n",
    "a = np.array([[[1,2,3,4,5,6,7]]])\n",
    "print(a)\n",
    "x = a.reshape(7)\n",
    "print(x)\n",
    "y = a.reshape(7,-1)\n",
    "print(y)\n",
    "z = a.reshape(7,1,-1)\n",
    "print(z)"
   ]
  },
  {
   "cell_type": "code",
   "execution_count": 143,
   "id": "2a770e1a",
   "metadata": {},
   "outputs": [
    {
     "name": "stdout",
     "output_type": "stream",
     "text": [
      "[1 2 3 4 5]\n",
      "[1 2 3 4 5]\n",
      "[[1 2 3 4 5]]\n",
      "[[1 2 3 4 5 6]]\n",
      "[1 2 3 4 5 6]\n",
      "[[[1 2 3 4 5 6 7 8]]]\n",
      "[1 2 3 4 5 6 7 8]\n"
     ]
    }
   ],
   "source": [
    "# flattening an array\n",
    "arr = np.array([1,2,3,4,5])\n",
    "print(arr)\n",
    "a = arr.reshape(-1)\n",
    "print(a)\n",
    "b = arr.reshape(-1,5)\n",
    "print(b)\n",
    "ar = np.array([[1,2,3,4,5,6]])\n",
    "print(ar)\n",
    "a = ar.reshape(-1)\n",
    "print(a)\n",
    "arr = np.array([[[1,2,3,4,5,6,7,8]]])\n",
    "print(arr)\n",
    "a = arr.reshape(-1)\n",
    "print(a)"
   ]
  },
  {
   "cell_type": "code",
   "execution_count": 153,
   "id": "378d7d09",
   "metadata": {},
   "outputs": [
    {
     "name": "stdout",
     "output_type": "stream",
     "text": [
      "[1 2 3 4 5 6 7]\n",
      "1\n",
      "2\n",
      "3\n",
      "4\n",
      "5\n",
      "6\n",
      "7\n",
      "[10 20 30 40 50]\n",
      "10\n",
      "20\n",
      "30\n",
      "40\n",
      "50\n",
      "[1.1 2.2 3.3 4.4 5.5]\n",
      "1.1\n",
      "2.2\n",
      "3.3\n",
      "4.4\n",
      "5.5\n",
      "[100 200 300 400]\n",
      "100\n",
      "200\n",
      "300\n",
      "400\n",
      "['1' '2' '3' '4' '5']\n",
      "1\n",
      "2\n",
      "3\n",
      "4\n",
      "5\n"
     ]
    }
   ],
   "source": [
    "# numpy array iterating\n",
    "arr = np.array([1,2,3,4,5,6,7])\n",
    "print(arr)\n",
    "for i in arr:\n",
    "    print(i)\n",
    "    \n",
    "ar = np.array([10,20,30,40,50])\n",
    "print(ar)\n",
    "for x in ar:\n",
    "    print(x)\n",
    "arr = np.array([1.1,2.2,3.3,4.4,5.5])\n",
    "print(a)\n",
    "for i in arr:\n",
    "    print(i)\n",
    "ar = np.array([100,200,300,400])\n",
    "print(ar)\n",
    "for x in ar:\n",
    "    print(x)\n",
    "arr = np.array(['1','2','3','4','5'])\n",
    "print(arr)\n",
    "for x in arr:\n",
    "    print(x)"
   ]
  },
  {
   "cell_type": "code",
   "execution_count": 160,
   "id": "0eec0b74",
   "metadata": {},
   "outputs": [
    {
     "name": "stdout",
     "output_type": "stream",
     "text": [
      "[[1 2 3 4 5 6 7]]\n",
      "[1 2 3 4 5 6 7]\n",
      "1\n",
      "2\n",
      "3\n",
      "4\n",
      "5\n",
      "6\n",
      "7\n",
      "[[1.1 2.2 3.3 4.4 5.5]]\n",
      "[1.1 2.2 3.3 4.4 5.5]\n",
      "1.1\n",
      "2.2\n",
      "3.3\n",
      "4.4\n",
      "5.5\n",
      "[[10 20 30 40 50 60]]\n",
      "[10 20 30 40 50 60]\n",
      "10\n",
      "20\n",
      "30\n",
      "40\n",
      "50\n",
      "60\n",
      "[[11 22 33 44 55 66]]\n",
      "[11 22 33 44 55 66]\n",
      "11\n",
      "22\n",
      "33\n",
      "44\n",
      "55\n",
      "66\n",
      "[['11' '22' '33' '44' '55']]\n",
      "['11' '22' '33' '44' '55']\n",
      "11\n",
      "22\n",
      "33\n",
      "44\n",
      "55\n"
     ]
    }
   ],
   "source": [
    "# iterating 2 - d array\n",
    "arr = np.array([[1,2,3,4,5,6,7]])\n",
    "print(arr)\n",
    "for x in arr:\n",
    "    print(x)\n",
    "    for y in x:\n",
    "        print(y)\n",
    "ar = np.array([[1.1,2.2,3.3,4.4,5.5]])\n",
    "print(ar)\n",
    "for x in  ar:\n",
    "    print(x)\n",
    "    for y in x:\n",
    "        print(y)\n",
    "a = np.array([[10,20,30,40,50,60]])\n",
    "print(a)\n",
    "for i in a:\n",
    "    print(i)\n",
    "    for x in i:\n",
    "        print(x)\n",
    "b = np.array([[11,22,33,44,55,66]])\n",
    "print(b)\n",
    "for i in b:\n",
    "    print(i)\n",
    "    for x in i:\n",
    "        print(x)\n",
    "c = np.array([['11','22','33','44','55']])\n",
    "print(c)\n",
    "for x in c:\n",
    "    print(x)\n",
    "    for y in x:\n",
    "        print(y)"
   ]
  },
  {
   "cell_type": "code",
   "execution_count": 175,
   "id": "6ec3037d",
   "metadata": {},
   "outputs": [
    {
     "name": "stdout",
     "output_type": "stream",
     "text": [
      "[[[1 2 3 4 5 6 7 8]]]\n",
      "[[1 2 3 4 5 6 7 8]]\n",
      "[1 2 3 4 5 6 7 8]\n",
      "1\n",
      "2\n",
      "3\n",
      "4\n",
      "5\n",
      "6\n",
      "7\n",
      "8\n",
      "[[[11 22 33 44 55]]]\n",
      "[[11 22 33 44 55]]\n",
      "[11 22 33 44 55]\n",
      "11\n",
      "22\n",
      "33\n",
      "44\n",
      "55\n",
      "[[['1' '2' '3' '4' '5']]]\n",
      "[['1' '2' '3' '4' '5']]\n",
      "['1' '2' '3' '4' '5']\n",
      "1\n",
      "2\n",
      "3\n",
      "4\n",
      "5\n",
      "[[[10 20 30 40 50]]]\n",
      "[[10 20 30 40 50]]\n",
      "[10 20 30 40 50]\n",
      "10\n",
      "20\n",
      "30\n",
      "40\n",
      "50\n",
      "[[[11 12 13 14 15 16]]]\n",
      "[[11 12 13 14 15 16]]\n",
      "[11 12 13 14 15 16]\n",
      "11\n",
      "12\n",
      "13\n",
      "14\n",
      "15\n",
      "16\n",
      "[[[ 1  2  3]\n",
      "  [ 4  5  6]]\n",
      "\n",
      " [[ 7  8  9]\n",
      "  [10 11 12]]]\n",
      "[[1 2 3]\n",
      " [4 5 6]]\n",
      "[1 2 3]\n",
      "1\n",
      "2\n",
      "3\n",
      "[4 5 6]\n",
      "4\n",
      "5\n",
      "6\n",
      "[[ 7  8  9]\n",
      " [10 11 12]]\n",
      "[7 8 9]\n",
      "7\n",
      "8\n",
      "9\n",
      "[10 11 12]\n",
      "10\n",
      "11\n",
      "12\n"
     ]
    }
   ],
   "source": [
    "# iterating 3 - d array\n",
    "arr = np.array([[[1,2,3,4,5,6,7,8]]])\n",
    "print(arr)\n",
    "for x in arr:\n",
    "    print(x)\n",
    "    for y in x:\n",
    "        print(y)\n",
    "        for z in y:\n",
    "            print(z)\n",
    "            \n",
    "ar = np.array([[[11,22,33,44,55]]])\n",
    "print(ar)\n",
    "for x in ar:\n",
    "    print(x)\n",
    "    for y in x:\n",
    "        print(y)\n",
    "        for z in y:\n",
    "            print(z)\n",
    "a =np.array([[['1','2','3','4','5']]])\n",
    "print(a)\n",
    "for x in a:\n",
    "    print(x)\n",
    "    for y in x:\n",
    "        print(y)\n",
    "        for z in y:\n",
    "            print(z)\n",
    "b = np.array([[[10,20,30,40,50]]])\n",
    "print(b)\n",
    "for x in b:\n",
    "    print(x)\n",
    "    for y in x:\n",
    "        print(y)\n",
    "        for z in y:\n",
    "            print(z)\n",
    "c = np.array([[[11,12,13,14,15,16]]])\n",
    "print(c)\n",
    "for a in c:\n",
    "    print(a)\n",
    "    for b in a:\n",
    "        print(b)\n",
    "        for d in b:\n",
    "            print(d)\n",
    "d = np.array([[[1,2,3],[4,5,6]],[[7,8,9],[10,11,12]]])\n",
    "print(d)\n",
    "for x in d:\n",
    "    print(x)\n",
    "    for y in x:\n",
    "        print(y)\n",
    "        for z in y:\n",
    "            print(z)"
   ]
  },
  {
   "cell_type": "code",
   "execution_count": 174,
   "id": "98745eeb",
   "metadata": {},
   "outputs": [
    {
     "name": "stdout",
     "output_type": "stream",
     "text": [
      "[1 2 3 4 5 6 7]\n",
      "1\n",
      "2\n",
      "3\n",
      "4\n",
      "5\n",
      "6\n",
      "7\n",
      "[[10 20 30 40 50]]\n",
      "10\n",
      "20\n",
      "30\n",
      "40\n",
      "50\n",
      "[[[11 22 33 44 55 66]]]\n",
      "11\n",
      "22\n",
      "33\n",
      "44\n",
      "55\n",
      "66\n",
      "['1' '2' '3' '4' '5']\n",
      "1\n",
      "2\n",
      "3\n",
      "4\n",
      "5\n",
      "[[['10' '20' '30' '40' '50']]]\n",
      "10\n",
      "20\n",
      "30\n",
      "40\n",
      "50\n"
     ]
    }
   ],
   "source": [
    "# iterating array using nditer()\n",
    "arr = np.array([1,2,3,4,5,6,7])\n",
    "print(arr)\n",
    "for x in np.nditer(arr):\n",
    "    print(x)\n",
    "ar = np.array([[10,20,30,40,50]])\n",
    "print(ar)\n",
    "for x in np.nditer(ar):\n",
    "    print(x)\n",
    "a = np.array([[[11,22,33,44,55,66]]])\n",
    "print(a)\n",
    "for x in np.nditer(a):\n",
    "    print(x)\n",
    "b = np.array(['1','2','3','4','5'])\n",
    "print(b)\n",
    "for x in np.nditer(b):\n",
    "    print(x)\n",
    "c = np.array([[['10','20','30','40','50']]])\n",
    "print(c)\n",
    "for x in np.nditer(c):\n",
    "    print(x)"
   ]
  },
  {
   "cell_type": "code",
   "execution_count": 181,
   "id": "3fe492d9",
   "metadata": {},
   "outputs": [
    {
     "name": "stdout",
     "output_type": "stream",
     "text": [
      "[1 2 3 4 5 6]\n",
      "b'1'\n",
      "b'2'\n",
      "b'3'\n",
      "b'4'\n",
      "b'5'\n",
      "b'6'\n",
      "[[1 2 3]\n",
      " [4 5 6]]\n",
      "1\n",
      "2\n",
      "3\n",
      "4\n",
      "5\n",
      "6\n",
      "[[[ 1  2  3]\n",
      "  [ 4  5  6]\n",
      "  [ 7  8  9]\n",
      "  [10 11 12]]]\n",
      "1.0\n",
      "2.0\n",
      "3.0\n",
      "4.0\n",
      "5.0\n",
      "6.0\n",
      "7.0\n",
      "8.0\n",
      "9.0\n",
      "10.0\n",
      "11.0\n",
      "12.0\n",
      "[[['10' '20' '30' '40' '50']]]\n",
      "10\n",
      "20\n",
      "30\n",
      "40\n",
      "50\n",
      "[[10 20 30]\n",
      " [40 50 60]]\n",
      "10.0\n",
      "20.0\n",
      "30.0\n",
      "40.0\n",
      "50.0\n",
      "60.0\n"
     ]
    }
   ],
   "source": [
    "# casting array element from one type to another type\n",
    "arr = np.array([1,2,3,4,5,6])\n",
    "print(arr)\n",
    "for x in np.nditer(arr, flags = ['buffered'], op_dtypes = ['S']):\n",
    "    print(x)\n",
    "ar = np.array([[1,2,3],[4,5,6]])\n",
    "print(ar)\n",
    "for x in np.nditer(ar, flags = ['buffered'], op_dtypes = ['U']):\n",
    "    print(x)\n",
    "a = np.array([[[1,2,3],[4,5,6],[7,8,9],[10,11,12]]])\n",
    "print(a)\n",
    "for x in np.nditer(a, flags = ['buffered'], op_dtypes = ['float']):\n",
    "    print(x)\n",
    "b = np.array([[['10','20','30','40','50']]])\n",
    "print(b)\n",
    "for b in np.nditer(b, flags = ['buffered'], op_dtypes = ['U']):\n",
    "    print(b)\n",
    "c = np.array([[10,20,30],[40,50,60]])\n",
    "print(c)\n",
    "for x in np.nditer(c, flags = ['buffered'], op_dtypes = ['float']):\n",
    "    print(x)"
   ]
  },
  {
   "cell_type": "code",
   "execution_count": 13,
   "id": "3de1c90b",
   "metadata": {},
   "outputs": [
    {
     "name": "stdout",
     "output_type": "stream",
     "text": [
      "[1 2 3 4 5]\n",
      "<class 'numpy.ndarray'>\n",
      "[1 2 3 4 5 6 7 8]\n",
      "<class 'numpy.ndarray'>\n",
      "[11 22 33 44 55]\n",
      "<class 'numpy.ndarray'>\n",
      "100\n",
      "0\n",
      "[1 2 3 4 5 6]\n",
      "1\n",
      "[[10 20 30 40 50]]\n",
      "2\n",
      "[[[ 10  20  30  40  50]\n",
      "  [ 60  70  80  90 100]]]\n",
      "3\n"
     ]
    }
   ],
   "source": [
    "import numpy as np\n",
    "arr = np.array([1,2,3,4,5])\n",
    "print(arr)\n",
    "print(type(arr))\n",
    "l = [1,2,3,4,5,6,7,8]\n",
    "ar = np.array(l)\n",
    "print(ar)\n",
    "print(type(ar))\n",
    "tup = (11,22,33,44,55)\n",
    "ar = np.array(tup)\n",
    "print(ar)\n",
    "print(type(ar))\n",
    "ar = np.array(100)\n",
    "print(ar)\n",
    "print(ar.ndim)\n",
    "tup = (1,2,3,4,5,6)\n",
    "ar = np.array(tup)\n",
    "print(ar)\n",
    "print(ar.ndim)\n",
    "l = [[10,20,30,40,50]]\n",
    "ar = np.array(l)\n",
    "print(ar)\n",
    "print(ar.ndim)\n",
    "tup = ([[[10,20,30,40,50],[60,70,80,90,100]]])\n",
    "ar = np.array(tup)\n",
    "print(ar)\n",
    "print(ar.ndim)"
   ]
  },
  {
   "cell_type": "code",
   "execution_count": 29,
   "id": "e52eb9f5",
   "metadata": {},
   "outputs": [
    {
     "name": "stdout",
     "output_type": "stream",
     "text": [
      "[1 2 3 4 5 6 7 8 9]\n",
      "1\n",
      "1\n",
      "9\n",
      "4\n",
      "[[1 2 3 4]\n",
      " [5 6 7 8]]\n",
      "2\n",
      "1\n",
      "3\n",
      "2\n",
      "[[[ 1  2  3  4  5]\n",
      "  [ 6  7  8  9 10]]]\n",
      "3\n",
      "2\n",
      "10\n",
      "[1 2 3]\n",
      "[7 8 9]\n"
     ]
    }
   ],
   "source": [
    "# accessing array\n",
    "arr = ([1,2,3,4,5,6,7,8,9])\n",
    "ar = np.array(arr)\n",
    "print(ar)\n",
    "print(ar.ndim)\n",
    "print(ar[0])\n",
    "print(ar[-1])\n",
    "print(ar[3])\n",
    "ar = np.array([[1,2,3,4],[5,6,7,8]])\n",
    "print(ar)\n",
    "print(ar.ndim)\n",
    "print(ar[0][0])\n",
    "print(ar[0][2])\n",
    "print(ar[0,1])\n",
    "ar = np.array([[[1,2,3,4,5],[6,7,8,9,10]]])\n",
    "print(ar)\n",
    "print(ar.ndim)\n",
    "print(ar[0][0][1])\n",
    "print(ar[0][1][-1])\n",
    "print(ar[0,0,0:3])\n",
    "print(ar[0,1,1:4])"
   ]
  },
  {
   "cell_type": "code",
   "execution_count": 30,
   "id": "b692d378",
   "metadata": {},
   "outputs": [
    {
     "name": "stdout",
     "output_type": "stream",
     "text": [
      "0\n",
      "1\n",
      "2\n",
      "3\n"
     ]
    }
   ],
   "source": [
    "a = np.array(10)\n",
    "b = np.array([1,2,3,4,5])\n",
    "c = np.array([[10,20,30,40,50]])\n",
    "d = np.array([[[100,200,300,400]]])\n",
    "print(a.ndim)\n",
    "print(b.ndim)\n",
    "print(c.ndim)\n",
    "print(d.ndim)"
   ]
  },
  {
   "cell_type": "code",
   "execution_count": 31,
   "id": "300d4787",
   "metadata": {},
   "outputs": [
    {
     "name": "stdout",
     "output_type": "stream",
     "text": [
      "[[[[10 20 30 40]]]]\n"
     ]
    }
   ],
   "source": [
    "arr = np.array([10,20,30,40], ndmin = 4)\n",
    "print(arr)"
   ]
  },
  {
   "cell_type": "code",
   "execution_count": 59,
   "id": "ae4b4979",
   "metadata": {},
   "outputs": [
    {
     "name": "stdout",
     "output_type": "stream",
     "text": [
      "[1 2 3 4 5 6 7 8 9]\n",
      "[1 2 3]\n",
      "[2 3 4]\n",
      "[8 9]\n",
      "[2 3 4 5 6 7 8]\n",
      "[[10 20 30]\n",
      " [40 50 60]]\n",
      "[10 20]\n",
      "[50]\n",
      "[[30]\n",
      " [60]]\n",
      "[[[ 11  22  33  44]\n",
      "  [ 55  66  77  88]]\n",
      "\n",
      " [[ 99 100 110 120]\n",
      "  [130 140 150 160]]]\n",
      "[[[33]\n",
      "  [77]]]\n",
      "[[[110]\n",
      "  [150]]]\n",
      "[[[ 44]\n",
      "  [ 88]]\n",
      "\n",
      " [[120]\n",
      "  [160]]]\n",
      "[[[ 11  22]\n",
      "  [ 55  66]]\n",
      "\n",
      " [[ 99 100]\n",
      "  [130 140]]]\n"
     ]
    }
   ],
   "source": [
    "# slicing array\n",
    "ar = np.array([1,2,3,4,5,6,7,8,9])\n",
    "print(ar)\n",
    "print(ar[0:3])\n",
    "print(ar[1:4])\n",
    "print(ar[7:])\n",
    "print(ar[1:-1])\n",
    "arr = np.array([[10,20,30],[40,50,60]])\n",
    "print(arr)\n",
    "print(arr[0,0:2])\n",
    "print(arr[1,1:2])\n",
    "print(arr[0:,2:])\n",
    "arr = np.array([[[11,22,33,44],[55,66,77,88]],[[99,100,110,120],[130,140,150,160]]])\n",
    "print(arr)\n",
    "print(arr[:1,0:2,2:3])\n",
    "print(arr[1:2,0:2,2:3])\n",
    "print(arr[:,:,3:])\n",
    "print(arr[:,:,0:2,])"
   ]
  },
  {
   "cell_type": "code",
   "execution_count": 61,
   "id": "ca819183",
   "metadata": {},
   "outputs": [
    {
     "name": "stdout",
     "output_type": "stream",
     "text": [
      "[ 1  2  3  4  5  6  7  8  9 10]\n",
      "[1 3]\n",
      "[2]\n"
     ]
    }
   ],
   "source": [
    "arr = np.array([1,2,3,4,5,6,7,8,9,10])\n",
    "print(arr)\n",
    "print(arr[0:3:2])\n",
    "print(arr[1:5:5])"
   ]
  },
  {
   "cell_type": "code",
   "execution_count": 68,
   "id": "1dd18d2f",
   "metadata": {},
   "outputs": [
    {
     "name": "stdout",
     "output_type": "stream",
     "text": [
      "[[1 2 3 4 5 6 7 8 9 0]]\n",
      "[2]\n",
      "[3]\n",
      "[1 3 5]\n",
      "[2 6]\n"
     ]
    }
   ],
   "source": [
    "arr = np.array([[1,2,3,4,5,6,7,8,9,0]])\n",
    "print(arr)\n",
    "print(arr[0:3,1])\n",
    "print(arr[:,2])\n",
    "print(arr[0,0:5:2])\n",
    "print(arr[0,1:7:4])"
   ]
  },
  {
   "cell_type": "code",
   "execution_count": 71,
   "id": "08d60621",
   "metadata": {},
   "outputs": [
    {
     "name": "stdout",
     "output_type": "stream",
     "text": [
      "[[[10 20 30 40 50 60 70]]]\n",
      "[30]\n",
      "[[20 40]]\n",
      "[[10 30 50 70]]\n"
     ]
    }
   ],
   "source": [
    "arr = np.array([[[10,20,30,40,50,60,70]]])\n",
    "print(arr)\n",
    "print(arr[0,0:3,2])\n",
    "print(arr[0,0:2,1:5:2])\n",
    "print(arr[0,0:1,0:8:2])"
   ]
  },
  {
   "cell_type": "code",
   "execution_count": 76,
   "id": "8e05c4d0",
   "metadata": {},
   "outputs": [
    {
     "name": "stdout",
     "output_type": "stream",
     "text": [
      "[1 2 3 4 5 6 7 8 9]\n",
      "int32\n",
      "[1.1 2.2 3.3 4.4 5.5]\n",
      "float64\n",
      "['11' '22' '33' '44' '55']\n",
      "<U2\n",
      "[ True False]\n",
      "bool\n",
      "[0.+1.j 2.+3.j 4.+5.j]\n",
      "complex128\n"
     ]
    }
   ],
   "source": [
    "# date type array\n",
    "ar = np.array([1,2,3,4,5,6,7,8,9])\n",
    "print(ar)\n",
    "print(ar.dtype)\n",
    "ar = np.array([1.1,2.2,3.3,4.4,5.5])\n",
    "print(ar)\n",
    "print(ar.dtype)\n",
    "ar = np.array(['11','22','33','44','55'])\n",
    "print(ar)\n",
    "print(ar.dtype)\n",
    "ar = np.array([True , False])\n",
    "print(ar)\n",
    "print(ar.dtype)\n",
    "ar = np.array([0+1j,2+3j,4+5j])\n",
    "print(ar)\n",
    "print(ar.dtype)"
   ]
  },
  {
   "cell_type": "code",
   "execution_count": 87,
   "id": "87869e38",
   "metadata": {},
   "outputs": [
    {
     "name": "stdout",
     "output_type": "stream",
     "text": [
      "[10 20 30 40]\n",
      "int32\n",
      "[10.2 10.3 10.4 10.5]\n",
      "float64\n",
      "[ True False]\n",
      "bool\n",
      "[10.+2.j  3.+4.j  5.+6.j]\n",
      "complex128\n",
      "[10. 20. 30. 40.]\n",
      "[1 2 3 4 5 6 7]\n",
      "int16\n",
      "[10 20 30 40 50]\n",
      "int32\n",
      "[11 22 33 44 55 66]\n",
      "int64\n"
     ]
    }
   ],
   "source": [
    "arr = np.array([10,20,30,40], dtype = 'int')\n",
    "print(arr)\n",
    "print(arr.dtype)\n",
    "arr = np.array([10.2,10.3,10.4,10.5], dtype = 'float')\n",
    "print(arr)\n",
    "print(arr.dtype)\n",
    "arr = np.array([True, False], dtype = 'bool')\n",
    "print(arr)\n",
    "print(arr.dtype)\n",
    "arr = np.array([10+2j,3+4j,5+6j], dtype = 'complex')\n",
    "print(arr)\n",
    "print(arr.dtype)\n",
    "arr = np.array([10,20,30,40], dtype = 'float')\n",
    "print(arr)\n",
    "arr = np.array([1,2,3,4,5,6,7], dtype = 'i2')\n",
    "print(arr)\n",
    "print(arr.dtype)\n",
    "arr = np.array([10,20,30,40,50],dtype = 'i4')\n",
    "print(arr)\n",
    "print(arr.dtype)\n",
    "arr = np.array([11,22,33,44,55,66], dtype = 'i8')\n",
    "print(arr)\n",
    "print(arr.dtype)"
   ]
  },
  {
   "cell_type": "code",
   "execution_count": 92,
   "id": "aab850c8",
   "metadata": {},
   "outputs": [
    {
     "name": "stdout",
     "output_type": "stream",
     "text": [
      "[10 20 30 40 50 60]\n",
      "[10. 20. 30. 40. 50. 60.]\n",
      "[1.1 2.2 3.3 4.4 5.5]\n",
      "[1 2 3 4 5]\n",
      "[ True False  True]\n",
      "[1 0 1]\n",
      "[1.+2.j 3.+4.j 5.+6.j]\n",
      "[ True  True  True]\n",
      "['11' '22' '33' '44' '55']\n",
      "[11. 22. 33. 44. 55.]\n"
     ]
    }
   ],
   "source": [
    "# date type conversion\n",
    "arr = np.array([10,20,30,40,50,60])\n",
    "a = arr.astype('float')\n",
    "print(arr)\n",
    "print(a)\n",
    "arr = np.array([1.1,2.2,3.3,4.4,5.5])\n",
    "a = arr.astype('int')\n",
    "print(arr)\n",
    "print(a)\n",
    "a = np.array([True, False, True])\n",
    "b = a.astype('int')\n",
    "print(a)\n",
    "print(b)\n",
    "a = np.array([1+2j,3+4j,5+6j])\n",
    "b = a.astype('bool')\n",
    "print(a)\n",
    "print(b)\n",
    "a = np.array(['11','22','33','44','55'])\n",
    "b = a.astype('float')\n",
    "print(a)\n",
    "print(b)"
   ]
  },
  {
   "cell_type": "code",
   "execution_count": 96,
   "id": "d4d2d49a",
   "metadata": {},
   "outputs": [
    {
     "name": "stdout",
     "output_type": "stream",
     "text": [
      "[10 20 30 40 50]\n",
      "[100  20  30  40  50]\n",
      "[[11 22 33 44 55]]\n",
      "[[20 22 33 44 55]]\n",
      "[[[100 200 300 400 500]]]\n",
      "[[[100 200 300   4 500]]]\n"
     ]
    }
   ],
   "source": [
    "# copy\n",
    "a = np.array([10,20,30,40,50])\n",
    "b = a.copy()\n",
    "b[0] = 100\n",
    "print(a)\n",
    "print(b)\n",
    "a = np.array([[11,22,33,44,55]])\n",
    "b = a.copy()\n",
    "b[0,0] = 20\n",
    "print(a)\n",
    "print(b)\n",
    "a = np.array([[[100,200,300,400,500]]])\n",
    "b = a.copy()\n",
    "b[0,0,3] = 4\n",
    "print(a)\n",
    "print(b)"
   ]
  },
  {
   "cell_type": "code",
   "execution_count": 99,
   "id": "70910438",
   "metadata": {},
   "outputs": [
    {
     "name": "stdout",
     "output_type": "stream",
     "text": [
      "[10 20 30 40  5]\n",
      "[10 20 30 40  5]\n",
      "[[ 11  22  33 400  55]]\n",
      "[[ 11  22  33 400  55]]\n",
      "[[[  1   2   3   4   5   6   7 800]]]\n",
      "[[[  1   2   3   4   5   6   7 800]]]\n"
     ]
    }
   ],
   "source": [
    "# view\n",
    "a = np.array([10,20,30,40,50])\n",
    "b = a.view()\n",
    "b[4] = 5\n",
    "print(a)\n",
    "print(b)\n",
    "arr = np.array([[11,22,33,44,55]])\n",
    "a = arr.view()\n",
    "a[0,3] = 400\n",
    "print(arr)\n",
    "print(a)\n",
    "ar = np.array([[[1,2,3,4,5,6,7,8]]])\n",
    "a = ar.view()\n",
    "a[0,0,-1] = 800\n",
    "print(ar)\n",
    "print(a)"
   ]
  },
  {
   "cell_type": "code",
   "execution_count": 102,
   "id": "0d8d6a9b",
   "metadata": {},
   "outputs": [
    {
     "name": "stdout",
     "output_type": "stream",
     "text": [
      "None\n",
      "[11 12 13 14 15]\n",
      "None\n",
      "[[10 20 30 40 50 60]]\n",
      "None\n",
      "[[[11 22 30 44 55 66]]]\n"
     ]
    }
   ],
   "source": [
    "# base\n",
    "a = np.array([11,12,13,14,15])\n",
    "b = a.copy()\n",
    "c = a.view()\n",
    "print(b.base)\n",
    "print(c.base)\n",
    "arr = np.array([[10,20,30,40,50,60]])\n",
    "a = arr.copy()\n",
    "b = arr.view()\n",
    "print(a.base)\n",
    "print(b.base)\n",
    "ar = np.array([[[11,22,33,44,55,66]]])\n",
    "a = ar.copy()\n",
    "b = ar.view()\n",
    "b[0,0,2]= 30\n",
    "print(a.base)\n",
    "print(b.base)"
   ]
  },
  {
   "cell_type": "code",
   "execution_count": 111,
   "id": "d19b2295",
   "metadata": {},
   "outputs": [
    {
     "name": "stdout",
     "output_type": "stream",
     "text": [
      "[[11 22 33 44 55 66]]\n",
      "[[[11]]\n",
      "\n",
      " [[22]]\n",
      "\n",
      " [[33]]\n",
      "\n",
      " [[44]]\n",
      "\n",
      " [[55]]\n",
      "\n",
      " [[66]]]\n",
      "[11 22 33 44 55 66]\n",
      "[1 2 3 4 5 6 7 8 9]\n",
      "[[[1]\n",
      "  [2]\n",
      "  [3]]\n",
      "\n",
      " [[4]\n",
      "  [5]\n",
      "  [6]]\n",
      "\n",
      " [[7]\n",
      "  [8]\n",
      "  [9]]]\n",
      "[[1]\n",
      " [2]\n",
      " [3]\n",
      " [4]\n",
      " [5]\n",
      " [6]\n",
      " [7]\n",
      " [8]\n",
      " [9]]\n",
      "[[[ 1  2  3  4  5  6  7  8  9 10 11 12 13 14]]]\n",
      "[ 1  2  3  4  5  6  7  8  9 10 11 12 13 14]\n",
      "[[ 1  2]\n",
      " [ 3  4]\n",
      " [ 5  6]\n",
      " [ 7  8]\n",
      " [ 9 10]\n",
      " [11 12]\n",
      " [13 14]]\n",
      "[[[ 1]\n",
      "  [ 2]]\n",
      "\n",
      " [[ 3]\n",
      "  [ 4]]\n",
      "\n",
      " [[ 5]\n",
      "  [ 6]]\n",
      "\n",
      " [[ 7]\n",
      "  [ 8]]\n",
      "\n",
      " [[ 9]\n",
      "  [10]]\n",
      "\n",
      " [[11]\n",
      "  [12]]\n",
      "\n",
      " [[13]\n",
      "  [14]]]\n"
     ]
    }
   ],
   "source": [
    "# array reshaping\n",
    "ar = np.array([11,22,33,44,55,66])\n",
    "a = ar.reshape(1,6)\n",
    "print(a)\n",
    "b = ar.reshape(6,1,1)\n",
    "print(b)\n",
    "c = ar.reshape(6)\n",
    "print(c)\n",
    "arr = np.array([[1,2,3,4,5,6,7,8,9]])\n",
    "a =arr.reshape(9)\n",
    "print(a)\n",
    "b = arr.reshape(3,3,1)\n",
    "print(b)\n",
    "c = arr.reshape(9,1)\n",
    "print(c)\n",
    "arr = np.array([[[1,2,3,4,5,6,7,8,9,10,11,12,13,14]]])\n",
    "print(arr)\n",
    "a = arr.reshape(14)\n",
    "print(a)\n",
    "b = arr.reshape(7,2)\n",
    "print(b)\n",
    "c = arr.reshape(7,2,1)\n",
    "print(c)"
   ]
  },
  {
   "cell_type": "code",
   "execution_count": 116,
   "id": "83dec319",
   "metadata": {},
   "outputs": [
    {
     "name": "stdout",
     "output_type": "stream",
     "text": [
      "[1 2 3 4 5 6 7 8 9]\n",
      "[[1]\n",
      " [2]\n",
      " [3]\n",
      " [4]\n",
      " [5]\n",
      " [6]\n",
      " [7]\n",
      " [8]\n",
      " [9]]\n",
      "[[[1]]\n",
      "\n",
      " [[2]]\n",
      "\n",
      " [[3]]\n",
      "\n",
      " [[4]]\n",
      "\n",
      " [[5]]\n",
      "\n",
      " [[6]]\n",
      "\n",
      " [[7]]\n",
      "\n",
      " [[8]]\n",
      "\n",
      " [[9]]]\n",
      "[[10 20 30 40 50]]\n",
      "[[10]\n",
      " [20]\n",
      " [30]\n",
      " [40]\n",
      " [50]]\n",
      "[[[10]]\n",
      "\n",
      " [[20]]\n",
      "\n",
      " [[30]]\n",
      "\n",
      " [[40]]\n",
      "\n",
      " [[50]]]\n",
      "[[[1 2 3 4 5 6 7 8 9]]]\n",
      "[[1]\n",
      " [2]\n",
      " [3]\n",
      " [4]\n",
      " [5]\n",
      " [6]\n",
      " [7]\n",
      " [8]\n",
      " [9]]\n",
      "[[[1]]\n",
      "\n",
      " [[2]]\n",
      "\n",
      " [[3]]\n",
      "\n",
      " [[4]]\n",
      "\n",
      " [[5]]\n",
      "\n",
      " [[6]]\n",
      "\n",
      " [[7]]\n",
      "\n",
      " [[8]]\n",
      "\n",
      " [[9]]]\n"
     ]
    }
   ],
   "source": [
    "# unknown dimension\n",
    "a = np.array([1,2,3,4,5,6,7,8,9])\n",
    "print(a)\n",
    "x = a.reshape(9,-1)\n",
    "print(x)\n",
    "y = a.reshape(9,1,-1)\n",
    "print(y)\n",
    "a = np.array([[10,20,30,40,50]])\n",
    "print(a)\n",
    "x = a.reshape(5,-1)\n",
    "print(x)\n",
    "y = a.reshape(5,1,-1)\n",
    "print(y)\n",
    "a = np.array([[[1,2,3,4,5,6,7,8,9]]])\n",
    "print(a)\n",
    "x = a.reshape(9,-1)\n",
    "print(x)\n",
    "y = a.reshape(9,1,-1)\n",
    "print(y)"
   ]
  },
  {
   "cell_type": "code",
   "execution_count": 120,
   "id": "ebe87530",
   "metadata": {},
   "outputs": [
    {
     "name": "stdout",
     "output_type": "stream",
     "text": [
      "[10 20 30 40 50]\n",
      "[10 20 30 40 50]\n",
      "[[11 22 33 44 55 66]]\n",
      "[11 22 33 44 55 66]\n",
      "[100 200 300 400 500]\n"
     ]
    }
   ],
   "source": [
    "# flattening array\n",
    "a = np.array([10,20,30,40,50])\n",
    "print(a)\n",
    "x = a.reshape(-1)\n",
    "print(x)\n",
    "b = np.array([[11,22,33,44,55,66]])\n",
    "print(b)\n",
    "y = b.reshape(-1)\n",
    "print(y)\n",
    "c = np.array([[[100,200,300,400,500]]])\n",
    "z = c.reshape(-1)\n",
    "print(z)"
   ]
  },
  {
   "cell_type": "code",
   "execution_count": 123,
   "id": "a291e83e",
   "metadata": {},
   "outputs": [
    {
     "name": "stdout",
     "output_type": "stream",
     "text": [
      "[1 2 3 4 5 6]\n",
      "1\n",
      "2\n",
      "3\n",
      "4\n",
      "5\n",
      "6\n",
      "[[10 20 30]\n",
      " [40 50 60]]\n",
      "[10 20 30]\n",
      "10\n",
      "20\n",
      "30\n",
      "[40 50 60]\n",
      "40\n",
      "50\n",
      "60\n",
      "[[[11 22 33 44 55 66 77]]]\n",
      "[[11 22 33 44 55 66 77]]\n",
      "[11 22 33 44 55 66 77]\n",
      "11\n",
      "22\n",
      "33\n",
      "44\n",
      "55\n",
      "66\n",
      "77\n"
     ]
    }
   ],
   "source": [
    "# numpy array iterating\n",
    "ar = np.array([1,2,3,4,5,6])\n",
    "print(ar)\n",
    "for x in ar:\n",
    "    print(x)\n",
    "arr = np.array([[10,20,30],[40,50,60]])\n",
    "print(arr)\n",
    "for x in arr:\n",
    "    print(x)\n",
    "    for y in x:\n",
    "        print(y)\n",
    "ar = np.array([[[11,22,33,44,55,66,77]]])\n",
    "print(ar)\n",
    "for x in ar:\n",
    "    print(x)\n",
    "    for y in x:\n",
    "        print(y)\n",
    "        for z in y:\n",
    "            print(z)"
   ]
  },
  {
   "cell_type": "code",
   "execution_count": 129,
   "id": "5b023e5a",
   "metadata": {},
   "outputs": [
    {
     "name": "stdout",
     "output_type": "stream",
     "text": [
      "[1 2 3 4 5 6 7 8 9]\n",
      "1\n",
      "2\n",
      "3\n",
      "4\n",
      "5\n",
      "6\n",
      "7\n",
      "8\n",
      "9\n",
      "[[10 20 30]\n",
      " [40 50 60]]\n",
      "10\n",
      "20\n",
      "30\n",
      "40\n",
      "50\n",
      "60\n",
      "[[[ 11  22  33  44]\n",
      "  [ 55  66  77  88]]\n",
      "\n",
      " [[ 99 100 110 120]\n",
      "  [130 140 150 160]]]\n",
      "11\n",
      "22\n",
      "33\n",
      "44\n",
      "55\n",
      "66\n",
      "77\n",
      "88\n",
      "99\n",
      "100\n",
      "110\n",
      "120\n",
      "130\n",
      "140\n",
      "150\n",
      "160\n"
     ]
    }
   ],
   "source": [
    "# numpy array using nditer()\n",
    "a = np.array([1,2,3,4,5,6,7,8,9])\n",
    "print(a)\n",
    "for x in np.nditer(a):\n",
    "    print(x)\n",
    "b =np.array ([[10,20,30],[40,50,60]])\n",
    "print(b)\n",
    "for x in np.nditer(b):\n",
    "    print(x)\n",
    "c = np.array([[[11,22,33,44],[55,66,77,88]],[[99,100,110,120],[130,140,150,160]]])\n",
    "print(c)\n",
    "for x in np.nditer(c):\n",
    "    print(x)"
   ]
  },
  {
   "cell_type": "code",
   "execution_count": 138,
   "id": "e38ff10b",
   "metadata": {},
   "outputs": [
    {
     "name": "stdout",
     "output_type": "stream",
     "text": [
      "[10 20 30 40 50]\n",
      "b'10'\n",
      "b'20'\n",
      "b'30'\n",
      "b'40'\n",
      "b'50'\n",
      "[[ 11  22  33  44  55]\n",
      " [ 66  77  88  99 100]]\n",
      "11.0\n",
      "22.0\n",
      "33.0\n",
      "44.0\n",
      "55.0\n",
      "66.0\n",
      "77.0\n",
      "88.0\n",
      "99.0\n",
      "100.0\n",
      "[[[10.1 20.1 30.1 40.1 50.1]]]\n",
      "10.1\n",
      "20.1\n",
      "30.1\n",
      "40.1\n",
      "50.1\n",
      "[[['1' '2' '3']\n",
      "  ['4' '5' '6']]\n",
      "\n",
      " [['7' '8' '9']\n",
      "  ['10' '11' '12']]]\n",
      "1\n",
      "2\n",
      "3\n",
      "4\n",
      "5\n",
      "6\n",
      "7\n",
      "8\n",
      "9\n",
      "10\n",
      "11\n",
      "12\n"
     ]
    }
   ],
   "source": [
    "# casting element one type to another type\n",
    "a = np.array([10,20,30,40,50])\n",
    "print(a)\n",
    "for x in np.nditer(a, flags = ['buffered'], op_dtypes = ['S']):\n",
    "    print(x)\n",
    "b = np.array([[11,22,33,44,55],[66,77,88,99,100]])\n",
    "print(b)\n",
    "for i in np.nditer(b, flags = ['buffered'], op_dtypes = ['float']):\n",
    "    print(i)\n",
    "c = np.array([[[10.1,20.1,30.1,40.1,50.1]]])\n",
    "print(c)\n",
    "for i in np.nditer(c, flags = ['buffered'], op_dtypes = ['U']):\n",
    "    print(i)\n",
    "d = np.array([[['1','2','3'],['4','5','6']],[['7','8','9'],['10','11','12']]])\n",
    "print(d)\n",
    "for x in np.nditer(d, flags = ['buffered'], op_dtypes = ['U']):\n",
    "    print(x)"
   ]
  },
  {
   "cell_type": "code",
   "execution_count": 142,
   "id": "9204ee09",
   "metadata": {},
   "outputs": [
    {
     "name": "stdout",
     "output_type": "stream",
     "text": [
      "[1 2 3 4 5 6]\n",
      "<class 'numpy.ndarray'>\n",
      "[10 20 30 40 50]\n",
      "<class 'numpy.ndarray'>\n",
      "[11 22 33 44 55 66]\n",
      "<class 'numpy.ndarray'>\n"
     ]
    }
   ],
   "source": [
    "arr = np.array([1,2,3,4,5,6])\n",
    "print(arr)\n",
    "print(type(arr))\n",
    "l = [10,20,30,40,50]\n",
    "ar = np.array(l)\n",
    "print(ar)\n",
    "print(type(ar))\n",
    "tup = (11,22,33,44,55,66)\n",
    "ar = np.array(tup)\n",
    "print(ar)\n",
    "print(type(ar))"
   ]
  },
  {
   "cell_type": "code",
   "execution_count": 147,
   "id": "f0a60a93",
   "metadata": {},
   "outputs": [
    {
     "name": "stdout",
     "output_type": "stream",
     "text": [
      "100\n",
      "0\n",
      "[10 20 30 40 50]\n",
      "1\n",
      "[[11 22 33 44 55]]\n",
      "2\n",
      "[[[11 12 13 14 15 16]]]\n",
      "3\n"
     ]
    }
   ],
   "source": [
    "arr = np.array(100)\n",
    "print(arr)\n",
    "print(arr.ndim)\n",
    "arr = np.array([10,20,30,40,50])\n",
    "print(arr)\n",
    "print(arr.ndim)\n",
    "ar = np.array([[11,22,33,44,55]])\n",
    "print(ar)\n",
    "print(ar.ndim)\n",
    "ar = np.array([[[11,12,13,14,15,16]]])\n",
    "print(ar)\n",
    "print(ar.ndim)"
   ]
  },
  {
   "cell_type": "code",
   "execution_count": 157,
   "id": "01558185",
   "metadata": {},
   "outputs": [
    {
     "name": "stdout",
     "output_type": "stream",
     "text": [
      "[10 20 30 40 50]\n",
      "10\n",
      "50\n",
      "[[11 22 33 44 55 66 77]]\n",
      "11\n",
      "77\n",
      "44\n",
      "55\n",
      "[[[1 2 3 4 5 6 7 8]]]\n",
      "3\n",
      "8\n",
      "8\n",
      "5\n"
     ]
    }
   ],
   "source": [
    "# access 1 - d array\n",
    "arr = np.array([10,20,30,40,50])\n",
    "print(arr)\n",
    "print(arr[0])\n",
    "print(arr[-1])\n",
    "# 2 - d array\n",
    "arr = np.array([[11,22,33,44,55,66,77]])\n",
    "print(arr)\n",
    "print(arr[0][0])\n",
    "print(arr[0][-1])\n",
    "print(arr[0,3])\n",
    "print(arr[0,4])\n",
    "# 3 - d array\n",
    "arr = np.array([[[1,2,3,4,5,6,7,8]]])\n",
    "print(arr)\n",
    "print(arr[0][0][2])\n",
    "print(arr[0][0][-1])\n",
    "print(arr[0,0,-1])\n",
    "print(arr[0,0,4])"
   ]
  },
  {
   "cell_type": "code",
   "execution_count": 158,
   "id": "140a2928",
   "metadata": {},
   "outputs": [
    {
     "name": "stdout",
     "output_type": "stream",
     "text": [
      "0\n",
      "1\n",
      "2\n",
      "3\n"
     ]
    }
   ],
   "source": [
    "a = np.array(10)\n",
    "b = np.array([10,20,30,40,50])\n",
    "c = np.array([[11,22,33,44]])\n",
    "d = np.array([[[11,12,13,14]]])\n",
    "print(a.ndim)\n",
    "print(b.ndim)\n",
    "print(c.ndim)\n",
    "print(d.ndim)"
   ]
  },
  {
   "cell_type": "code",
   "execution_count": 160,
   "id": "b60be17f",
   "metadata": {},
   "outputs": [
    {
     "name": "stdout",
     "output_type": "stream",
     "text": [
      "[[[[10 20 30 40]]]]\n"
     ]
    }
   ],
   "source": [
    "arr = np.array([[10,20,30,40]], ndmin = 4)\n",
    "print(arr)"
   ]
  },
  {
   "cell_type": "code",
   "execution_count": 179,
   "id": "4c194aff",
   "metadata": {},
   "outputs": [
    {
     "name": "stdout",
     "output_type": "stream",
     "text": [
      "[1 2 3 4 5 6 7 8]\n",
      "[1 2 3]\n",
      "[1 4 7]\n",
      "[1 3 5 7]\n",
      "[4 5 6 7 8]\n",
      "[1 2 3 4 5]\n",
      "[[10 20 30]\n",
      " [40 50 60]]\n",
      "[[20]\n",
      " [50]]\n",
      "[[60]]\n",
      "[[30]\n",
      " [60]]\n",
      "[[[11 22 33]\n",
      "  [44 55 66]]]\n",
      "[[[11]\n",
      "  [44]]]\n",
      "[[[33]\n",
      "  [66]]]\n"
     ]
    }
   ],
   "source": [
    "# array slicing\n",
    "a = np.array([1,2,3,4,5,6,7,8])\n",
    "print(a)\n",
    "print(a[0:3])\n",
    "print(a[0:8:3])\n",
    "print(a[0:-1:2])\n",
    "print(a[3:])\n",
    "print(a[:5])\n",
    "arr = np.array([[10,20,30],[40,50,60]])\n",
    "print(arr)\n",
    "print(arr[0:,1:2])\n",
    "print(arr[1:,2:])\n",
    "print(arr[0:,2:])\n",
    "arr = np.array([[[11,22,33],[44,55,66]]])\n",
    "print(arr)\n",
    "print(arr[0:,0:,0:1])\n",
    "print(arr[0:,0:,2:])\n"
   ]
  },
  {
   "cell_type": "code",
   "execution_count": 182,
   "id": "ef81ae0c",
   "metadata": {},
   "outputs": [
    {
     "name": "stdout",
     "output_type": "stream",
     "text": [
      "[1 2 3 4 5 6 7 8]\n",
      "[1 2 3 4]\n",
      "[2 4 6]\n",
      "[[1 2 3 4 5 6 7 8 9]]\n",
      "[1 3 5 7 9]\n",
      "[1 2 3 4 5]\n",
      "[[10 20 30 40 50 60]]\n",
      "[10 30]\n",
      "[20 40 60]\n"
     ]
    }
   ],
   "source": [
    "# step value\n",
    "a = np.array([1,2,3,4,5,6,7,8])\n",
    "print(a)\n",
    "print(a[0:4:1])\n",
    "print(a[1:7:2])\n",
    "a = np.array([[1,2,3,4,5,6,7,8,9]])\n",
    "print(a)\n",
    "print(a[0,0:9:2])\n",
    "print(a[0,0:5:1])\n",
    "a = np.array([[10,20,30,40,50,60]])\n",
    "print(a)\n",
    "print(a[0,0:4:2])\n",
    "print(a[0,1:6:2])"
   ]
  },
  {
   "cell_type": "code",
   "execution_count": 188,
   "id": "9ce81d49",
   "metadata": {},
   "outputs": [
    {
     "name": "stdout",
     "output_type": "stream",
     "text": [
      "[10 20 30 40]\n",
      "int32\n",
      "[1.1 2.2 3.3 4.4]\n",
      "float64\n",
      "['1' '2' '3' '4' '5' '6']\n",
      "<U1\n",
      "['apple' 'kiwi']\n",
      "<U5\n",
      "[ True False]\n",
      "bool\n",
      "[1.+2.j 2.+3.j 4.+5.j]\n",
      "complex128\n"
     ]
    }
   ],
   "source": [
    "# data type\n",
    "a = np.array([10,20,30,40])\n",
    "print(a)\n",
    "print(a.dtype)\n",
    "b = np.array([1.1,2.2,3.3,4.4])\n",
    "print(b)\n",
    "print(b.dtype)\n",
    "c= np.array(['1','2','3','4','5','6'])\n",
    "print(c)\n",
    "print(c.dtype)\n",
    "d = np.array(['apple','kiwi'])\n",
    "print(d)\n",
    "print(d.dtype)\n",
    "e = np.array([True, False])\n",
    "print(e)\n",
    "print(e.dtype)\n",
    "f = np.array([1+2j,2+3j,4+5j])\n",
    "print(f)\n",
    "print(f.dtype)"
   ]
  },
  {
   "cell_type": "code",
   "execution_count": 196,
   "id": "9817e949",
   "metadata": {},
   "outputs": [
    {
     "name": "stdout",
     "output_type": "stream",
     "text": [
      "[10 20 30 40 50 60]\n",
      "int32\n",
      "[11. 22. 33. 44. 55. 66.]\n",
      "float64\n",
      "[ True  True  True  True  True]\n",
      "bool\n",
      "[ 1.+0.j  2.+0.j  3.+0.j  4.+0.j  5.+0.j  6.+0.j  7.+0.j  8.+0.j  9.+0.j\n",
      " 10.+0.j]\n",
      "complex128\n",
      "[10. 20. 30. 40. 50. 60.]\n",
      "float64\n"
     ]
    }
   ],
   "source": [
    "# array with a defined date type\n",
    "arr = np.array([10,20,30,40,50,60],dtype = 'i')\n",
    "print(arr)\n",
    "print(arr.dtype)\n",
    "arr = np.array([11,22,33,44,55,66],dtype = 'float')\n",
    "print(arr)\n",
    "print(arr.dtype)\n",
    "arr = np.array([100,200,300,400,500],dtype = 'bool')\n",
    "print(arr)\n",
    "print(arr.dtype)\n",
    "arr = np.array([1,2,3,4,5,6,7,8,9,10],dtype = 'complex')\n",
    "print(arr)\n",
    "print(arr.dtype)\n",
    "arr = np.array([10,20,30,40,50,60],dtype = 'float')\n",
    "print(arr)\n",
    "print(arr.dtype)\n"
   ]
  },
  {
   "cell_type": "code",
   "execution_count": 203,
   "id": "e96ccb31",
   "metadata": {},
   "outputs": [
    {
     "name": "stdout",
     "output_type": "stream",
     "text": [
      "[1.1 2.1 3.1 4.1 5.1]\n",
      "[1 2 3 4 5]\n",
      "[11. 22. 33. 44. 55. 66.]\n",
      "[1 0 3 4]\n",
      "[ True False  True  True]\n",
      "[10 20 30 40 50]\n",
      "[10. 20. 30. 40. 50.]\n",
      "[1.+0.j 0.+2.j 1.+3.j]\n",
      "[ True  True  True]\n",
      "[ True False  True]\n",
      "[1.+0.j 0.+0.j 1.+0.j]\n"
     ]
    }
   ],
   "source": [
    "# date type\n",
    "a = np.array([1.1,2.1,3.1,4.1,5.1])\n",
    "b = a.astype('int')\n",
    "print(a)\n",
    "print(b)\n",
    "a = np.array([11,22,33,44,55,66])\n",
    "b = a.astype('float')\n",
    "print(b)\n",
    "a = np.array([1,0,3,4])\n",
    "b = a.astype('bool')\n",
    "print(a)\n",
    "print(b)\n",
    "a = np.array([10,20,30,40,50])\n",
    "b = a.astype('float')\n",
    "print(a)\n",
    "print(b)\n",
    "a = np.array([1+0j,0+2j,1+3j])\n",
    "b = a.astype('bool')\n",
    "print(a)\n",
    "print(b)\n",
    "a = np.array([True , False, True])\n",
    "b = a.astype('complex')\n",
    "print(a)\n",
    "print(b)\n"
   ]
  },
  {
   "cell_type": "code",
   "execution_count": 205,
   "id": "bca6b3b8",
   "metadata": {},
   "outputs": [
    {
     "name": "stdout",
     "output_type": "stream",
     "text": [
      "[10 20 30 40 50 60]\n",
      "[ 10  20  30 200  50  60]\n"
     ]
    }
   ],
   "source": [
    "# copy\n",
    "a = np.array([10,20,30,40,50,60])\n",
    "b = a.copy()\n",
    "b[3] = 200\n",
    "print(a)\n",
    "print(b)"
   ]
  },
  {
   "cell_type": "code",
   "execution_count": 208,
   "id": "f54aef13",
   "metadata": {},
   "outputs": [
    {
     "name": "stdout",
     "output_type": "stream",
     "text": [
      "[[  1 100   3   4   5   6   7   8]]\n",
      "[[  1 100   3   4   5   6   7   8]]\n"
     ]
    }
   ],
   "source": [
    "# view\n",
    "a = np.array([[1,2,3,4,5,6,7,8]])\n",
    "b = a.view()\n",
    "b[0][1] = 100\n",
    "print(a)\n",
    "print(b)"
   ]
  },
  {
   "cell_type": "code",
   "execution_count": 210,
   "id": "6d4f0d78",
   "metadata": {},
   "outputs": [
    {
     "name": "stdout",
     "output_type": "stream",
     "text": [
      "None\n",
      "[[[10 20 30 40 50]]]\n"
     ]
    }
   ],
   "source": [
    "# base\n",
    "a = np.array([[[10,20,30,40,50]]])\n",
    "b = a.copy()\n",
    "c = a.view()\n",
    "print(b.base)\n",
    "print(c.base)"
   ]
  },
  {
   "cell_type": "code",
   "execution_count": 216,
   "id": "a28170d8",
   "metadata": {},
   "outputs": [
    {
     "name": "stdout",
     "output_type": "stream",
     "text": [
      "[[1]\n",
      " [2]\n",
      " [3]\n",
      " [4]\n",
      " [5]\n",
      " [6]\n",
      " [7]]\n",
      "[[[1]]\n",
      "\n",
      " [[2]]\n",
      "\n",
      " [[3]]\n",
      "\n",
      " [[4]]\n",
      "\n",
      " [[5]]\n",
      "\n",
      " [[6]]\n",
      "\n",
      " [[7]]]\n",
      "[[[11]\n",
      "  [22]\n",
      "  [33]\n",
      "  [44]\n",
      "  [55]]]\n",
      "[1 2 3 4 5 6 7]\n"
     ]
    }
   ],
   "source": [
    "# array reshaping\n",
    "a = np.array([1,2,3,4,5,6,7])\n",
    "b = a.reshape(7,1)\n",
    "print(b)\n",
    "c = a.reshape(7,1,-1)\n",
    "print(c)\n",
    "b = np.array([[11,22,33,44,55]])\n",
    "c = b.reshape(1,5,1)\n",
    "print(c)\n",
    "a = np.array([[1,2,3,4,5,6,7]])\n",
    "b = a.reshape(-1)\n",
    "print(b)"
   ]
  },
  {
   "cell_type": "code",
   "execution_count": 220,
   "id": "8e9176b9",
   "metadata": {},
   "outputs": [
    {
     "name": "stdout",
     "output_type": "stream",
     "text": [
      "[11 22 33 44 55 66]\n",
      "11\n",
      "22\n",
      "33\n",
      "44\n",
      "55\n",
      "66\n",
      "[[10 20 30 40]]\n",
      "[10 20 30 40]\n",
      "10\n",
      "20\n",
      "30\n",
      "40\n",
      "[[[1 2 3 4 5 6 7]]]\n",
      "[[1 2 3 4 5 6 7]]\n",
      "[1 2 3 4 5 6 7]\n",
      "1\n",
      "2\n",
      "3\n",
      "4\n",
      "5\n",
      "6\n",
      "7\n"
     ]
    }
   ],
   "source": [
    "arr = np.array([11,22,33,44,55,66])\n",
    "print(arr)\n",
    "for x in arr:\n",
    "    print(x)\n",
    "arr = np.array([[10,20,30,40]])\n",
    "print(arr)\n",
    "for i in arr:\n",
    "    print(i)\n",
    "    for j in i:\n",
    "        print(j)\n",
    "ar = np.array([[[1,2,3,4,5,6,7]]]) \n",
    "print(ar)\n",
    "for i in ar:\n",
    "    print(i)\n",
    "    for j in i:\n",
    "        print(j)\n",
    "        for k in j:\n",
    "            print(k)"
   ]
  },
  {
   "cell_type": "code",
   "execution_count": 223,
   "id": "52063d85",
   "metadata": {},
   "outputs": [
    {
     "name": "stdout",
     "output_type": "stream",
     "text": [
      "[[1 2 3 4 5 6 7 8]]\n",
      "1\n",
      "2\n",
      "3\n",
      "4\n",
      "5\n",
      "6\n",
      "7\n",
      "8\n"
     ]
    }
   ],
   "source": [
    "ar = np.array([[1,2,3,4,5,6,7,8]])\n",
    "print(ar)\n",
    "for i in np.nditer(ar):\n",
    "    print(i)\n",
    "    "
   ]
  },
  {
   "cell_type": "code",
   "execution_count": 225,
   "id": "e6052db0",
   "metadata": {},
   "outputs": [
    {
     "name": "stdout",
     "output_type": "stream",
     "text": [
      "[[[1 2 3 4 5 6]]]\n",
      "b'1'\n",
      "b'2'\n",
      "b'3'\n",
      "b'4'\n",
      "b'5'\n",
      "b'6'\n",
      "b'7'\n",
      "1\n",
      "2\n",
      "3\n",
      "4\n",
      "5\n",
      "6\n",
      "7\n"
     ]
    }
   ],
   "source": [
    "ar = np.array([[[1,2,3,4,5,6]]])\n",
    "print(ar)\n",
    "for i in np.nditer(a, flags = ['buffered'],op_dtypes = ['S']):\n",
    "    print(i)\n",
    "for j in np.nditer(a, flags = ['buffered'], op_dtypes = ['U']):\n",
    "    print(j)"
   ]
  },
  {
   "cell_type": "code",
   "execution_count": 5,
   "id": "a3725a3e",
   "metadata": {},
   "outputs": [
    {
     "name": "stdout",
     "output_type": "stream",
     "text": [
      "[1 2 3 4 5 6]\n",
      "<class 'numpy.ndarray'>\n",
      "[[10 20 30 40 50]]\n",
      "<class 'numpy.ndarray'>\n",
      "[11 22 33 44 55]\n",
      "<class 'numpy.ndarray'>\n",
      "1\n"
     ]
    }
   ],
   "source": [
    "import numpy as np\n",
    "arr = np.array([1,2,3,4,5,6])\n",
    "print(arr)\n",
    "print(type(arr))\n",
    "l = [[10,20,30,40,50]]\n",
    "arr = np.array(l)\n",
    "print(arr)\n",
    "print(type(arr))\n",
    "tup = (11,22,33,44,55)\n",
    "ar = np.array(tup)\n",
    "print(ar)\n",
    "print(type(ar))\n",
    "print(ar.ndim)"
   ]
  },
  {
   "cell_type": "code",
   "execution_count": 9,
   "id": "3130e381",
   "metadata": {},
   "outputs": [
    {
     "name": "stdout",
     "output_type": "stream",
     "text": [
      "100\n",
      "0\n",
      "[10 20 30 40]\n",
      "1\n",
      "[[11 22 33 44 55]]\n",
      "2\n",
      "[[[111 222 333 444 555]]]\n",
      "3\n"
     ]
    }
   ],
   "source": [
    "arr = np.array(100)\n",
    "print(arr)\n",
    "print(arr.ndim)\n",
    "arr = np.array([10,20,30,40])\n",
    "print(arr)\n",
    "print(arr.ndim)\n",
    "arr = np.array([[11,22,33,44,55]])\n",
    "print(arr)\n",
    "print(arr.ndim)\n",
    "arr = np.array([[[111,222,333,444,555]]])\n",
    "print(arr)\n",
    "print(arr.ndim)"
   ]
  },
  {
   "cell_type": "code",
   "execution_count": 11,
   "id": "2e637f6c",
   "metadata": {},
   "outputs": [
    {
     "name": "stdout",
     "output_type": "stream",
     "text": [
      "0\n",
      "1\n",
      "2\n",
      "3\n"
     ]
    }
   ],
   "source": [
    "a = np.array(100)\n",
    "b = np.array([11,22,33,44,55])\n",
    "c = np.array([[100,200,300,400]])\n",
    "d = np.array([[[11,12,13,14,15]]])\n",
    "print(a.ndim)\n",
    "print(b.ndim)\n",
    "print(c.ndim)\n",
    "print(d.ndim)"
   ]
  },
  {
   "cell_type": "code",
   "execution_count": 13,
   "id": "90444412",
   "metadata": {},
   "outputs": [
    {
     "name": "stdout",
     "output_type": "stream",
     "text": [
      "[[[[[10 20 30 40 50]]]]]\n"
     ]
    }
   ],
   "source": [
    "arr = np.array([[10,20,30,40,50]], ndmin = 5)\n",
    "print(arr)"
   ]
  },
  {
   "cell_type": "code",
   "execution_count": 22,
   "id": "b30989cf",
   "metadata": {},
   "outputs": [
    {
     "name": "stdout",
     "output_type": "stream",
     "text": [
      "[ 1  2  3  4  5  6  7  8  9 10]\n",
      "1\n",
      "5\n",
      "[[10 20 30 40 50]]\n",
      "10\n",
      "50\n",
      "[[[11 22 33 44 55 66 77 88]]]\n",
      "88\n",
      "66\n"
     ]
    }
   ],
   "source": [
    "arr = np.array([1,2,3,4,5,6,7,8,9,10])\n",
    "print(arr)\n",
    "print(arr[0])\n",
    "print(arr[4])\n",
    "arr = np.array([[10,20,30,40,50]])\n",
    "print(arr)\n",
    "print(arr[0][0])\n",
    "print(arr[0][-1])\n",
    "arr = np.array([[[11,22,33,44,55,66,77,88]]])\n",
    "print(arr)\n",
    "print(arr[0][0][-1])\n",
    "print(arr[0][0][5])"
   ]
  },
  {
   "cell_type": "code",
   "execution_count": 59,
   "id": "2c4bc5ec",
   "metadata": {},
   "outputs": [
    {
     "name": "stdout",
     "output_type": "stream",
     "text": [
      "[1 2 3 4 5 6 7 8 9]\n",
      "[1 2 3]\n",
      "[2 4 6 8]\n",
      "[2 9]\n",
      "[[10 20 30]\n",
      " [40 50 60]]\n",
      "[[10]\n",
      " [40]]\n",
      "[[40 60]]\n",
      "[10 30]\n",
      "[[[ 11  22  33]\n",
      "  [ 44  55  66]]\n",
      "\n",
      " [[ 77  88  99]\n",
      "  [100 110 120]]]\n",
      "[[[ 11]\n",
      "  [ 44]]\n",
      "\n",
      " [[ 77]\n",
      "  [100]]]\n",
      "[11 33]\n",
      "[[[22 33]\n",
      "  [55 66]]]\n",
      "[[[11]\n",
      "  [44]]]\n",
      "[[[33]]\n",
      "\n",
      " [[99]]]\n"
     ]
    }
   ],
   "source": [
    "arr = np.array([1,2,3,4,5,6,7,8,9])\n",
    "print(arr)\n",
    "print(arr[0:3])\n",
    "print(arr[1:8:2])\n",
    "print(arr[1:9:7])\n",
    "arr = np.array([[10,20,30,],[40,50,60]])\n",
    "print(arr)\n",
    "print(arr[0:,0:1])\n",
    "print(arr[1:,0:3:2])\n",
    "print(arr[0,0:3:2])\n",
    "arr = np.array([[[11,22,33],[44,55,66]],[[77,88,99],[100,110,120]]])\n",
    "print(arr)\n",
    "print(arr[:,:,0:1])\n",
    "print(arr[0,0,0:3:2])\n",
    "print(arr[0:1,0:2,1:3:1])\n",
    "print(arr[0:1,0:3,0:1:2])\n",
    "print(arr[:,0:1,2:3])\n",
    "print(arr[])"
   ]
  },
  {
   "cell_type": "code",
   "execution_count": 67,
   "id": "3eb21c6a",
   "metadata": {},
   "outputs": [
    {
     "name": "stdout",
     "output_type": "stream",
     "text": [
      "[1 2 3 4 5]\n",
      "int32\n",
      "[1.1 2.2]\n",
      "float64\n",
      "['aa' 'bb' 'cc' 'dd']\n",
      "<U2\n",
      "[1.+2.j 2.+3.j]\n",
      "complex128\n",
      "[ True False]\n",
      "bool\n"
     ]
    }
   ],
   "source": [
    "arr = np.array([1,2,3,4,5])\n",
    "print(arr)\n",
    "print(arr.dtype)\n",
    "arr = np.array([1.1,2.2])\n",
    "print(arr)\n",
    "print(arr.dtype)\n",
    "arr = np.array(['aa','bb','cc','dd'])\n",
    "print(arr)\n",
    "print(arr.dtype)\n",
    "arr = np.array([1+2j,2+3j])\n",
    "print(arr)\n",
    "print(arr.dtype)\n",
    "arr = np.array([True, False])\n",
    "print(arr)\n",
    "print(arr.dtype)"
   ]
  },
  {
   "cell_type": "code",
   "execution_count": 69,
   "id": "bc0394f5",
   "metadata": {},
   "outputs": [
    {
     "name": "stdout",
     "output_type": "stream",
     "text": [
      "[1. 2. 3. 4. 5.]\n",
      "float64\n",
      "[[10 20 30]]\n",
      "int32\n"
     ]
    }
   ],
   "source": [
    "arr = np.array([1,2,3,4,5], dtype = 'float')\n",
    "print(arr)\n",
    "print(arr.dtype)\n",
    "arr = np.array([['10','20','30']], dtype = 'int')\n",
    "print(arr)\n",
    "print(arr.dtype)"
   ]
  },
  {
   "cell_type": "code",
   "execution_count": 70,
   "id": "c8e988fe",
   "metadata": {},
   "outputs": [
    {
     "name": "stdout",
     "output_type": "stream",
     "text": [
      "[10 20 30 40]\n",
      "[10 20 30 40]\n",
      "[10. 20. 30. 40.]\n"
     ]
    }
   ],
   "source": [
    "arr = np.array([10,20,30,40])\n",
    "print(arr)\n",
    "a = arr.astype('float')\n",
    "print(arr)\n",
    "print(a)"
   ]
  },
  {
   "cell_type": "code",
   "execution_count": 75,
   "id": "4fed906a",
   "metadata": {},
   "outputs": [
    {
     "name": "stdout",
     "output_type": "stream",
     "text": [
      "[10 20 30 40 50]\n",
      "[10 20 30 40 50]\n",
      "[10 20 30  4 50]\n",
      "[11 22 33 44 55]\n",
      "[11  2 33 44 55]\n",
      "[11  2 33 44 55]\n",
      "[1 2 3 4 5 6]\n",
      "None\n",
      "[1 2 3 4 5 6]\n"
     ]
    }
   ],
   "source": [
    "arr = np.array([10,20,30,40,50])\n",
    "print(arr)\n",
    "a = arr.copy()\n",
    "a[3]= 4\n",
    "print(arr)\n",
    "print(a)\n",
    "arr = np.array([11,22,33,44,55])\n",
    "print(arr)\n",
    "a = arr.view()\n",
    "a[1] = 2\n",
    "print(arr)\n",
    "print(a)\n",
    "a = np.array([1,2,3,4,5,6])\n",
    "print(a)\n",
    "b = a.copy()\n",
    "c = a.view()\n",
    "print(b.base)\n",
    "print(c.base)"
   ]
  },
  {
   "cell_type": "code",
   "execution_count": 77,
   "id": "2020e613",
   "metadata": {},
   "outputs": [
    {
     "name": "stdout",
     "output_type": "stream",
     "text": [
      "[10 20 30 40 50]\n",
      "[[10]\n",
      " [20]\n",
      " [30]\n",
      " [40]\n",
      " [50]]\n",
      "[[[10]]\n",
      "\n",
      " [[20]]\n",
      "\n",
      " [[30]]\n",
      "\n",
      " [[40]]\n",
      "\n",
      " [[50]]]\n"
     ]
    }
   ],
   "source": [
    "arr = np.array([10,20,30,40,50])\n",
    "print(arr)\n",
    "a = arr.reshape(5,1)\n",
    "print(a)\n",
    "a = arr.reshape(5,1,-1)\n",
    "print(a)"
   ]
  },
  {
   "cell_type": "code",
   "execution_count": 78,
   "id": "c4d8782b",
   "metadata": {},
   "outputs": [
    {
     "name": "stdout",
     "output_type": "stream",
     "text": [
      "[[[10 20 30 40]]]\n",
      "[10 20 30 40]\n"
     ]
    }
   ],
   "source": [
    "arr = np.array([[[10,20,30,40]]])\n",
    "print(arr)\n",
    "a = arr.reshape(-1)\n",
    "print(a)"
   ]
  },
  {
   "cell_type": "code",
   "execution_count": 80,
   "id": "a5932f59",
   "metadata": {},
   "outputs": [
    {
     "name": "stdout",
     "output_type": "stream",
     "text": [
      "[1 2 3 4 5]\n",
      "1\n",
      "2\n",
      "3\n",
      "4\n",
      "5\n",
      "[[11 22 33 44 55]]\n",
      "11\n",
      "22\n",
      "33\n",
      "44\n",
      "55\n"
     ]
    }
   ],
   "source": [
    "arr = np.array([1,2,3,4,5])\n",
    "print(arr)\n",
    "for i in arr:\n",
    "    print(i)\n",
    "arr = np.array([[11,22,33,44,55]])\n",
    "print(arr)\n",
    "for x in np.nditer(arr):\n",
    "    print(x)"
   ]
  },
  {
   "cell_type": "code",
   "execution_count": 82,
   "id": "e8e70d91",
   "metadata": {},
   "outputs": [
    {
     "name": "stdout",
     "output_type": "stream",
     "text": [
      "[[10 20 30 40 50 60]]\n",
      "b'10'\n",
      "b'20'\n",
      "b'30'\n",
      "b'40'\n",
      "b'50'\n",
      "b'60'\n"
     ]
    }
   ],
   "source": [
    "arr = np.array([[10,20,30,40,50,60]])\n",
    "print(arr)\n",
    "for i in np.nditer(arr, flags = ['buffered'], op_dtypes = ['S']):\n",
    "    print(i)"
   ]
  },
  {
   "cell_type": "code",
   "execution_count": 113,
   "id": "613bb481",
   "metadata": {},
   "outputs": [
    {
     "name": "stdout",
     "output_type": "stream",
     "text": [
      "[[[ 10  20  30]\n",
      "  [ 40  50  60]]\n",
      "\n",
      " [[ 70  80  90]\n",
      "  [100 110 120]]]\n",
      "\n",
      "\n",
      "[[[10 30]]]\n",
      "[[[10 30]\n",
      "  [40 60]]]\n",
      "[[[ 10  20]\n",
      "  [ 40  50]]\n",
      "\n",
      " [[ 70  80]\n",
      "  [100 110]]]\n",
      "[[[10]\n",
      "  [40]]]\n",
      "[[[100]]]\n",
      "[[[100 110 120]]]\n",
      "[[[10 20 30]]]\n",
      "[[[10 20 30]\n",
      "  [40 50 60]]]\n",
      "[[[10 20 30]]\n",
      "\n",
      " [[70 80 90]]]\n",
      "[[[40 50 60]]]\n",
      "[[[100 110 120]]]\n"
     ]
    }
   ],
   "source": [
    "arr = np.array([[[10,20,30],[40,50,60]],[[70,80,90],[100,110,120]]])\n",
    "print(arr)\n",
    "print('\\n')\n",
    "print(arr[0:1,0:1,0:3:2])\n",
    "print(arr[0:1,0:2,0:3:2])\n",
    "print(arr[0:2,0:3,0:2])\n",
    "print(arr[0:1,0:3,0:2:2])\n",
    "print(arr[1:2,1:,0:1])\n",
    "print(arr[1:2,1:,0:])\n",
    "print(arr[0:1,0:1,0:3])\n",
    "print(arr[0:1,0:2,0:3])\n",
    "print(arr[0:2,0:1,0:3])\n",
    "print(arr[0:1,1:2,0:3])\n",
    "print(arr[1:2,1:2,0:3])"
   ]
  },
  {
   "cell_type": "code",
   "execution_count": 136,
   "id": "73c91607",
   "metadata": {},
   "outputs": [
    {
     "name": "stdout",
     "output_type": "stream",
     "text": [
      "[11 22 33 44 55 66]\n",
      "[11 22]\n",
      "[22]\n",
      "[11]\n",
      "[22 33]\n",
      "[11 22]\n",
      "[11]\n",
      "[22 33]\n",
      "[11 22]\n",
      "[22]\n",
      "[33]\n",
      "[11 22 33]\n",
      "[22]\n",
      "[11 22]\n",
      "[22]\n",
      "[11]\n",
      "[11]\n",
      "[11]\n",
      "[11]\n",
      "[22]\n",
      "[11 22]\n",
      "[11]\n"
     ]
    }
   ],
   "source": [
    "a = np.array([11,22,33,44,55,66])\n",
    "print(a)\n",
    "print(a[0:2])\n",
    "print(a[1:2])\n",
    "print(a[0:1])\n",
    "print(a[1:3])\n",
    "print(a[0:2])\n",
    "print(a[0:1])\n",
    "print(a[1:3])\n",
    "print(a[0:2])\n",
    "print(a[1:2])\n",
    "print(a[2:3])\n",
    "print(a[0:3])\n",
    "print(a[1:2])\n",
    "print(a[0:2])\n",
    "print(a[1:2])\n",
    "print(a[0:1])\n",
    "print(a[0:1])\n",
    "print(a[0:1])\n",
    "print(a[0:1])\n",
    "print(a[1:2])\n",
    "print(a[0:2])\n",
    "print(a[0:1])"
   ]
  }
 ],
 "metadata": {
  "kernelspec": {
   "display_name": "Python 3 (ipykernel)",
   "language": "python",
   "name": "python3"
  },
  "language_info": {
   "codemirror_mode": {
    "name": "ipython",
    "version": 3
   },
   "file_extension": ".py",
   "mimetype": "text/x-python",
   "name": "python",
   "nbconvert_exporter": "python",
   "pygments_lexer": "ipython3",
   "version": "3.10.3"
  }
 },
 "nbformat": 4,
 "nbformat_minor": 5
}
