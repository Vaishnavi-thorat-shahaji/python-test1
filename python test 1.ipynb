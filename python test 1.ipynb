{
 "cells": [
  {
   "cell_type": "code",
   "execution_count": 2,
   "id": "864d5944",
   "metadata": {},
   "outputs": [
    {
     "name": "stdout",
     "output_type": "stream",
     "text": [
      "vaishanvi\n",
      "lili\n"
     ]
    }
   ],
   "source": [
    "# identifiers\n",
    "a = 'vaishanvi'\n",
    "print(a)\n",
    "b = 'lili'\n",
    "print(b)"
   ]
  },
  {
   "cell_type": "code",
   "execution_count": 7,
   "id": "2970e5b8",
   "metadata": {},
   "outputs": [
    {
     "name": "stdout",
     "output_type": "stream",
     "text": [
      "10\n",
      "10.2\n",
      "30\n",
      "(1+3j)\n",
      "True\n"
     ]
    }
   ],
   "source": [
    "a = 10\n",
    "print(a)\n",
    "b = 10.2\n",
    "print(b)\n",
    "a = 10\n",
    "b = 20\n",
    "c = a+b\n",
    "print(c)\n",
    "a = 1+3j\n",
    "print(a)\n",
    "a = True\n",
    "print(a)"
   ]
  },
  {
   "cell_type": "code",
   "execution_count": 11,
   "id": "dca71dc9",
   "metadata": {},
   "outputs": [
    {
     "name": "stdout",
     "output_type": "stream",
     "text": [
      "10\n",
      "<class 'int'>\n",
      "<class 'float'>\n",
      "<class 'complex'>\n",
      "<class 'str'>\n"
     ]
    }
   ],
   "source": [
    "a = 10\n",
    "print(a)\n",
    "print(type(a))\n",
    "b = 10.2\n",
    "print(type(b))\n",
    "c = 1+4j\n",
    "print(type(c))\n",
    "d = '10'\n",
    "print(type(d))"
   ]
  },
  {
   "cell_type": "code",
   "execution_count": 15,
   "id": "41edbd54",
   "metadata": {},
   "outputs": [
    {
     "name": "stdout",
     "output_type": "stream",
     "text": [
      "['False', 'None', 'True', 'and', 'as', 'assert', 'async', 'await', 'break', 'class', 'continue', 'def', 'del', 'elif', 'else', 'except', 'finally', 'for', 'from', 'global', 'if', 'import', 'in', 'is', 'lambda', 'nonlocal', 'not', 'or', 'pass', 'raise', 'return', 'try', 'while', 'with', 'yield']\n"
     ]
    }
   ],
   "source": [
    "import keyword\n",
    "len(keyword.kwlist)\n",
    "print(keyword.kwlist)"
   ]
  },
  {
   "cell_type": "code",
   "execution_count": 24,
   "id": "b9f5e799",
   "metadata": {},
   "outputs": [
    {
     "name": "stdout",
     "output_type": "stream",
     "text": [
      "10\n",
      "10.0\n",
      "<class 'float'>\n",
      "1.1\n",
      "1\n",
      "10\n",
      "10\n",
      "100\n",
      "100.0\n",
      "100\n",
      "100.0\n",
      "100\n",
      "(2+4j)\n",
      "(2+4j)\n"
     ]
    }
   ],
   "source": [
    "# typecasting\n",
    "a = 10\n",
    "print(a)\n",
    "b_f = float(a)\n",
    "print(b_f)\n",
    "print(type(b_f))\n",
    "a = 1.1\n",
    "print(a)\n",
    "b_i= int(a)\n",
    "print(b_i)\n",
    "a = 2+3j\n",
    "a = '10'\n",
    "print(a)\n",
    "b_i = int(a)\n",
    "print(b_i)\n",
    "a = '100'\n",
    "print(a)\n",
    "b_f = float(a)\n",
    "print(b_f)\n",
    "a = '100'\n",
    "print(a)\n",
    "b_f = float(a)\n",
    "print(b_f)\n",
    "b_i = int(a)\n",
    "print(b_i)\n",
    "a = 2+4j\n",
    "print(a)\n",
    "b = complex(a)\n",
    "print(b)\n"
   ]
  },
  {
   "cell_type": "code",
   "execution_count": 27,
   "id": "36afb69c",
   "metadata": {},
   "outputs": [
    {
     "name": "stdout",
     "output_type": "stream",
     "text": [
      "10\n",
      "10\n",
      "10\n",
      "20\n",
      "30\n",
      "40\n"
     ]
    }
   ],
   "source": [
    "a = 10\n",
    "print(a)\n",
    "b = str(a)\n",
    "print(b)\n",
    "a = 10\n",
    "b = 20\n",
    "print(a)\n",
    "print(b)\n",
    "a = 30\n",
    "b = 40\n",
    "print(a)\n",
    "print(b)"
   ]
  },
  {
   "cell_type": "code",
   "execution_count": 40,
   "id": "fca29939",
   "metadata": {},
   "outputs": [
    {
     "name": "stdout",
     "output_type": "stream",
     "text": [
      "10\n",
      "(10+0j)\n",
      "10.2\n",
      "10\n",
      "(2+5j)\n",
      "(2+5j)\n",
      "10\n",
      "10\n"
     ]
    }
   ],
   "source": [
    "a =10\n",
    "print(a)\n",
    "b = complex(a)\n",
    "print(b)\n",
    "a = 10.2\n",
    "print(a)\n",
    "b = int(a)\n",
    "print(b)\n",
    "a = 2+5j\n",
    "print(a)\n",
    "b = (a)\n",
    "print(b)\n",
    "c = 10\n",
    "print(c)\n",
    "print(d)\n"
   ]
  },
  {
   "cell_type": "code",
   "execution_count": 46,
   "id": "348ee08b",
   "metadata": {},
   "outputs": [
    {
     "name": "stdout",
     "output_type": "stream",
     "text": [
      "10\n",
      "(10+0j)\n",
      "10\n",
      "10.0\n",
      "10\n",
      "(10+0j)\n",
      "10\n",
      "(10+0j)\n",
      "100\n",
      "100\n",
      "10\n",
      "10\n"
     ]
    }
   ],
   "source": [
    "a =10\n",
    "print(a)\n",
    "b = complex(a)\n",
    "print(b)\n",
    "a = '10'\n",
    "print(a)\n",
    "b = float(a)\n",
    "print(b)\n",
    "c = '10'\n",
    "print(c)\n",
    "d = complex(c)\n",
    "print(d)\n",
    "a = 10\n",
    "print(a)\n",
    "b = complex(a)\n",
    "print(b)\n",
    "a = 100\n",
    "print(a)\n",
    "b = str(a)\n",
    "print(b)\n",
    "a = 10\n",
    "print(a)\n",
    "b = str(a)\n",
    "print(b)"
   ]
  },
  {
   "cell_type": "code",
   "execution_count": 2,
   "id": "d874139b",
   "metadata": {},
   "outputs": [
    {
     "name": "stdout",
     "output_type": "stream",
     "text": [
      "10\n",
      "<class 'int'>\n",
      "10\n",
      "<class 'str'>\n"
     ]
    }
   ],
   "source": [
    "a = 10\n",
    "print(a)\n",
    "print(type(a))\n",
    "b = str(a)\n",
    "print(b)\n",
    "print(type(b))"
   ]
  },
  {
   "cell_type": "code",
   "execution_count": 1,
   "id": "f82b132c",
   "metadata": {},
   "outputs": [
    {
     "name": "stdout",
     "output_type": "stream",
     "text": [
      "10\n",
      "(10+0j)\n",
      "10\n",
      "10.0\n",
      "10\n",
      "(10+0j)\n",
      "10\n",
      "(10+0j)\n",
      "100\n",
      "100\n",
      "10\n",
      "10\n"
     ]
    }
   ],
   "source": [
    "a =10\n",
    "print(a)\n",
    "b = complex(a)\n",
    "print(b)\n",
    "a = '10'\n",
    "print(a)\n",
    "b = float(a)\n",
    "print(b)\n",
    "c = '10'\n",
    "print(c)\n",
    "d = complex(c)\n",
    "print(d)\n",
    "a = 10\n",
    "print(a)\n",
    "b = complex(a)\n",
    "print(b)\n",
    "a = 100\n",
    "print(a)\n",
    "b = str(a)\n",
    "print(b)\n",
    "a = 10\n",
    "print(a)\n",
    "b = str(a)\n",
    "print(b)"
   ]
  },
  {
   "cell_type": "code",
   "execution_count": 7,
   "id": "7cd21c3e",
   "metadata": {},
   "outputs": [
    {
     "name": "stdout",
     "output_type": "stream",
     "text": [
      "10\n",
      "10\n",
      "20.4\n",
      "20.4\n",
      "10\n",
      "10.0\n",
      "(4+5j)\n",
      "5.0\n"
     ]
    }
   ],
   "source": [
    "a = 10\n",
    "print(a)\n",
    "b = str(a)\n",
    "print(b)\n",
    "a = 20.4\n",
    "print(a)\n",
    "b = str(a)\n",
    "print(b)\n",
    "a = '10'\n",
    "print(a)\n",
    "b = float(a)\n",
    "print(b)\n",
    "a = complex(4,5)\n",
    "print(a)\n",
    "b = (a.real)\n",
    "b = (a.imag)\n",
    "print(b)"
   ]
  },
  {
   "cell_type": "code",
   "execution_count": 9,
   "id": "15f34f76",
   "metadata": {},
   "outputs": [
    {
     "name": "stdout",
     "output_type": "stream",
     "text": [
      "(3+2j)\n",
      "3.0\n",
      "2.0\n"
     ]
    }
   ],
   "source": [
    "a = 3+2j\n",
    "print(a)\n",
    "b = complex(a)\n",
    "print(b.real)\n",
    "print(b.imag)"
   ]
  },
  {
   "cell_type": "code",
   "execution_count": 10,
   "id": "dea52a0e",
   "metadata": {},
   "outputs": [
    {
     "name": "stdout",
     "output_type": "stream",
     "text": [
      "10\n",
      "(10+0j)\n"
     ]
    }
   ],
   "source": [
    "a = '10'\n",
    "print(a)\n",
    "b = complex(a)\n",
    "print(b)"
   ]
  },
  {
   "cell_type": "code",
   "execution_count": 13,
   "id": "e62c818d",
   "metadata": {},
   "outputs": [
    {
     "name": "stdout",
     "output_type": "stream",
     "text": [
      "(10+0j)\n"
     ]
    }
   ],
   "source": [
    "a = complex(10)\n",
    "print(a)"
   ]
  },
  {
   "cell_type": "code",
   "execution_count": 11,
   "id": "b5b794a7",
   "metadata": {},
   "outputs": [
    {
     "name": "stdout",
     "output_type": "stream",
     "text": [
      "10\n",
      "True\n"
     ]
    }
   ],
   "source": [
    "a = 10\n",
    "print(a)\n",
    "b = bool(a)\n",
    "print(b)"
   ]
  },
  {
   "cell_type": "code",
   "execution_count": 17,
   "id": "b2ea69e4",
   "metadata": {},
   "outputs": [
    {
     "name": "stdout",
     "output_type": "stream",
     "text": [
      "1\n",
      "0.0\n",
      "True\n",
      "0j\n",
      "(1+0j)\n",
      "1j\n"
     ]
    }
   ],
   "source": [
    "print(int(True))\n",
    "print(float(False))\n",
    "print(str(True))\n",
    "print(complex(False))\n",
    "print(complex(True,False))\n",
    "print(complex(False,True))"
   ]
  },
  {
   "cell_type": "code",
   "execution_count": 18,
   "id": "0ca4335f",
   "metadata": {},
   "outputs": [
    {
     "name": "stdout",
     "output_type": "stream",
     "text": [
      "True\n",
      "True\n"
     ]
    }
   ],
   "source": [
    "a = True\n",
    "print(a)\n",
    "b = str(a)\n",
    "print(b)"
   ]
  },
  {
   "cell_type": "code",
   "execution_count": 20,
   "id": "5ce69f40",
   "metadata": {},
   "outputs": [
    {
     "name": "stdout",
     "output_type": "stream",
     "text": [
      "True\n",
      "<class 'str'>\n"
     ]
    }
   ],
   "source": [
    "a = str(True)\n",
    "print(a)\n",
    "print(type(a))"
   ]
  },
  {
   "cell_type": "code",
   "execution_count": 21,
   "id": "93728205",
   "metadata": {},
   "outputs": [
    {
     "name": "stdout",
     "output_type": "stream",
     "text": [
      "True\n"
     ]
    }
   ],
   "source": [
    "a = bool(10)\n",
    "print(a)"
   ]
  },
  {
   "cell_type": "code",
   "execution_count": 22,
   "id": "c5376183",
   "metadata": {},
   "outputs": [
    {
     "name": "stdout",
     "output_type": "stream",
     "text": [
      "False\n"
     ]
    }
   ],
   "source": [
    "b = bool(0)\n",
    "print(b)"
   ]
  },
  {
   "cell_type": "code",
   "execution_count": 23,
   "id": "a593bdcc",
   "metadata": {},
   "outputs": [
    {
     "name": "stdout",
     "output_type": "stream",
     "text": [
      "True\n"
     ]
    }
   ],
   "source": [
    "a = bool(1.3)\n",
    "print(a)"
   ]
  },
  {
   "cell_type": "code",
   "execution_count": 24,
   "id": "de008816",
   "metadata": {},
   "outputs": [
    {
     "name": "stdout",
     "output_type": "stream",
     "text": [
      "True\n"
     ]
    }
   ],
   "source": [
    "a = bool(1.2)\n",
    "print(a)"
   ]
  },
  {
   "cell_type": "code",
   "execution_count": 27,
   "id": "948432c6",
   "metadata": {},
   "outputs": [
    {
     "name": "stdout",
     "output_type": "stream",
     "text": [
      "False\n",
      "True\n"
     ]
    }
   ],
   "source": [
    "a =bool('') \n",
    "print(a)\n",
    "b = bool('hello')\n",
    "print(b)"
   ]
  },
  {
   "cell_type": "code",
   "execution_count": 29,
   "id": "75784be8",
   "metadata": {},
   "outputs": [
    {
     "name": "stdout",
     "output_type": "stream",
     "text": [
      "True\n",
      "True\n",
      "True\n",
      "True\n"
     ]
    }
   ],
   "source": [
    "print(bool(10))\n",
    "print(bool(1.1))\n",
    "print(bool(3+2j))\n",
    "print(bool('hi'))"
   ]
  },
  {
   "cell_type": "code",
   "execution_count": 33,
   "id": "dd997876",
   "metadata": {},
   "outputs": [
    {
     "name": "stdout",
     "output_type": "stream",
     "text": [
      "hello python\n",
      "<class 'str'>\n",
      "['h']\n"
     ]
    }
   ],
   "source": [
    "a = 'hello python'\n",
    "print(a)\n",
    "print(type(a))\n",
    "print(['h'])\n",
    "print(len())"
   ]
  },
  {
   "cell_type": "code",
   "execution_count": 37,
   "id": "fcf33ca8",
   "metadata": {},
   "outputs": [
    {
     "name": "stdout",
     "output_type": "stream",
     "text": [
      "2.0\n",
      "4.0\n",
      "(2+4j)\n",
      "(2+4j)\n"
     ]
    }
   ],
   "source": [
    "a = 2+4j\n",
    "print(a.real)\n",
    "print(a.imag)\n",
    "b = 2+4j\n",
    "print(b)\n",
    "c = str(b)\n",
    "print(c)"
   ]
  },
  {
   "cell_type": "code",
   "execution_count": 44,
   "id": "7a7dae91",
   "metadata": {},
   "outputs": [
    {
     "name": "stdout",
     "output_type": "stream",
     "text": [
      "hi lili\n",
      "<class 'str'>\n",
      "i\n",
      " li\n"
     ]
    },
    {
     "data": {
      "text/plain": [
       "'hi lilihi lili'"
      ]
     },
     "execution_count": 44,
     "metadata": {},
     "output_type": "execute_result"
    }
   ],
   "source": [
    "a = 'hi lili'\n",
    "print(a)\n",
    "print(type(a))\n",
    "a[2:5]\n",
    "a[3]\n",
    "a[-1]\n",
    "print(a[-1])\n",
    "print(a[-5:-2])\n",
    "a*2"
   ]
  },
  {
   "cell_type": "code",
   "execution_count": 45,
   "id": "b7eef8d3",
   "metadata": {},
   "outputs": [
    {
     "name": "stdout",
     "output_type": "stream",
     "text": [
      "10\n",
      "20\n",
      "2581961507344\n",
      "2581961507664\n",
      "False\n"
     ]
    }
   ],
   "source": [
    "a = 10\n",
    "b = 20\n",
    "print(a)\n",
    "print(b)\n",
    "print(id(a))\n",
    "print(id(b))\n",
    "print(a is b)"
   ]
  },
  {
   "cell_type": "code",
   "execution_count": 46,
   "id": "0b58d4aa",
   "metadata": {},
   "outputs": [
    {
     "name": "stdout",
     "output_type": "stream",
     "text": [
      "2581961507664\n",
      "2581961507664\n",
      "True\n"
     ]
    }
   ],
   "source": [
    "a = 10\n",
    "a = 20\n",
    "print(id(a))\n",
    "print(id(b))\n",
    "print(a is a)"
   ]
  },
  {
   "cell_type": "code",
   "execution_count": 47,
   "id": "a327ee5c",
   "metadata": {},
   "outputs": [
    {
     "name": "stdout",
     "output_type": "stream",
     "text": [
      "2581961507344\n",
      "2581961507344\n",
      "True\n"
     ]
    }
   ],
   "source": [
    "a = 10\n",
    "b = 10\n",
    "print(id(a))\n",
    "print(id(b))\n",
    "print(a is b)"
   ]
  },
  {
   "cell_type": "code",
   "execution_count": 48,
   "id": "d6e58e45",
   "metadata": {},
   "outputs": [
    {
     "name": "stdout",
     "output_type": "stream",
     "text": [
      "2582040101520\n",
      "2582038586704\n",
      "False\n"
     ]
    }
   ],
   "source": [
    "a = 1.1\n",
    "b = 2.3\n",
    "print(id(a))\n",
    "print(id(b))\n",
    "print(a is b)"
   ]
  },
  {
   "cell_type": "code",
   "execution_count": 49,
   "id": "6a666b4a",
   "metadata": {},
   "outputs": [
    {
     "name": "stdout",
     "output_type": "stream",
     "text": [
      "2582061099184\n",
      "2582061100208\n",
      "False\n"
     ]
    }
   ],
   "source": [
    "a = 1+3j\n",
    "b = 1+3j\n",
    "print(id(a))\n",
    "print(id(b))\n",
    "print(a is b)"
   ]
  },
  {
   "cell_type": "code",
   "execution_count": 61,
   "id": "30055091",
   "metadata": {},
   "outputs": [
    {
     "name": "stdout",
     "output_type": "stream",
     "text": [
      "2581961507344\n",
      "2581961507664\n",
      "2581961507664\n"
     ]
    }
   ],
   "source": [
    "a = 10\n",
    "b = 20\n",
    "c = b\n",
    "print(id(a))\n",
    "print(id(b))\n",
    "print(id(c))\n"
   ]
  },
  {
   "cell_type": "code",
   "execution_count": 59,
   "id": "6a8eb6d1",
   "metadata": {},
   "outputs": [
    {
     "name": "stdout",
     "output_type": "stream",
     "text": [
      "2582038585584\n",
      "2582061100208\n",
      "2582038585584\n"
     ]
    }
   ],
   "source": [
    "a = 10.2\n",
    "b = 1.1\n",
    "c = a\n",
    "print(id(a))\n",
    "print(id(b))\n",
    "print(id(c))\n"
   ]
  },
  {
   "cell_type": "code",
   "execution_count": 62,
   "id": "3941bd7f",
   "metadata": {},
   "outputs": [
    {
     "name": "stdout",
     "output_type": "stream",
     "text": [
      "[1, 2, 3, 4, 5, 6]\n",
      "b'\\x01\\x02\\x03\\x04\\x05\\x06'\n",
      "4\n",
      "6\n",
      "[10, 20, 30, 40]\n",
      "b'\\n\\x14\\x1e('\n"
     ]
    }
   ],
   "source": [
    "# bytes\n",
    "a = [1,2,3,4,5,6]\n",
    "print(a)\n",
    "b = bytes(a)\n",
    "print(b)\n",
    "print(b[3])\n",
    "print(b[5])\n",
    "a = [10,20,30,40]\n",
    "print(a)\n",
    "b = bytes(a)\n",
    "print(b)"
   ]
  },
  {
   "cell_type": "code",
   "execution_count": 65,
   "id": "340ea938",
   "metadata": {},
   "outputs": [
    {
     "name": "stdout",
     "output_type": "stream",
     "text": [
      "[11, 22, 33, 44, 55]\n",
      "b'\\x0b\\x16!,7'\n",
      "11\n",
      "22\n",
      "33\n",
      "44\n",
      "55\n"
     ]
    },
    {
     "data": {
      "text/plain": [
       "33"
      ]
     },
     "execution_count": 65,
     "metadata": {},
     "output_type": "execute_result"
    }
   ],
   "source": [
    "a = [11,22,33,44,55]\n",
    "print(a)\n",
    "b = bytes(a)\n",
    "print(b)\n",
    "for x in b:\n",
    "    print(x)\n",
    "a[2]    "
   ]
  },
  {
   "cell_type": "code",
   "execution_count": 67,
   "id": "73fe5ab3",
   "metadata": {},
   "outputs": [
    {
     "name": "stdout",
     "output_type": "stream",
     "text": [
      "b'\\x01\\x02\\x03\\x04\\x05\\x06\\x07\\x08\\td'\n",
      "<class 'bytes'>\n",
      "1\n",
      "2\n",
      "3\n",
      "4\n",
      "5\n",
      "6\n",
      "7\n",
      "8\n",
      "9\n",
      "100\n"
     ]
    }
   ],
   "source": [
    "a = bytes([1,2,3,4,5,6,7,8,9,100])\n",
    "print(a)\n",
    "print(type(a))\n",
    "for i in a:\n",
    "    print(i)"
   ]
  },
  {
   "cell_type": "code",
   "execution_count": 74,
   "id": "412d8154",
   "metadata": {},
   "outputs": [
    {
     "name": "stdout",
     "output_type": "stream",
     "text": [
      "bytearray(b'\\n\\x14\\x1e(')\n",
      "<class 'bytearray'>\n",
      "10\n",
      "20\n",
      "30\n",
      "40\n"
     ]
    }
   ],
   "source": [
    "a = bytearray([10,20,30,40])\n",
    "print(a)\n",
    "print(type(a))\n",
    "for x in a:\n",
    "    print(x)\n"
   ]
  },
  {
   "cell_type": "code",
   "execution_count": 80,
   "id": "5c8bd6ae",
   "metadata": {},
   "outputs": [
    {
     "data": {
      "text/plain": [
       "20"
      ]
     },
     "execution_count": 80,
     "metadata": {},
     "output_type": "execute_result"
    }
   ],
   "source": [
    "a[3]\n",
    "a[0]\n",
    "a[1]\n"
   ]
  },
  {
   "cell_type": "code",
   "execution_count": 83,
   "id": "e359d5bf",
   "metadata": {},
   "outputs": [
    {
     "name": "stdout",
     "output_type": "stream",
     "text": [
      "[1, 2, 3, 4, 5, 6, 7, 8]\n",
      "<class 'list'>\n",
      "1\n",
      "2\n",
      "3\n",
      "4\n",
      "5\n",
      "6\n",
      "7\n",
      "8\n"
     ]
    }
   ],
   "source": [
    "# list\n",
    "a = [1,2,3,4,5,6,7,8]\n",
    "print(a)\n",
    "print(type(a))\n",
    "for x in a:\n",
    "    print(x)"
   ]
  },
  {
   "cell_type": "code",
   "execution_count": 85,
   "id": "9b41fe87",
   "metadata": {},
   "outputs": [
    {
     "name": "stdout",
     "output_type": "stream",
     "text": [
      "[1.1, 2.2, 3.3, 4.4, 5.5]\n",
      "<class 'list'>\n",
      "1.1\n",
      "2.2\n",
      "3.3\n",
      "4.4\n",
      "5.5\n"
     ]
    }
   ],
   "source": [
    "a = [1.1,2.2,3.3,4.4,5.5]\n",
    "print(a)\n",
    "print(type(a))\n",
    "for x in a:\n",
    "    print(x)"
   ]
  },
  {
   "cell_type": "code",
   "execution_count": 87,
   "id": "3bd26b2d",
   "metadata": {},
   "outputs": [
    {
     "name": "stdout",
     "output_type": "stream",
     "text": [
      "['11', '22', '33', '44']\n",
      "<class 'list'>\n",
      "11\n",
      "22\n",
      "33\n",
      "44\n"
     ]
    }
   ],
   "source": [
    "a = ['11','22','33','44']\n",
    "print(a)\n",
    "print(type(a))\n",
    "for x in a:\n",
    "    print(x)"
   ]
  },
  {
   "cell_type": "code",
   "execution_count": 88,
   "id": "fb7b221f",
   "metadata": {},
   "outputs": [
    {
     "name": "stdout",
     "output_type": "stream",
     "text": [
      "[1, 3.4, '66', 2, 3]\n",
      "<class 'list'>\n",
      "1\n",
      "3.4\n",
      "66\n",
      "2\n",
      "3\n"
     ]
    }
   ],
   "source": [
    "a = [1,3.4,'66',2,3]\n",
    "print(a)\n",
    "print(type(a))\n",
    "for x in a:\n",
    "    print(x)"
   ]
  },
  {
   "cell_type": "code",
   "execution_count": 95,
   "id": "6c2df3a8",
   "metadata": {},
   "outputs": [
    {
     "name": "stdout",
     "output_type": "stream",
     "text": [
      "[1, 2, 3, 4, 5, 6, 7, 8, 9]\n",
      "<class 'list'>\n",
      "[3, 4, 5]\n",
      "[5, 6, 7]\n"
     ]
    },
    {
     "data": {
      "text/plain": [
       "[1, 2, 3, 4, 5, 6, 7, 8, 9, 1, 2, 3, 4, 5, 6, 7, 8, 9]"
      ]
     },
     "execution_count": 95,
     "metadata": {},
     "output_type": "execute_result"
    }
   ],
   "source": [
    "a = [1,2,3,4,5,6,7,8,9]\n",
    "print(a)\n",
    "print(type(a))\n",
    "print(a[2:5])\n",
    "print(a[-5:-2])\n",
    "a*2\n"
   ]
  },
  {
   "cell_type": "code",
   "execution_count": 114,
   "id": "eae220a0",
   "metadata": {},
   "outputs": [
    {
     "name": "stdout",
     "output_type": "stream",
     "text": [
      "[1, 2, 3, 4, 5, 6, 7, 8, 9]\n",
      "[1, 2, 3, 4, 5, 6, 7, 8, 9, 10]\n",
      "[1, 2, 3, 4, 5, 6, 7, 8, 9]\n",
      "[1, 2, 3, 4, 5, 6, 7, 8, 9, 10]\n",
      "[1, 2, 3, 4, 5, 6, 7, 8, 9, 10, [1, 2, 3, 4, 5, 6, 7, 8, 9, 10, [1, 2, 3, 4, 5, 6, 7, 8, 9, 10, [1, 2, 3, 4, 5, 6, 7, 8, 9, 10, [1, 2, 3, 4, 5, 6, 7, 8, 9, 10, 3]]]]]\n",
      "[1, 2, 3, 4, 5, 6, 7, 8, 9, 10, [1, 2, 3, 4, 5, 6, 7, 8, 9, 10, [1, 2, 3, 4, 5, 6, 7, 8, 9, 10, [1, 2, 3, 4, 5, 6, 7, 8, 9, 10, [1, 2, 3, 4, 5, 6, 7, 8, 9, 10, 3]]]]]\n",
      "[1, 2, 3, 4, 5, 6, 7, 8, 9, 10, [1, 2, 3, 4, 5, 6, 7, 8, 9, 10, [1, 2, 3, 4, 5, 6, 7, 8, 9, 10, [1, 2, 3, 4, 5, 6, 7, 8, 9, 10, [1, 2, 3, 4, 5, 6, 7, 8, 9, 10, 3]]]]]\n",
      "3\n"
     ]
    }
   ],
   "source": [
    "a = [1,2,3,4,5,6,7,8,9]\n",
    "print(a)\n",
    "a.append(10)\n",
    "print(a)\n",
    "a .remove(10)\n",
    "print(a)\n",
    "a.extend([10])\n",
    "print(a)\n",
    "a.extend([x])\n",
    "print(a)\n",
    "x=a.copy()\n",
    "print(x)\n",
    "x.index((4))\n",
    "print(x)\n",
    "print(x.index((4)))"
   ]
  },
  {
   "cell_type": "code",
   "execution_count": 127,
   "id": "da3f5fc6",
   "metadata": {},
   "outputs": [
    {
     "name": "stdout",
     "output_type": "stream",
     "text": [
      "[10, 20, 30, 40, 50, 60]\n",
      "<class 'list'>\n",
      "[10, 20, 30, 40, 50, 60, 70]\n",
      "[10, 20, 30, 40, 50, 60]\n",
      "[10, 20, 30, 40, 50, 60]\n",
      "[10, 20, 30, 40, 50, 60, 70]\n",
      "2\n",
      "[10, 20, 30, 40, 50, 60, 70, 2]\n",
      "[10, 20, 30, 40, 50, 60, 70]\n",
      "[70, 60, 50, 40, 30, 20, 10]\n",
      "[10, 20, 30, 40, 50, 60, 70]\n"
     ]
    }
   ],
   "source": [
    "l = [10,20,30,40,50,60]\n",
    "print(l)\n",
    "print(type(l))\n",
    "l.append(70)\n",
    "print(l)\n",
    "l.remove(70)\n",
    "print(l)\n",
    "m =l .copy()\n",
    "print(m)\n",
    "l.extend([70])\n",
    "print(l)\n",
    "print(l.index(30))\n",
    "l.insert(20,2)\n",
    "print(l)\n",
    "l.pop()\n",
    "print(l)\n",
    "l.sort(reverse = True)\n",
    "print(l)\n",
    "l.sort(reverse =  False)\n",
    "print(l)"
   ]
  },
  {
   "cell_type": "code",
   "execution_count": 149,
   "id": "1aad04c1",
   "metadata": {},
   "outputs": [
    {
     "name": "stdout",
     "output_type": "stream",
     "text": [
      "(1, 2, 3, 4, 5, 6, 7, 8, 9)\n",
      "<class 'tuple'>\n",
      "[1, 2, 3, 4, 5, 6, 7, 8, 9]\n",
      "[1, 2, 3, 4, 5, 6, 7, 8, 9, 10]\n",
      "[1, 2, 3, 4, 5, 6, 7, 8, 9]\n",
      "[1, 2, 3, 4, 5, 6, 7, 8, 9]\n",
      "[1, 2, 3, 4, 5, 6, 7, 8, 9, 10]\n",
      "5\n",
      "[1, 2, 3, 4, 5, 6, 50, 7, 8, 9, 10]\n",
      "[1, 2, 3, 4, 5, 6, 50, 7, 8, 9]\n",
      "[50, 9, 8, 7, 6, 5, 4, 3, 2, 1]\n"
     ]
    }
   ],
   "source": [
    "a = (1,2,3,4,5,6,7,8,9)\n",
    "print(a)\n",
    "print(type(a))\n",
    "b = list(a)\n",
    "print(b)\n",
    "b.append(10)\n",
    "print(b)\n",
    "b.remove(10)\n",
    "print(b)\n",
    "c = b.copy()\n",
    "print(c)\n",
    "c.extend([10])\n",
    "print(c)\n",
    "print(c.index((6)))\n",
    "c.insert(6,50)\n",
    "print(c)\n",
    "c.pop()\n",
    "print(c)\n",
    "c.sort(reverse = True)\n",
    "print(c)\n",
    "c.sort(reverse = False)\n"
   ]
  },
  {
   "cell_type": "code",
   "execution_count": 158,
   "id": "3fd43fbc",
   "metadata": {},
   "outputs": [
    {
     "name": "stdout",
     "output_type": "stream",
     "text": [
      "(1, 2, 3, 4, 5)\n",
      "<class 'tuple'>\n",
      "(1.1, 2.2, 3.3)\n",
      "<class 'tuple'>\n",
      "('11', '22', '33')\n",
      "<class 'tuple'>\n",
      "(1, 2, 4.5, 6.7, '99')\n",
      "<class 'tuple'>\n",
      "1\n",
      "3\n"
     ]
    }
   ],
   "source": [
    "a  = (1,2,3,4,5)\n",
    "print(a)\n",
    "print(type(a))\n",
    "b = (1.1,2.2,3.3)\n",
    "print(b)\n",
    "print(type(b))\n",
    "c = ('11','22','33')\n",
    "print(c)\n",
    "print(type(c))\n",
    "m = (1,2,4.5,6.7,'99')\n",
    "print(m)\n",
    "print(type(m))\n",
    "print(a.count(4))\n",
    "\n",
    "print(a.index((4)))"
   ]
  },
  {
   "cell_type": "code",
   "execution_count": 160,
   "id": "ae8d1508",
   "metadata": {},
   "outputs": [
    {
     "name": "stdout",
     "output_type": "stream",
     "text": [
      "['mango', 'kiwi']\n",
      "<class 'list'>\n"
     ]
    },
    {
     "data": {
      "text/plain": [
       "['mango', 'kiwi']"
      ]
     },
     "execution_count": 160,
     "metadata": {},
     "output_type": "execute_result"
    }
   ],
   "source": [
    "l = ['mango','kiwi']\n",
    "print(l)\n",
    "print(type(l))\n",
    "l[0:3]"
   ]
  },
  {
   "cell_type": "code",
   "execution_count": 165,
   "id": "7924be8e",
   "metadata": {},
   "outputs": [
    {
     "name": "stdout",
     "output_type": "stream",
     "text": [
      "('aa', 'bb', 'cc', 'dd')\n",
      "<class 'tuple'>\n",
      "4\n"
     ]
    },
    {
     "data": {
      "text/plain": [
       "'cc'"
      ]
     },
     "execution_count": 165,
     "metadata": {},
     "output_type": "execute_result"
    }
   ],
   "source": [
    "tup = ('aa','bb','cc','dd')\n",
    "print(tup)\n",
    "print(type(tup))\n",
    "print(len(tup))\n",
    "tup[2]\n",
    "tup[1:2]\n",
    "tup[-2]"
   ]
  },
  {
   "cell_type": "code",
   "execution_count": 193,
   "id": "a9635a6c",
   "metadata": {},
   "outputs": [
    {
     "name": "stdout",
     "output_type": "stream",
     "text": [
      "{1, 2, 3, 4}\n",
      "<class 'set'>\n",
      "4\n",
      "{40, 10, 50, 20, 30}\n",
      "<class 'set'>\n",
      "40\n",
      "10\n",
      "50\n",
      "20\n",
      "30\n",
      "{'ee', 'cc', 'aa', 'bb', 'dd'}\n",
      "<class 'set'>\n",
      "{'ee', 'cc', 'aa', 'bb', 'dd', 'ff'}\n",
      "{1, 2, 3, 4, 5}\n",
      "<class 'set'>\n",
      "{1, 2, 3, 4, 5, 40, 10, 20, 30}\n",
      "{11, 22}\n",
      "{33, 44}\n",
      "{33, 11, 44, 22}\n",
      "{'aa', 'bb'}\n",
      "{'cc', 'dd'}\n",
      "{'aa', 'cc', 'bb', 'dd'}\n",
      "{'cc', 'bb', 'dd'}\n",
      "{'bb', 'dd'}\n",
      "{'dd'}\n",
      "{1, 2, 3, 4, 5, 6, 7, 8}\n",
      "{4, 5}\n",
      "{1, 2, 3, 4}\n",
      "{8, 5, 6, 7}\n",
      "{1, 2, 3, 11, 12}\n",
      "{1, 2, 3}\n"
     ]
    }
   ],
   "source": [
    "# sets\n",
    "a = {1,2,3,4}\n",
    "print(a)\n",
    "print(type(a))\n",
    "print(len(a))\n",
    "a = set([10,20,30,40,50])\n",
    "print(a)\n",
    "print(type(a))\n",
    "for x in a:\n",
    "    print(x)\n",
    "a = {'aa','bb','cc','dd','ee'}\n",
    "print(a)\n",
    "print(type(a))\n",
    "'cc' not in a\n",
    "'dd' in a\n",
    "a .add('ff')\n",
    "print(a)\n",
    "a = {1,2,3,4,5}\n",
    "print(a)\n",
    "print(type(a))\n",
    "b = {10,20,30,40}\n",
    "a.update(b)\n",
    "print(a)\n",
    "a ={11,22}\n",
    "print(a)\n",
    "b = {33,44}\n",
    "print(b)\n",
    "a.update(b)\n",
    "print(a)\n",
    "a = {'aa','bb'}\n",
    "print(a)\n",
    "b = {'cc','dd'}\n",
    "print(b)\n",
    "a.update(b)\n",
    "print(a)\n",
    "a .pop()\n",
    "print(a)\n",
    "a.remove('cc')\n",
    "print(a)\n",
    "a.discard('bb')\n",
    "print(a)\n",
    "a = {1,2,3,4,5}\n",
    "b = {4,5,6,7,8}\n",
    "c = a.union(b)\n",
    "print(c)\n",
    "c = a.intersection(b)\n",
    "print(c)\n",
    "a = {1,2,3,4}\n",
    "b = {5,6,7,8}\n",
    "c = {1,2,3,11,12}\n",
    "print(a)\n",
    "print(b)\n",
    "print(c)\n",
    "a .intersection_update(c)\n",
    "print(a)"
   ]
  },
  {
   "cell_type": "code",
   "execution_count": 167,
   "id": "5b1f391a",
   "metadata": {},
   "outputs": [
    {
     "name": "stdout",
     "output_type": "stream",
     "text": [
      "(10, 20, 30)\n",
      "[10, 20, 30]\n"
     ]
    }
   ],
   "source": [
    "a = tuple((10,20,30))\n",
    "print(a)\n",
    "b = list(a)\n",
    "print(b)"
   ]
  },
  {
   "cell_type": "code",
   "execution_count": 212,
   "id": "beba6554",
   "metadata": {},
   "outputs": [
    {
     "name": "stdout",
     "output_type": "stream",
     "text": [
      "{'name': 'lili', 'sub': 'cs'}\n",
      "cs\n",
      "lili\n"
     ]
    }
   ],
   "source": [
    "# dictionary\n",
    "dict1 = {\n",
    "     'name': 'lili',\n",
    "     'sub' : 'cs'\n",
    "}\n",
    "print(dict1)\n",
    "print(dict1['sub'])\n",
    "print(dict1.get('name'))\n"
   ]
  },
  {
   "cell_type": "code",
   "execution_count": 228,
   "id": "cae2fb06",
   "metadata": {},
   "outputs": [
    {
     "name": "stdout",
     "output_type": "stream",
     "text": [
      "{'name': 'kuku', 'sub': 'cs', 'rn': 30, 'class': 'bsc'}\n",
      "30\n",
      "cs\n",
      "dict_keys(['name', 'sub', 'rn', 'class'])\n",
      "dict_values(['kuku', 'cs', 30, 'bsc'])\n",
      "{'name': 'kuku', 'sub': 'cs', 'rn': 30, 'class': 'bsc', 'city': 'pune'}\n",
      "{'name': 'kuku', 'sub': 'cs', 'rn': 30, 'class': 'bsc', 'city': 'pune', 'lname': 'varma'}\n",
      "{'name': 'kuku', 'sub': 'cs', 'rn': 30, 'class': 'bsc', 'city': 'pune', 'lname': 'varma'}\n",
      "{'name': 'kuku', 'sub': 'cs', 'rn': 30, 'class': 'bsc', 'city': 'mumbai', 'lname': 'varma'}\n"
     ]
    }
   ],
   "source": [
    "s = {\n",
    "    'name': 'kuku',\n",
    "    'sub': 'cs',\n",
    "    'rn': 30,\n",
    "    'class': 'bsc'\n",
    "}\n",
    "print(s)\n",
    "print(s['rn'])\n",
    "print(s.get('sub'))\n",
    "print(s.keys())\n",
    "print(s.values())\n",
    "s['city'] = 'pune'\n",
    "print(s)\n",
    "s['lname']= 'varma'\n",
    "print(s)\n",
    "s.items()\n",
    "print(s)\n",
    "s['city'] = 'mumbai'\n",
    "print(s)"
   ]
  },
  {
   "cell_type": "code",
   "execution_count": 231,
   "id": "18967ef2",
   "metadata": {},
   "outputs": [
    {
     "name": "stdout",
     "output_type": "stream",
     "text": [
      "{'name': 'kuku', 'sub': 'cs', 'rn': 30, 'class': 'bsc', 'city': 'mumbai', 'lname': 'varma'}\n",
      "dict_items([('name', 'kuku'), ('sub', 'cs'), ('rn', 30), ('class', 'bsc'), ('city', 'mumbai'), ('lname', 'varma')])\n",
      "dict_items([('name', 'kuku'), ('sub', 'cs'), ('rn', 30), ('class', 'bsc'), ('city', 'mumbai'), ('lname', 'varma'), ('mname', 'lili'), ('mail', 'abc@gmail.com')])\n"
     ]
    }
   ],
   "source": [
    "# update\n",
    "print(s)\n",
    "print(s.items())\n",
    "s.update({\n",
    "    'mname':'lili',\n",
    "    'mail': 'abc@gmail.com'\n",
    "})\n",
    "print(s.items())"
   ]
  },
  {
   "cell_type": "code",
   "execution_count": 239,
   "id": "c9b7ce81",
   "metadata": {},
   "outputs": [
    {
     "name": "stdout",
     "output_type": "stream",
     "text": [
      "{1, 2, 3, 4, 5}\n",
      "<class 'set'>\n",
      "frozenset({1, 2, 3, 4, 5})\n",
      "{1, 2, 3, 4, 5}\n",
      "{1, 2, 3, 4, 5, 6, 7, 8, 9, 10}\n"
     ]
    }
   ],
   "source": [
    "a = {1,2,3,4,5}\n",
    "print(a)\n",
    "print(type(a))\n",
    "c = frozenset(a)\n",
    "print(c)\n",
    "\n",
    "x = set(a)\n",
    "print(x)\n",
    "a= {1,2,3,4,5}\n",
    "b = {6,7,8,9,10}\n",
    "c = a.union(b)\n",
    "print(c)"
   ]
  },
  {
   "cell_type": "code",
   "execution_count": 262,
   "id": "ed59cf85",
   "metadata": {},
   "outputs": [
    {
     "name": "stdout",
     "output_type": "stream",
     "text": [
      "30\n",
      "-10\n",
      "1000\n",
      "0.5\n",
      "10000000000000000000000000000000000000000000000000000000000000000000000000000000000000000000000000000000000000000000000000000000000000000000000000000000000000000000000000000000000000000000000000000000000000000000000000000000000000000000000000000000000000000000000000000000000000000000000000000000000000000000000000000000000000000000000000000000000000000000000000000000000000000000000000000000000000000\n",
      "0\n",
      "10\n",
      "60\n",
      "55\n",
      "220\n",
      "44.0\n",
      "164916224.0\n",
      "10994414.0\n",
      "4.0\n",
      "False\n",
      "True\n",
      "False\n",
      "True\n",
      "True\n",
      "True\n",
      "False\n",
      "True\n",
      "True\n",
      "2581961507344\n",
      "2581961507664\n",
      "False\n",
      "2582063709360\n",
      "2582063707536\n",
      "False\n",
      "[10, 20, 30, 40]\n",
      "True\n",
      "False\n",
      "(11, 22, 33, 44)\n",
      "False\n",
      "{11, 12, 13, 14}\n",
      "False\n"
     ]
    }
   ],
   "source": [
    "# opertors\n",
    "# arthmetic opetors\n",
    "a = 10\n",
    "b = 20\n",
    "c = a+b\n",
    "print(c)\n",
    "a = 20\n",
    "b = 30\n",
    "c = a-b\n",
    "print(c)\n",
    "a = 200\n",
    "b = 5\n",
    "c= a*b\n",
    "print(c)\n",
    "a = 10\n",
    "b = 20\n",
    "c = a/b\n",
    "print(c)\n",
    "a = 100\n",
    "b = 200\n",
    "c = a**b\n",
    "print(c)\n",
    "a = 10\n",
    "b =30\n",
    "c = a//b\n",
    "print(c)\n",
    "a = 10\n",
    "b = 40\n",
    "c = a%b\n",
    "print(c)\n",
    "# assignment opertors\n",
    "a = 50\n",
    "a +=10\n",
    "print(a)\n",
    "a -=5\n",
    "print(a)\n",
    "a *=4\n",
    "print(a)\n",
    "a /=5\n",
    "print(a)\n",
    "a**=5\n",
    "print(a)\n",
    "a//=15\n",
    "print(a)\n",
    "a%=5\n",
    "print(a)\n",
    "# compasion opertors\n",
    "a = 10\n",
    "b = 20\n",
    "print(a==b)\n",
    "print(a!=b)\n",
    "print(a>b)\n",
    "print(a<b)\n",
    "print(a<=b)\n",
    "print(b>=a)\n",
    "# logical opertors\n",
    "a = 100\n",
    "b = 200\n",
    "print(a>b)or(b<a)\n",
    "print(a<b)and(a<b)\n",
    "print(not(a>b))\n",
    "# identity\n",
    "a = 10\n",
    "b = 20\n",
    "print(id(a))\n",
    "print(id(b))\n",
    "print(a is b)\n",
    "a = 1+4j\n",
    "b = 5+6j\n",
    "print(id(a))\n",
    "print(id(b))\n",
    "print(a is b)\n",
    "# membership opertors\n",
    "a = [10,20,30,40]\n",
    "print(a)\n",
    "print(20 in a)\n",
    "print(100 in a)\n",
    "b = (11,22,33,44)\n",
    "print(b)\n",
    "print(22 not in b)\n",
    "c = {11,12,13,14}\n",
    "print(c)\n",
    "print(13 not in c)"
   ]
  },
  {
   "cell_type": "code",
   "execution_count": 268,
   "id": "321a3c8c",
   "metadata": {},
   "outputs": [
    {
     "name": "stdout",
     "output_type": "stream",
     "text": [
      "0\n",
      "31\n",
      "-31\n",
      "0\n",
      "800\n"
     ]
    }
   ],
   "source": [
    "# bitwise opertors\n",
    "a = 10\n",
    "b = 20\n",
    "c =a&b\n",
    "print(c)\n",
    "a = 15\n",
    "b = 20\n",
    "c = a|b\n",
    "print(c)\n",
    "a = 30\n",
    "print(~(a))\n",
    "a = 10\n",
    "b = a>>4\n",
    "print(b)\n",
    "a = 25\n",
    "b = a<<5\n",
    "print(b)"
   ]
  },
  {
   "cell_type": "code",
   "execution_count": 274,
   "id": "b08562c6",
   "metadata": {},
   "outputs": [
    {
     "name": "stdout",
     "output_type": "stream",
     "text": [
      "a is small\n",
      "a and b equal\n",
      "a is small\n"
     ]
    }
   ],
   "source": [
    "# conditional statement\n",
    "a = 10\n",
    "b = 20\n",
    "if a<b:\n",
    "    print('a is small')\n",
    "a = 10\n",
    "b = 10\n",
    "if a<b:\n",
    "    print('b is big')\n",
    "else:\n",
    "    print('a and b equal')\n",
    "a = 10\n",
    "b = 20\n",
    "if a==b:\n",
    "    print('a and b equal')\n",
    "elif a<b:\n",
    "    print('a is small')\n",
    "else:\n",
    "    print('b is big')"
   ]
  },
  {
   "cell_type": "code",
   "execution_count": 278,
   "id": "e565c7af",
   "metadata": {},
   "outputs": [
    {
     "name": "stdout",
     "output_type": "stream",
     "text": [
      "a is small\n",
      "x is small\n",
      "a is less than b\n"
     ]
    }
   ],
   "source": [
    "a = 10\n",
    "b = 20\n",
    "if a<b: print('a is small')\n",
    "x = 100\n",
    "y = 150\n",
    "print('x is small') if x<y else print('x is less than y')\n",
    "a = 120\n",
    "b = 340\n",
    "print('a is small') if a==b else print('a is less than b')"
   ]
  },
  {
   "cell_type": "code",
   "execution_count": 287,
   "id": "a347a721",
   "metadata": {},
   "outputs": [],
   "source": [
    "a = 10\n",
    "b = 20\n",
    "if a<b:\n",
    "    pass\n",
    "else:\n",
    "    print('a and b equal')\n",
    "    \n",
    "\n"
   ]
  },
  {
   "cell_type": "code",
   "execution_count": 284,
   "id": "93edca45",
   "metadata": {},
   "outputs": [
    {
     "name": "stdout",
     "output_type": "stream",
     "text": [
      "enter the number10\n",
      "enter the number20\n",
      "30\n"
     ]
    }
   ],
   "source": [
    "a = int(input('enter the number'))\n",
    "b = int(input('enter the number'))\n",
    "c = a+b\n",
    "print(c)\n"
   ]
  },
  {
   "cell_type": "code",
   "execution_count": 285,
   "id": "9f09a884",
   "metadata": {},
   "outputs": [
    {
     "name": "stdout",
     "output_type": "stream",
     "text": [
      "enter the number40\n",
      "a grade\n"
     ]
    }
   ],
   "source": [
    "a = 100\n",
    "a = int(input('enter the number'))\n",
    "if a<90:\n",
    "    print('a grade')\n",
    "elif a<80:\n",
    "    print('b grade')\n",
    "elif a<70:\n",
    "    print('c grade')\n",
    "else:\n",
    "    print('pass')\n",
    "        "
   ]
  },
  {
   "cell_type": "code",
   "execution_count": 288,
   "id": "b7ba6482",
   "metadata": {},
   "outputs": [
    {
     "name": "stdout",
     "output_type": "stream",
     "text": [
      "1\n",
      "2\n",
      "3\n",
      "4\n",
      "5\n",
      "6\n",
      "7\n",
      "8\n",
      "9\n",
      "10\n",
      "11\n",
      "12\n",
      "13\n",
      "14\n",
      "15\n",
      "16\n",
      "17\n",
      "18\n",
      "19\n"
     ]
    }
   ],
   "source": [
    "# looping statement\n",
    "# while loop\n",
    "a = 1\n",
    "while a<20:\n",
    "    print(a)\n",
    "    a = a+1"
   ]
  },
  {
   "cell_type": "code",
   "execution_count": 289,
   "id": "c77d7b4c",
   "metadata": {},
   "outputs": [
    {
     "name": "stdout",
     "output_type": "stream",
     "text": [
      "20\n",
      "19\n",
      "18\n",
      "17\n",
      "16\n",
      "15\n",
      "14\n",
      "13\n",
      "12\n",
      "11\n",
      "10\n",
      "9\n",
      "8\n",
      "7\n",
      "6\n",
      "5\n",
      "4\n",
      "3\n",
      "2\n"
     ]
    }
   ],
   "source": [
    "a =20\n",
    "while a>1:\n",
    "    print(a)\n",
    "    a=a-1"
   ]
  },
  {
   "cell_type": "code",
   "execution_count": 290,
   "id": "2d200eb2",
   "metadata": {},
   "outputs": [
    {
     "name": "stdout",
     "output_type": "stream",
     "text": [
      "1\n",
      "2\n",
      "3\n",
      "4\n",
      "5\n"
     ]
    }
   ],
   "source": [
    "a = 1\n",
    "while a<10:\n",
    "    print(a)\n",
    "    if a==5:\n",
    "        break\n",
    "    a = a+1    \n",
    "    "
   ]
  },
  {
   "cell_type": "code",
   "execution_count": 291,
   "id": "ade47e99",
   "metadata": {},
   "outputs": [
    {
     "name": "stdout",
     "output_type": "stream",
     "text": [
      "20\n",
      "19\n",
      "18\n",
      "17\n",
      "16\n",
      "15\n",
      "14\n",
      "13\n",
      "12\n",
      "11\n",
      "10\n"
     ]
    }
   ],
   "source": [
    "a = 20\n",
    "while a>1:\n",
    "    print(a)\n",
    "    if a==10:\n",
    "        break\n",
    "    a = a-1    "
   ]
  },
  {
   "cell_type": "code",
   "execution_count": 299,
   "id": "803693e1",
   "metadata": {},
   "outputs": [
    {
     "name": "stdout",
     "output_type": "stream",
     "text": [
      "1\n",
      "2\n",
      "3\n",
      "4\n",
      "6\n",
      "7\n",
      "8\n",
      "9\n",
      "10\n",
      "11\n",
      "12\n",
      "13\n",
      "14\n",
      "15\n",
      "16\n",
      "17\n",
      "18\n",
      "19\n"
     ]
    }
   ],
   "source": [
    "a = 1\n",
    "while a <20:\n",
    "    if a ==5:\n",
    "        a = a+1\n",
    "        continue\n",
    "    print(a)\n",
    "    a = a+1"
   ]
  },
  {
   "cell_type": "code",
   "execution_count": 295,
   "id": "ec7c7c50",
   "metadata": {},
   "outputs": [
    {
     "name": "stdout",
     "output_type": "stream",
     "text": [
      "1\n",
      "2\n",
      "3\n",
      "4\n",
      "5\n",
      "6\n",
      "7\n",
      "8\n",
      "9\n",
      "10\n",
      "11\n",
      "12\n",
      "13\n",
      "14\n",
      "15\n",
      "16\n",
      "17\n",
      "18\n",
      "19\n",
      "20\n",
      "21\n",
      "22\n",
      "23\n",
      "24\n",
      "25\n",
      "26\n",
      "27\n",
      "28\n",
      "29\n",
      "30\n",
      "31\n",
      "32\n",
      "33\n",
      "34\n",
      "35\n",
      "36\n",
      "37\n",
      "38\n",
      "39\n",
      "40\n",
      "41\n",
      "42\n",
      "43\n",
      "44\n",
      "45\n",
      "46\n",
      "47\n",
      "48\n",
      "50\n",
      "51\n",
      "52\n",
      "53\n",
      "54\n",
      "55\n",
      "56\n",
      "57\n",
      "58\n",
      "59\n",
      "60\n",
      "61\n",
      "62\n",
      "63\n",
      "64\n",
      "65\n",
      "66\n",
      "67\n",
      "68\n",
      "69\n",
      "70\n",
      "71\n",
      "72\n",
      "73\n",
      "74\n",
      "75\n",
      "76\n",
      "77\n",
      "78\n",
      "79\n",
      "80\n",
      "81\n",
      "82\n",
      "83\n",
      "84\n",
      "85\n",
      "86\n",
      "87\n",
      "88\n",
      "89\n",
      "90\n",
      "91\n",
      "92\n",
      "93\n",
      "94\n",
      "95\n",
      "96\n",
      "97\n",
      "98\n",
      "99\n"
     ]
    }
   ],
   "source": [
    "a=1\n",
    "while a<100:\n",
    "    if a==49:\n",
    "        a=a+1\n",
    "        continue\n",
    "    print(a)\n",
    "    a=a+1"
   ]
  },
  {
   "cell_type": "code",
   "execution_count": 301,
   "id": "385dc041",
   "metadata": {},
   "outputs": [
    {
     "name": "stdout",
     "output_type": "stream",
     "text": [
      "1\n",
      "2\n",
      "3\n",
      "4\n",
      "6\n",
      "7\n",
      "8\n",
      "9\n",
      "10\n",
      "11\n",
      "12\n",
      "13\n",
      "14\n",
      "15\n",
      "16\n",
      "17\n",
      "18\n",
      "19\n",
      "20\n",
      "21\n",
      "22\n",
      "23\n",
      "24\n"
     ]
    }
   ],
   "source": [
    "a = 1\n",
    "while a<25:\n",
    "    if a==5:\n",
    "        a = a+1\n",
    "        continue\n",
    "    print(a)  \n",
    "    a = a+1"
   ]
  },
  {
   "cell_type": "code",
   "execution_count": 304,
   "id": "a37ad876",
   "metadata": {},
   "outputs": [
    {
     "name": "stdout",
     "output_type": "stream",
     "text": [
      "1\n",
      "2\n",
      "3\n",
      "4\n",
      "5\n"
     ]
    }
   ],
   "source": [
    "a = 1\n",
    "while a<25:\n",
    "    print(a)\n",
    "    if a ==5:\n",
    "        break\n",
    "    a = a+1 \n",
    "else:\n",
    "    print('hi')\n",
    "    "
   ]
  },
  {
   "cell_type": "code",
   "execution_count": 306,
   "id": "92b2c93b",
   "metadata": {},
   "outputs": [
    {
     "name": "stdout",
     "output_type": "stream",
     "text": [
      "1\n",
      "2\n",
      "3\n",
      "4\n",
      "5\n",
      "6\n",
      "7\n",
      "8\n",
      "9\n",
      "11\n",
      "12\n",
      "13\n",
      "14\n",
      "15\n",
      "16\n",
      "17\n",
      "18\n",
      "19\n",
      "hii\n"
     ]
    }
   ],
   "source": [
    "a = 1\n",
    "while a<20:\n",
    "    if a==10:\n",
    "        a = a+1\n",
    "        continue\n",
    "    print(a)\n",
    "    a =a +1\n",
    "else:\n",
    "    print('hii')"
   ]
  },
  {
   "cell_type": "code",
   "execution_count": 311,
   "id": "0974c37a",
   "metadata": {},
   "outputs": [
    {
     "name": "stdout",
     "output_type": "stream",
     "text": [
      "[1, 2, 3, 4, 5, 6, 7, 8]\n",
      "while on list\n",
      "2\n",
      "3\n",
      "4\n",
      "5\n",
      "6\n",
      "7\n",
      "8\n"
     ]
    }
   ],
   "source": [
    "a = [1,2,3,4,5,6,7,8]\n",
    "print(a)\n",
    "print('while on list')\n",
    "b =1\n",
    "while b<len(a):\n",
    "    print(a[b])\n",
    "    b = b+1"
   ]
  },
  {
   "cell_type": "code",
   "execution_count": 312,
   "id": "5022bddf",
   "metadata": {},
   "outputs": [
    {
     "name": "stdout",
     "output_type": "stream",
     "text": [
      "['AA', 'BB', 'CC', 'DD']\n",
      "while on list\n",
      "AA\n",
      "BB\n",
      "CC\n",
      "DD\n"
     ]
    }
   ],
   "source": [
    "a = ['AA','BB','CC','DD']\n",
    "print(a)\n",
    "print('while on list')\n",
    "b = 0\n",
    "while b<len(a):\n",
    "    print(a[b])\n",
    "    b = b+1"
   ]
  },
  {
   "cell_type": "code",
   "execution_count": 313,
   "id": "f6bfe484",
   "metadata": {},
   "outputs": [
    {
     "name": "stdout",
     "output_type": "stream",
     "text": [
      "(11, 22, 33, 44, 55, 66)\n",
      "while on list\n",
      "33\n",
      "44\n",
      "55\n",
      "66\n"
     ]
    }
   ],
   "source": [
    "a = (11,22,33,44,55,66)\n",
    "print(a)\n",
    "print('while on list')\n",
    "b = 2\n",
    "while b<len(a):\n",
    "    print(a[b])\n",
    "    b = b+1"
   ]
  },
  {
   "cell_type": "code",
   "execution_count": 314,
   "id": "5f3d3ab8",
   "metadata": {},
   "outputs": [
    {
     "name": "stdout",
     "output_type": "stream",
     "text": [
      "('aa', 'bb', 'cc', 'dd', 'ee')\n",
      "while on list\n",
      "bb\n",
      "cc\n",
      "dd\n",
      "ee\n"
     ]
    }
   ],
   "source": [
    "x = ('aa','bb','cc','dd','ee')\n",
    "print(x)\n",
    "print('while on list')\n",
    "y = 1\n",
    "while y<len(x):\n",
    "    print(x[y])\n",
    "    y = y+1"
   ]
  },
  {
   "cell_type": "code",
   "execution_count": 319,
   "id": "38bf0b2f",
   "metadata": {},
   "outputs": [
    {
     "name": "stdout",
     "output_type": "stream",
     "text": [
      "['aa', 'bb', 'cc', 'dd', 'ee']\n",
      "<class 'list'>\n",
      "5\n",
      "aa\n",
      "bb\n",
      "cc\n",
      "dd\n",
      "ee\n",
      "cc\n"
     ]
    }
   ],
   "source": [
    "# for loop\n",
    "a = ['aa','bb','cc','dd','ee']\n",
    "print(a)\n",
    "print(type(a))\n",
    "print(len(a))\n",
    "for x in a:\n",
    "    print(x)\n",
    "for x in a:\n",
    "    if x == 'cc':\n",
    "        print(x)"
   ]
  },
  {
   "cell_type": "code",
   "execution_count": 320,
   "id": "39cd5cb3",
   "metadata": {},
   "outputs": [
    {
     "name": "stdout",
     "output_type": "stream",
     "text": [
      "hello python\n",
      "12\n",
      "h\n",
      "e\n",
      "l\n",
      "l\n",
      "o\n",
      " \n",
      "p\n",
      "y\n",
      "t\n",
      "h\n",
      "o\n",
      "n\n"
     ]
    }
   ],
   "source": [
    "a = 'hello python'\n",
    "print(a)\n",
    "print(len(a))\n",
    "for x in a:\n",
    "    print(x)"
   ]
  },
  {
   "cell_type": "code",
   "execution_count": 321,
   "id": "d5d2cebe",
   "metadata": {},
   "outputs": [
    {
     "name": "stdout",
     "output_type": "stream",
     "text": [
      "(10, 20, 30, 40, 50, 60)\n",
      "6\n",
      "10\n",
      "20\n",
      "30\n",
      "40\n",
      "50\n",
      "60\n"
     ]
    }
   ],
   "source": [
    "tup = (10,20,30,40,50,60)\n",
    "print(tup)\n",
    "print(len(tup))\n",
    "for x in tup:\n",
    "    print(x)"
   ]
  },
  {
   "cell_type": "code",
   "execution_count": 323,
   "id": "1007d010",
   "metadata": {},
   "outputs": [
    {
     "name": "stdout",
     "output_type": "stream",
     "text": [
      "10\n",
      "30\n",
      "40\n",
      "50\n",
      "60\n"
     ]
    }
   ],
   "source": [
    "for x in tup:\n",
    "    if x==20:\n",
    "        continue\n",
    "    print(x)    "
   ]
  },
  {
   "cell_type": "code",
   "execution_count": 326,
   "id": "b0b74957",
   "metadata": {},
   "outputs": [],
   "source": [
    "for x in tup:\n",
    "    if x ==10:\n",
    "        break\n",
    "    print(x)    "
   ]
  },
  {
   "cell_type": "code",
   "execution_count": 328,
   "id": "44b0c729",
   "metadata": {},
   "outputs": [
    {
     "name": "stdout",
     "output_type": "stream",
     "text": [
      "10\n",
      "20\n"
     ]
    }
   ],
   "source": [
    "for x in tup:\n",
    "    if x ==30:\n",
    "        break\n",
    "    print(x)    "
   ]
  },
  {
   "cell_type": "code",
   "execution_count": 329,
   "id": "14bedffa",
   "metadata": {},
   "outputs": [
    {
     "name": "stdout",
     "output_type": "stream",
     "text": [
      "10\n"
     ]
    }
   ],
   "source": [
    "for x in tup:\n",
    "    if x ==20:\n",
    "        break\n",
    "    print(x)    "
   ]
  },
  {
   "cell_type": "code",
   "execution_count": 333,
   "id": "167ac4fb",
   "metadata": {},
   "outputs": [
    {
     "name": "stdout",
     "output_type": "stream",
     "text": [
      "{'name': 'lili', 'sub': 'cs', 'rn': 10, 'mobile': 9987654345}\n",
      "name\n",
      "sub\n",
      "rn\n",
      "mobile\n",
      "name\n",
      "sub\n",
      "rn\n",
      "mobile\n",
      "lili\n",
      "cs\n",
      "10\n",
      "9987654345\n",
      "('name', 'lili')\n",
      "('sub', 'cs')\n",
      "('rn', 10)\n",
      "('mobile', 9987654345)\n"
     ]
    }
   ],
   "source": [
    "dict1 = {\n",
    "    'name':'lili',\n",
    "    'sub': 'cs',\n",
    "    'rn': 10,\n",
    "    'mobile':9987654345\n",
    "}\n",
    "print(dict1)\n",
    "for x in dict1:\n",
    "    print(x)\n",
    "for x in dict1.keys():\n",
    "    print(x)\n",
    "for x in dict1.values():\n",
    "    print(x)\n",
    "for x in dict1.items():\n",
    "    print(x)"
   ]
  },
  {
   "cell_type": "code",
   "execution_count": 335,
   "id": "d1527370",
   "metadata": {},
   "outputs": [
    {
     "name": "stdout",
     "output_type": "stream",
     "text": [
      "{33, 66, 22, 55, 11, 44}\n",
      "33\n",
      "66\n",
      "22\n",
      "55\n",
      "11\n",
      "44\n",
      "33\n"
     ]
    }
   ],
   "source": [
    "set1 = {11,22,33,44,55,66}\n",
    "print(set1)\n",
    "for x in set1:\n",
    "    print(x)\n",
    "for x in set1:\n",
    "    if x == 33:\n",
    "        print(x)"
   ]
  },
  {
   "cell_type": "code",
   "execution_count": 336,
   "id": "d3e4d966",
   "metadata": {},
   "outputs": [
    {
     "name": "stdout",
     "output_type": "stream",
     "text": [
      "0\n",
      "1\n",
      "2\n",
      "3\n",
      "4\n",
      "5\n",
      "6\n",
      "7\n",
      "8\n",
      "9\n",
      "10\n",
      "11\n",
      "12\n",
      "13\n",
      "14\n",
      "15\n",
      "16\n",
      "17\n",
      "18\n",
      "19\n"
     ]
    }
   ],
   "source": [
    "# range\n",
    "for x in range(20):\n",
    "    print(x)"
   ]
  },
  {
   "cell_type": "code",
   "execution_count": 337,
   "id": "39a64248",
   "metadata": {},
   "outputs": [
    {
     "name": "stdout",
     "output_type": "stream",
     "text": [
      "0\n",
      "1\n",
      "2\n",
      "3\n",
      "4\n",
      "5\n",
      "6\n",
      "7\n",
      "8\n",
      "9\n"
     ]
    }
   ],
   "source": [
    "for x in range(20):\n",
    "    if x ==10:\n",
    "        break\n",
    "    print(x)    "
   ]
  },
  {
   "cell_type": "code",
   "execution_count": 1,
   "id": "8cd15770",
   "metadata": {},
   "outputs": [
    {
     "name": "stdout",
     "output_type": "stream",
     "text": [
      "hello python\n",
      "h\n",
      "e\n",
      "l\n",
      "l\n",
      "o\n",
      " \n",
      "p\n",
      "y\n",
      "t\n",
      "h\n",
      "o\n",
      "n\n"
     ]
    }
   ],
   "source": [
    "str1 = 'hello python'\n",
    "print(str1)\n",
    "for x in str1:\n",
    "    print(x)"
   ]
  },
  {
   "cell_type": "code",
   "execution_count": 2,
   "id": "6a2cbb79",
   "metadata": {},
   "outputs": [
    {
     "name": "stdout",
     "output_type": "stream",
     "text": [
      "[10, 20, 30, 40, 50]\n",
      "10\n",
      "20\n",
      "30\n",
      "40\n",
      "50\n"
     ]
    }
   ],
   "source": [
    "a = [10,20,30,40,50]\n",
    "print(a)\n",
    "for x in a:\n",
    "    print(x)"
   ]
  },
  {
   "cell_type": "code",
   "execution_count": 339,
   "id": "1a19fdc7",
   "metadata": {},
   "outputs": [
    {
     "name": "stdout",
     "output_type": "stream",
     "text": [
      "0\n",
      "1\n",
      "2\n",
      "3\n",
      "4\n",
      "5\n",
      "6\n",
      "7\n",
      "8\n",
      "9\n",
      "11\n",
      "12\n",
      "13\n",
      "14\n",
      "15\n",
      "16\n",
      "17\n",
      "18\n",
      "19\n"
     ]
    }
   ],
   "source": [
    "for x in range(20):\n",
    "    if x ==10:\n",
    "        continue\n",
    "    print(x)    "
   ]
  },
  {
   "cell_type": "code",
   "execution_count": 343,
   "id": "a0421052",
   "metadata": {},
   "outputs": [
    {
     "name": "stdout",
     "output_type": "stream",
     "text": [
      "1\n",
      "2\n",
      "3\n",
      "4\n",
      "5\n",
      "6\n",
      "7\n",
      "8\n",
      "9\n"
     ]
    }
   ],
   "source": [
    "for x in range(1,10):\n",
    "    print(x)"
   ]
  },
  {
   "cell_type": "code",
   "execution_count": 344,
   "id": "8f4a00cc",
   "metadata": {},
   "outputs": [
    {
     "name": "stdout",
     "output_type": "stream",
     "text": [
      "1\n",
      "3\n",
      "5\n",
      "7\n",
      "9\n"
     ]
    }
   ],
   "source": [
    "for x in range(1,10,2):\n",
    "    print(x)"
   ]
  },
  {
   "cell_type": "code",
   "execution_count": 345,
   "id": "f623e236",
   "metadata": {},
   "outputs": [
    {
     "name": "stdout",
     "output_type": "stream",
     "text": [
      "5\n",
      "8\n",
      "11\n",
      "14\n",
      "17\n",
      "20\n",
      "23\n",
      "26\n",
      "29\n",
      "32\n",
      "35\n",
      "38\n",
      "41\n",
      "44\n",
      "47\n"
     ]
    }
   ],
   "source": [
    "for x in range(5,50,3):\n",
    "    print(x)"
   ]
  },
  {
   "cell_type": "code",
   "execution_count": 346,
   "id": "2802d7de",
   "metadata": {},
   "outputs": [
    {
     "name": "stdout",
     "output_type": "stream",
     "text": [
      "1\n",
      "2\n",
      "3\n",
      "4\n",
      "5\n",
      "6\n",
      "7\n",
      "8\n",
      "9\n",
      "hii\n"
     ]
    }
   ],
   "source": [
    "for x in range(1,10):\n",
    "    print(x)\n",
    "else:\n",
    "    print('hii')"
   ]
  },
  {
   "cell_type": "code",
   "execution_count": 347,
   "id": "ca2bd13e",
   "metadata": {},
   "outputs": [
    {
     "name": "stdout",
     "output_type": "stream",
     "text": [
      "enter the number10\n",
      "enter the number20\n",
      "30\n"
     ]
    }
   ],
   "source": [
    "a = int(input('enter the number'))\n",
    "b = int(input('enter the number'))\n",
    "c = a+b\n",
    "print(c)"
   ]
  },
  {
   "cell_type": "code",
   "execution_count": 1,
   "id": "93c09b3a",
   "metadata": {},
   "outputs": [
    {
     "name": "stdout",
     "output_type": "stream",
     "text": [
      "1\n",
      "4\n",
      "7\n",
      "10\n",
      "13\n",
      "hello\n"
     ]
    }
   ],
   "source": [
    "for a in range(1,15,3):\n",
    "    print(a)\n",
    "else:\n",
    "    print('hello')"
   ]
  },
  {
   "cell_type": "code",
   "execution_count": 2,
   "id": "2eefde16",
   "metadata": {},
   "outputs": [
    {
     "name": "stdout",
     "output_type": "stream",
     "text": [
      "hii\n"
     ]
    }
   ],
   "source": [
    "# function\n",
    "def display():\n",
    "    print('hii')\n",
    "display()    "
   ]
  },
  {
   "cell_type": "code",
   "execution_count": 3,
   "id": "818cd42f",
   "metadata": {},
   "outputs": [
    {
     "name": "stdout",
     "output_type": "stream",
     "text": [
      "hello\n",
      "hi\n",
      "hey\n"
     ]
    }
   ],
   "source": [
    "def display():\n",
    "    print('hello')\n",
    "    print('hi')\n",
    "display()\n",
    "print('hey')"
   ]
  },
  {
   "cell_type": "code",
   "execution_count": 6,
   "id": "dddcab1f",
   "metadata": {},
   "outputs": [
    {
     "name": "stdout",
     "output_type": "stream",
     "text": [
      "good morning\n",
      "good night\n",
      "heii\n",
      "hi lili\n",
      "good afternoon\n"
     ]
    }
   ],
   "source": [
    "print('good morning')\n",
    "def fun():\n",
    "    print('heii')\n",
    "    print('hi lili')\n",
    "print('good night')\n",
    "fun()\n",
    "print('good afternoon')\n"
   ]
  },
  {
   "cell_type": "code",
   "execution_count": 9,
   "id": "d3ee3f46",
   "metadata": {},
   "outputs": [
    {
     "name": "stdout",
     "output_type": "stream",
     "text": [
      "10\n",
      "20\n"
     ]
    }
   ],
   "source": [
    "# arguments\n",
    "def display(a,b):\n",
    "    print(a)\n",
    "    print(b)\n",
    "x = 10\n",
    "y = 20\n",
    "display(x,y)\n",
    "    "
   ]
  },
  {
   "cell_type": "code",
   "execution_count": 12,
   "id": "71750664",
   "metadata": {},
   "outputs": [
    {
     "name": "stdout",
     "output_type": "stream",
     "text": [
      "enter the number10\n",
      "enter the number20\n",
      "10\n",
      "20\n"
     ]
    }
   ],
   "source": [
    "def fun(a,b):\n",
    "    print(a)\n",
    "    print(b)\n",
    "x = int(input('enter the number'))\n",
    "y = int(input('enter the number'))\n",
    "\n",
    "display(x,y)"
   ]
  },
  {
   "cell_type": "code",
   "execution_count": 15,
   "id": "f0dd1c1a",
   "metadata": {},
   "outputs": [
    {
     "name": "stdout",
     "output_type": "stream",
     "text": [
      "100\n"
     ]
    }
   ],
   "source": [
    "def fun(a):\n",
    "    print(a)\n",
    "b = 100\n",
    "fun(b)\n",
    "\n"
   ]
  },
  {
   "cell_type": "code",
   "execution_count": 16,
   "id": "6c18324a",
   "metadata": {},
   "outputs": [
    {
     "name": "stdout",
     "output_type": "stream",
     "text": [
      "enter the number10\n",
      "enter the number20\n",
      "30\n"
     ]
    }
   ],
   "source": [
    "def display(a,b):\n",
    "    add = a+b\n",
    "    print(add)\n",
    "x = int(input('enter the number'))\n",
    "y = int(input('enter the number'))\n",
    "display(x,y)"
   ]
  },
  {
   "cell_type": "code",
   "execution_count": 17,
   "id": "07c6bd1e",
   "metadata": {},
   "outputs": [
    {
     "name": "stdout",
     "output_type": "stream",
     "text": [
      "200\n"
     ]
    }
   ],
   "source": [
    "def display(a,b):\n",
    "    mul = a*b\n",
    "    return mul\n",
    "x = 10\n",
    "y = 20\n",
    "z = display(x,y)\n",
    "print(z)"
   ]
  },
  {
   "cell_type": "code",
   "execution_count": 19,
   "id": "e598ed2b",
   "metadata": {},
   "outputs": [
    {
     "name": "stdout",
     "output_type": "stream",
     "text": [
      "('a', 'b', 'c', 'd')\n",
      "4\n",
      "a\n",
      "b\n",
      "c\n",
      "d\n"
     ]
    }
   ],
   "source": [
    "# unknown parameters\n",
    "def display(*letter):\n",
    "    print(letter)\n",
    "    print(len(letter))\n",
    "    for x in letter:\n",
    "        print(x)\n",
    "display('a','b','c','d')        "
   ]
  },
  {
   "cell_type": "code",
   "execution_count": 20,
   "id": "412a674f",
   "metadata": {},
   "outputs": [
    {
     "name": "stdout",
     "output_type": "stream",
     "text": [
      "('11', '22', '33')\n",
      "3\n",
      "11\n",
      "22\n",
      "33\n"
     ]
    }
   ],
   "source": [
    "def display(*value):\n",
    "    print(value)\n",
    "    print(len(value))\n",
    "    for x in value:\n",
    "        print(x)\n",
    "display('11','22','33')        "
   ]
  },
  {
   "cell_type": "code",
   "execution_count": 24,
   "id": "b2318907",
   "metadata": {},
   "outputs": [
    {
     "name": "stdout",
     "output_type": "stream",
     "text": [
      "{'lname': 'lili', 'fname': 'thorat'}\n",
      "lili\n",
      "thorat\n"
     ]
    }
   ],
   "source": [
    "def fun(**name):\n",
    "    print(name)\n",
    "    print(name['lname'])\n",
    "    print(name['fname'])\n",
    "fun(lname =  'lili',fname ='thorat')    "
   ]
  },
  {
   "cell_type": "code",
   "execution_count": 25,
   "id": "d536ccb1",
   "metadata": {},
   "outputs": [
    {
     "name": "stdout",
     "output_type": "stream",
     "text": [
      "{'fname': 'lili', 'lname': 'thorat'}\n",
      "lili\n",
      "thorat\n"
     ]
    }
   ],
   "source": [
    "def fun(**name):\n",
    "    print(name)\n",
    "    print(name['fname'])\n",
    "    print(name['lname'])\n",
    "fun(fname = 'lili', lname = 'thorat')    "
   ]
  },
  {
   "cell_type": "code",
   "execution_count": 26,
   "id": "2041c49c",
   "metadata": {},
   "outputs": [
    {
     "name": "stdout",
     "output_type": "stream",
     "text": [
      "vst@gmail.com\n",
      "abc@gamil.com\n"
     ]
    }
   ],
   "source": [
    "def display(email = 'abc@gamil.com'):\n",
    "    print(email)\n",
    "display('vst@gmail.com')\n",
    "display()\n"
   ]
  },
  {
   "cell_type": "code",
   "execution_count": 28,
   "id": "2cda6904",
   "metadata": {},
   "outputs": [
    {
     "name": "stdout",
     "output_type": "stream",
     "text": [
      "vst@gmail.com\n"
     ]
    }
   ],
   "source": [
    "def fun(email):\n",
    "    print(email)\n",
    "   \n",
    "fun('vst@gmail.com')        "
   ]
  },
  {
   "cell_type": "code",
   "execution_count": 32,
   "id": "d9061fce",
   "metadata": {},
   "outputs": [
    {
     "data": {
      "text/plain": [
       "6"
      ]
     },
     "execution_count": 32,
     "metadata": {},
     "output_type": "execute_result"
    }
   ],
   "source": [
    "# lambda function\n",
    "a = lambda b: b*2\n",
    "a(3)"
   ]
  },
  {
   "cell_type": "code",
   "execution_count": 38,
   "id": "cf0c6b5c",
   "metadata": {},
   "outputs": [
    {
     "data": {
      "text/plain": [
       "14"
      ]
     },
     "execution_count": 38,
     "metadata": {},
     "output_type": "execute_result"
    }
   ],
   "source": [
    "b = lambda c,d : c+4\n",
    "b(10,20)"
   ]
  },
  {
   "cell_type": "code",
   "execution_count": 39,
   "id": "ac5487aa",
   "metadata": {},
   "outputs": [
    {
     "data": {
      "text/plain": [
       "25"
      ]
     },
     "execution_count": 39,
     "metadata": {},
     "output_type": "execute_result"
    }
   ],
   "source": [
    "a = lambda num : num**2\n",
    "a(5)\n"
   ]
  },
  {
   "cell_type": "code",
   "execution_count": 40,
   "id": "2608d65c",
   "metadata": {},
   "outputs": [
    {
     "data": {
      "text/plain": [
       "60"
      ]
     },
     "execution_count": 40,
     "metadata": {},
     "output_type": "execute_result"
    }
   ],
   "source": [
    "a = lambda x,y,z: x+y+z\n",
    "a(10,20,30)"
   ]
  },
  {
   "cell_type": "code",
   "execution_count": 44,
   "id": "bfb22857",
   "metadata": {},
   "outputs": [
    {
     "name": "stdout",
     "output_type": "stream",
     "text": [
      "100\n"
     ]
    },
    {
     "data": {
      "text/plain": [
       "1000"
      ]
     },
     "execution_count": 44,
     "metadata": {},
     "output_type": "execute_result"
    }
   ],
   "source": [
    "def fun(n):\n",
    "    print(n)\n",
    "    return (lambda a:a*n)\n",
    "b = fun(100)\n",
    "b(10)"
   ]
  },
  {
   "cell_type": "code",
   "execution_count": 47,
   "id": "a35acc1c",
   "metadata": {},
   "outputs": [
    {
     "name": "stdout",
     "output_type": "stream",
     "text": [
      "10\n"
     ]
    },
    {
     "data": {
      "text/plain": [
       "100"
      ]
     },
     "execution_count": 47,
     "metadata": {},
     "output_type": "execute_result"
    }
   ],
   "source": [
    "def fun(a):\n",
    "    print(a)\n",
    "    return(lambda b:b*a)\n",
    "x = fun(10)\n",
    "x(10)"
   ]
  },
  {
   "cell_type": "code",
   "execution_count": 48,
   "id": "14bf76b9",
   "metadata": {},
   "outputs": [
    {
     "data": {
      "text/plain": [
       "60"
      ]
     },
     "execution_count": 48,
     "metadata": {},
     "output_type": "execute_result"
    }
   ],
   "source": [
    "double = lambda a: a*3\n",
    "double(20)"
   ]
  },
  {
   "cell_type": "code",
   "execution_count": 49,
   "id": "edad236b",
   "metadata": {},
   "outputs": [
    {
     "data": {
      "text/plain": [
       "4.0"
      ]
     },
     "execution_count": 49,
     "metadata": {},
     "output_type": "execute_result"
    }
   ],
   "source": [
    "tripple = lambda b:b/5\n",
    "tripple(20)"
   ]
  },
  {
   "cell_type": "code",
   "execution_count": 50,
   "id": "0bbedde3",
   "metadata": {},
   "outputs": [
    {
     "name": "stdout",
     "output_type": "stream",
     "text": [
      "25\n"
     ]
    },
    {
     "data": {
      "text/plain": [
       "45"
      ]
     },
     "execution_count": 50,
     "metadata": {},
     "output_type": "execute_result"
    }
   ],
   "source": [
    "def display(a):\n",
    "    print(a)\n",
    "    return (lambda b:b+a)\n",
    "c = display(25)\n",
    "c(20)"
   ]
  },
  {
   "cell_type": "code",
   "execution_count": 51,
   "id": "24ca0d4a",
   "metadata": {},
   "outputs": [
    {
     "name": "stdout",
     "output_type": "stream",
     "text": [
      "vaishnavi\n",
      "cs\n"
     ]
    }
   ],
   "source": [
    "# class\n",
    "class bsc:\n",
    "    name = 'vaishnavi'\n",
    "    sub = 'cs'\n",
    "bsc()\n",
    "print(bsc.name)\n",
    "print(bsc.sub)"
   ]
  },
  {
   "cell_type": "code",
   "execution_count": 52,
   "id": "2010bf64",
   "metadata": {},
   "outputs": [
    {
     "name": "stdout",
     "output_type": "stream",
     "text": [
      "lili\n",
      "cs\n",
      "10\n"
     ]
    }
   ],
   "source": [
    "class abc:\n",
    "    name='lili'\n",
    "    sub = 'cs'\n",
    "    rollno = 10\n",
    "abc()\n",
    "print(abc.name)\n",
    "print(abc.sub)\n",
    "print(abc.rollno)"
   ]
  },
  {
   "cell_type": "code",
   "execution_count": 54,
   "id": "a93b44cb",
   "metadata": {},
   "outputs": [
    {
     "name": "stdout",
     "output_type": "stream",
     "text": [
      "lili\n",
      "cs\n",
      "20\n",
      "kuku\n",
      "bsc\n",
      "10\n"
     ]
    }
   ],
   "source": [
    "class abc:\n",
    "    def __init__(self,nm,sub,rn):\n",
    "        self.name= nm\n",
    "        self.sub = sub\n",
    "        self.rollno = rn\n",
    "a = abc('lili','cs',20)\n",
    "print(a.name)\n",
    "print(a.sub)\n",
    "print(a.rollno)\n",
    "b = abc('kuku','bsc',10)\n",
    "print(b.name)\n",
    "print(b.sub)\n",
    "print(b.rollno)"
   ]
  },
  {
   "cell_type": "code",
   "execution_count": 57,
   "id": "7b76b327",
   "metadata": {},
   "outputs": [
    {
     "name": "stdout",
     "output_type": "stream",
     "text": [
      "lili\n",
      "varma\n"
     ]
    }
   ],
   "source": [
    "class bsc:\n",
    "    def __init__(self,fnm,lnm):\n",
    "        self.fname = fnm\n",
    "        self.lname = lnm\n",
    "    def display(self):\n",
    "        print(self.fname)\n",
    "        print(self.lname)\n",
    "b = bsc('lili','varma')\n",
    "b.display()\n"
   ]
  },
  {
   "cell_type": "code",
   "execution_count": 58,
   "id": "33113cd3",
   "metadata": {},
   "outputs": [
    {
     "name": "stdout",
     "output_type": "stream",
     "text": [
      "lili\n",
      "cs\n",
      "25\n",
      "kuku\n",
      "cs\n",
      "25\n"
     ]
    }
   ],
   "source": [
    "class abc:\n",
    "    def __init__(self,fnm,s,rn):\n",
    "        self.fname = fnm\n",
    "        self.sub = s\n",
    "        self.rollno = rn\n",
    "    def display(self):\n",
    "        print(self.fname)\n",
    "        print(self.sub)\n",
    "        print(self.rollno)\n",
    "    def changename(self,fnm):\n",
    "        self.fname = fnm\n",
    "        self.display()\n",
    "a1 = abc('lili','cs',25)\n",
    "a1.display()\n",
    "a2 = 'kuku'\n",
    "a1.changename(a2)\n",
    "        "
   ]
  },
  {
   "cell_type": "code",
   "execution_count": 66,
   "id": "8e5809b2",
   "metadata": {},
   "outputs": [
    {
     "name": "stdout",
     "output_type": "stream",
     "text": [
      "lili\n",
      "kiki\n",
      "lili\n",
      "kiki\n"
     ]
    }
   ],
   "source": [
    "class bsc:\n",
    "    def __init__(self,fnm,lnm):\n",
    "        self.fname = fnm\n",
    "        self.lname = lnm\n",
    "    def display(self):\n",
    "        print(self.fname)\n",
    "        print(self.lname)\n",
    "    def changename(self,lnm):\n",
    "        self.name = lnm\n",
    "        self.display()\n",
    "b1 = bsc('lili','kiki')\n",
    "b1.display()\n",
    "b2 = 'lili'\n",
    "b1.changename(b2)\n",
    "        "
   ]
  },
  {
   "cell_type": "code",
   "execution_count": 68,
   "id": "7dbf7b61",
   "metadata": {},
   "outputs": [
    {
     "name": "stdout",
     "output_type": "stream",
     "text": [
      "riya\n",
      "delhi\n"
     ]
    }
   ],
   "source": [
    "# inheritance\n",
    "class abc:\n",
    "    def __init__(self,fnm,c):\n",
    "        self.fname= fnm\n",
    "        self.city = c\n",
    "    def display(self):\n",
    "        print(self.fname)\n",
    "        print(self.city)\n",
    "class bsc(abc):\n",
    "    pass\n",
    "a = bsc('riya','delhi')\n",
    "a.display()"
   ]
  },
  {
   "cell_type": "code",
   "execution_count": 69,
   "id": "4633ef4b",
   "metadata": {},
   "outputs": [
    {
     "name": "stdout",
     "output_type": "stream",
     "text": [
      "aa\n",
      "bb\n",
      "mumbai\n"
     ]
    }
   ],
   "source": [
    "class abc:\n",
    "    def __init__(self,fnm,lnm,c):\n",
    "        self.fname = fnm\n",
    "        self.lname = lnm\n",
    "        self.city = c\n",
    "    def display(self):\n",
    "        print(self.fname)\n",
    "        print(self.lname)\n",
    "        print(self.city)\n",
    "class bsc(abc):\n",
    "    pass\n",
    "a = bsc('aa','bb','mumbai')\n",
    "a.display()"
   ]
  },
  {
   "cell_type": "code",
   "execution_count": 78,
   "id": "d52310f8",
   "metadata": {},
   "outputs": [
    {
     "name": "stdout",
     "output_type": "stream",
     "text": [
      "lili\n",
      "cs\n",
      "delhi\n",
      "20\n",
      "varma\n"
     ]
    }
   ],
   "source": [
    "class xyz:\n",
    "    def __init__(self,nm,s,c,r):\n",
    "        self.name = nm\n",
    "        self.sub = s\n",
    "        self.city = c\n",
    "        self.rn = r\n",
    "    def display(self):\n",
    "        print(self.name)\n",
    "        print(self.sub)\n",
    "        print(self.city)\n",
    "        print(self.rn)\n",
    "class abc(xyz):\n",
    "    def __init__(self,nm,s,c,r,lnm):\n",
    "        xyz. __init__(self,nm,s,c,r)\n",
    "        self.lname = lnm\n",
    "    def display(self):\n",
    "        print(self.name)\n",
    "        print(self.sub)\n",
    "        print(self.city)\n",
    "        print(self.rn)\n",
    "        print(self.lname)\n",
    "a1 = abc('lili','cs','delhi',20,'varma')\n",
    "a1.display()"
   ]
  },
  {
   "cell_type": "code",
   "execution_count": 80,
   "id": "41db7034",
   "metadata": {},
   "outputs": [
    {
     "name": "stdout",
     "output_type": "stream",
     "text": [
      "chika\n",
      "micro\n",
      "20\n",
      "pune\n",
      "coup\n"
     ]
    }
   ],
   "source": [
    "class person:\n",
    "    def __init__(self,nm,sub,rn):\n",
    "        self.name = nm\n",
    "        self.sub = sub\n",
    "        self.rollno = rn\n",
    "    def display(self):\n",
    "        print(self.name)\n",
    "        print(self.sub)\n",
    "        print(self.rollno)\n",
    "class person1(person):\n",
    "    def __init__(self,nm,sub,rn,ci,co):\n",
    "        person. __init__(self,nm,sub,rn)\n",
    "        self.city = ci\n",
    "        self.collage = co\n",
    "    def display(self):\n",
    "        print(self.name)\n",
    "        print(self.sub)\n",
    "        print(self.rollno)\n",
    "        print(self.city)\n",
    "        print(self.collage)\n",
    "p1= person1('chika','micro',20,'pune','coup')\n",
    "p1.display()"
   ]
  },
  {
   "cell_type": "code",
   "execution_count": 82,
   "id": "d8787514",
   "metadata": {},
   "outputs": [
    {
     "name": "stdout",
     "output_type": "stream",
     "text": [
      "lili\n",
      "cs\n",
      "pune\n"
     ]
    }
   ],
   "source": [
    "class bsc:\n",
    "    def __init__(self,nm,sub):\n",
    "        self.name = nm\n",
    "        self.sub = sub\n",
    "    def display(self):\n",
    "        print(self.name)\n",
    "        print(self.sub)\n",
    "class abc(bsc):\n",
    "    def __init__(self,nm,sub,city):\n",
    "        self.name = nm\n",
    "        self.sub = sub\n",
    "        self.city = city\n",
    "    def display(self):\n",
    "        print(self.name)\n",
    "        print(self.sub)\n",
    "        print(self.city)\n",
    "a1 = abc('lili','cs','pune')\n",
    "a1.display()"
   ]
  },
  {
   "cell_type": "code",
   "execution_count": 89,
   "id": "2658bc64",
   "metadata": {},
   "outputs": [
    {
     "name": "stdout",
     "output_type": "stream",
     "text": [
      "(10, 20, 30, 40, 50)\n",
      "10\n",
      "10\n",
      "20\n",
      "30\n",
      "40\n",
      "50\n",
      "(11, 22, 33, 44, 55)\n",
      "<class 'tuple'>\n",
      "11\n",
      "22\n",
      "hello python\n",
      "h\n",
      "e\n",
      "l\n",
      "[10, 20, 30, 40, 50, 60]\n",
      "10\n",
      "20\n",
      "10\n",
      "20\n",
      "30\n",
      "40\n",
      "50\n",
      "60\n"
     ]
    }
   ],
   "source": [
    "# iterator in python\n",
    "a = (10,20,30,40,50)\n",
    "print(a)\n",
    "itr = iter(a)\n",
    "print(next(itr))\n",
    "for x in a:\n",
    "    print(x)\n",
    "a = (11,22,33,44,55)\n",
    "print(a)\n",
    "print(type(a))\n",
    "itr = iter(a)\n",
    "print(next(itr))\n",
    "print(next(itr))\n",
    "a = 'hello python'\n",
    "print(a)\n",
    "itr = iter(a)\n",
    "print(next(itr))\n",
    "print(next(itr))\n",
    "print(next(itr))\n",
    "a = [10,20,30,40,50,60]\n",
    "print(a)\n",
    "itr = iter(a)\n",
    "print(next(itr))\n",
    "print(next(itr))\n",
    "for x in a:\n",
    "    print(x)"
   ]
  },
  {
   "cell_type": "code",
   "execution_count": 90,
   "id": "a0178a16",
   "metadata": {},
   "outputs": [
    {
     "name": "stdout",
     "output_type": "stream",
     "text": [
      "1\n",
      "2\n",
      "3\n",
      "4\n",
      "5\n",
      "6\n",
      "7\n",
      "8\n",
      "9\n",
      "10\n",
      "11\n",
      "12\n",
      "13\n",
      "14\n",
      "15\n",
      "16\n",
      "17\n",
      "18\n",
      "19\n"
     ]
    }
   ],
   "source": [
    "class counter:\n",
    "    def __iter__(self):\n",
    "        self.a = 1\n",
    "        return self\n",
    "    def __next__(self):\n",
    "        b = self.a\n",
    "        self.a +=1\n",
    "        if b ==20:\n",
    "            raise StopIteration\n",
    "        return b\n",
    "count = counter()\n",
    "itr = iter(count)\n",
    "for x in itr:\n",
    "    print(x)"
   ]
  },
  {
   "cell_type": "code",
   "execution_count": 92,
   "id": "9aeeb082",
   "metadata": {},
   "outputs": [
    {
     "name": "stdout",
     "output_type": "stream",
     "text": [
      "1\n",
      "2\n",
      "3\n",
      "4\n",
      "5\n",
      "6\n",
      "7\n",
      "8\n",
      "9\n",
      "10\n",
      "11\n",
      "12\n",
      "13\n",
      "14\n"
     ]
    }
   ],
   "source": [
    "class counter:\n",
    "    def __iter__(self):\n",
    "        self.a = 1\n",
    "        return self\n",
    "    def __next__(self):\n",
    "        b = self.a\n",
    "        self.a+=1\n",
    "        if b == 15:\n",
    "            raise StopIteration\n",
    "        return b\n",
    "count = counter()\n",
    "itr = iter(count)\n",
    "for x in itr:\n",
    "    print(x)"
   ]
  },
  {
   "cell_type": "code",
   "execution_count": 94,
   "id": "7827a0db",
   "metadata": {},
   "outputs": [
    {
     "name": "stdout",
     "output_type": "stream",
     "text": [
      "1\n",
      "2\n",
      "3\n",
      "4\n",
      "5\n",
      "6\n",
      "7\n",
      "8\n",
      "9\n"
     ]
    }
   ],
   "source": [
    "class counter:\n",
    "    def __iter__(self):\n",
    "        self.a =1\n",
    "        return self\n",
    "    def __next__(self):\n",
    "        b = self.a\n",
    "        self.a+=1\n",
    "        if b ==10:\n",
    "            raise StopIteration\n",
    "        return b\n",
    "count = counter()\n",
    "itr = iter(count)\n",
    "for x in itr:\n",
    "    print(x)"
   ]
  },
  {
   "cell_type": "code",
   "execution_count": 96,
   "id": "ae129165",
   "metadata": {},
   "outputs": [
    {
     "name": "stdout",
     "output_type": "stream",
     "text": [
      "1\n",
      "2\n",
      "3\n",
      "4\n",
      "5\n",
      "6\n",
      "7\n",
      "8\n",
      "9\n",
      "10\n",
      "11\n",
      "12\n",
      "13\n",
      "14\n"
     ]
    }
   ],
   "source": [
    "class counter:\n",
    "    def __iter__(self):\n",
    "        self.x =1\n",
    "        return self\n",
    "    def __next__(self):\n",
    "        y = self.x\n",
    "        self.x +=1\n",
    "        if y == 15:\n",
    "            raise StopIteration\n",
    "        return y\n",
    "count = counter()\n",
    "itr = iter(count)\n",
    "for x in itr:\n",
    "    print(x)"
   ]
  },
  {
   "cell_type": "code",
   "execution_count": 98,
   "id": "ffb22b71",
   "metadata": {},
   "outputs": [
    {
     "name": "stdout",
     "output_type": "stream",
     "text": [
      "10\n",
      "[10, 20, 30, 40, 50, 60]\n",
      "<__main__.bsc object at 0x000001EDFCCB0760>\n"
     ]
    }
   ],
   "source": [
    "# scope of variable\n",
    "def add():\n",
    "    a = 10\n",
    "    b = 20\n",
    "    print(a)\n",
    "    \n",
    "    return a+b\n",
    "add()\n",
    "print(a)\n",
    "print(b)"
   ]
  },
  {
   "cell_type": "code",
   "execution_count": 99,
   "id": "b54a1159",
   "metadata": {},
   "outputs": [
    {
     "name": "stdout",
     "output_type": "stream",
     "text": [
      "10\n",
      "[10, 20, 30, 40, 50, 60]\n",
      "<__main__.bsc object at 0x000001EDFCCB0760>\n"
     ]
    }
   ],
   "source": [
    "def add():\n",
    "    a = 10\n",
    "    b = 20\n",
    "    print(a)\n",
    "    return a+b\n",
    "add()\n",
    "print(a)\n",
    "print(b)"
   ]
  },
  {
   "cell_type": "code",
   "execution_count": 103,
   "id": "334f2678",
   "metadata": {},
   "outputs": [
    {
     "name": "stdout",
     "output_type": "stream",
     "text": [
      "10\n",
      "20\n",
      "200\n",
      "200\n"
     ]
    }
   ],
   "source": [
    "x = 100\n",
    "y = 200\n",
    "def add():\n",
    "    x = 10\n",
    "    y = 20\n",
    "    print(x)\n",
    "    print(y)\n",
    "    return x+y\n",
    "add()\n",
    "print(a)\n",
    "print(b)\n",
    "\n"
   ]
  },
  {
   "cell_type": "code",
   "execution_count": 102,
   "id": "6a316cdf",
   "metadata": {},
   "outputs": [
    {
     "name": "stdout",
     "output_type": "stream",
     "text": [
      "10\n",
      "20\n",
      "200\n",
      "200\n"
     ]
    }
   ],
   "source": [
    "a=200\n",
    "b=200\n",
    "def add():\n",
    "    a=10\n",
    "    b=20\n",
    "    print(a)\n",
    "    print(b)\n",
    "    return a+b\n",
    "add()\n",
    "print(a)\n",
    "print(b)"
   ]
  },
  {
   "cell_type": "code",
   "execution_count": 104,
   "id": "fd44e90b",
   "metadata": {},
   "outputs": [
    {
     "name": "stdout",
     "output_type": "stream",
     "text": [
      "10\n",
      "20\n",
      "10\n",
      "20\n"
     ]
    }
   ],
   "source": [
    "a = 10\n",
    "b = 20\n",
    "def mul():\n",
    "    a = 15\n",
    "    b = 30\n",
    "    print(a)\n",
    "    print(b)\n",
    "    return a*b\n",
    "add()\n",
    "print(a)\n",
    "print(b)"
   ]
  },
  {
   "cell_type": "code",
   "execution_count": 105,
   "id": "e2f26cba",
   "metadata": {},
   "outputs": [
    {
     "name": "stdout",
     "output_type": "stream",
     "text": [
      "10\n",
      "20\n",
      "100\n",
      "200\n",
      "3.14\n",
      "100\n",
      "200\n",
      "3.14\n"
     ]
    }
   ],
   "source": [
    "x = 100\n",
    "y = 200\n",
    "def add():\n",
    "    x = 10\n",
    "    y = 20\n",
    "    global pi\n",
    "    pi = 3.14\n",
    "    print(a)\n",
    "    print(b)\n",
    "    return x+y\n",
    "def display(x,y):\n",
    "    print(x)\n",
    "    print(y)\n",
    "    print(pi)\n",
    "add()\n",
    "display(x,y)\n",
    "print(x)\n",
    "print(y)\n",
    "print(pi)"
   ]
  },
  {
   "cell_type": "code",
   "execution_count": 106,
   "id": "ecbecb76",
   "metadata": {},
   "outputs": [
    {
     "name": "stdout",
     "output_type": "stream",
     "text": [
      "15\n",
      "20\n",
      "10\n",
      "20\n",
      "3.14\n"
     ]
    }
   ],
   "source": [
    "a = 10\n",
    "b = 20\n",
    "def mul():\n",
    "    x = 15\n",
    "    y = 20\n",
    "    global pi\n",
    "    pi = 3.14\n",
    "    print(x)\n",
    "    print(y)\n",
    "    return x*y\n",
    "def display(x,y):\n",
    "    print(x)\n",
    "    print(y)\n",
    "    print(pi)\n",
    "mul()\n",
    "print(a)\n",
    "print(b)\n",
    "print(pi)\n",
    "    "
   ]
  },
  {
   "cell_type": "code",
   "execution_count": 107,
   "id": "da7a3ede",
   "metadata": {},
   "outputs": [
    {
     "data": {
      "text/plain": [
       "'Windows'"
      ]
     },
     "execution_count": 107,
     "metadata": {},
     "output_type": "execute_result"
    }
   ],
   "source": [
    "import platform\n",
    "platform.system()"
   ]
  },
  {
   "cell_type": "code",
   "execution_count": 108,
   "id": "ecc77272",
   "metadata": {},
   "outputs": [
    {
     "data": {
      "text/plain": [
       "'Windows'"
      ]
     },
     "execution_count": 108,
     "metadata": {},
     "output_type": "execute_result"
    }
   ],
   "source": [
    "import platform\n",
    "platform.system()"
   ]
  },
  {
   "cell_type": "code",
   "execution_count": 114,
   "id": "e66965fa",
   "metadata": {},
   "outputs": [
    {
     "name": "stdout",
     "output_type": "stream",
     "text": [
      "['False', 'None', 'True', 'and', 'as', 'assert', 'async', 'await', 'break', 'class', 'continue', 'def', 'del', 'elif', 'else', 'except', 'finally', 'for', 'from', 'global', 'if', 'import', 'in', 'is', 'lambda', 'nonlocal', 'not', 'or', 'pass', 'raise', 'return', 'try', 'while', 'with', 'yield']\n"
     ]
    }
   ],
   "source": [
    "import keyword\n",
    "keyword.kwlist\n",
    "len(keyword.kwlist)\n",
    "print(keyword.kwlist)"
   ]
  },
  {
   "cell_type": "code",
   "execution_count": 118,
   "id": "54431dad",
   "metadata": {},
   "outputs": [
    {
     "data": {
      "text/plain": [
       "datetime.datetime(2023, 9, 6, 14, 40, 18, 356195)"
      ]
     },
     "execution_count": 118,
     "metadata": {},
     "output_type": "execute_result"
    }
   ],
   "source": [
    "# datetime\n",
    "import datetime as dt\n",
    "dt.datetime.now()"
   ]
  },
  {
   "cell_type": "code",
   "execution_count": 121,
   "id": "8af73ee1",
   "metadata": {},
   "outputs": [
    {
     "name": "stdout",
     "output_type": "stream",
     "text": [
      "1\n"
     ]
    }
   ],
   "source": [
    "print(dt.MINYEAR)"
   ]
  },
  {
   "cell_type": "code",
   "execution_count": 122,
   "id": "e4461f7a",
   "metadata": {},
   "outputs": [
    {
     "name": "stdout",
     "output_type": "stream",
     "text": [
      "9999\n"
     ]
    }
   ],
   "source": [
    "print(dt.MAXYEAR)"
   ]
  },
  {
   "cell_type": "code",
   "execution_count": 128,
   "id": "ee4041b2",
   "metadata": {},
   "outputs": [
    {
     "name": "stdout",
     "output_type": "stream",
     "text": [
      "2023-09-06 14:42:22.241730\n",
      "9\n",
      "6\n",
      "<built-in method date of datetime.datetime object at 0x000001EDFCD3AFA0>\n",
      "2023\n"
     ]
    }
   ],
   "source": [
    "x = dt.datetime.now()\n",
    "print(x)\n",
    "print(x.month)\n",
    "print(x.day)\n",
    "print(x.date)\n",
    "print(x.year)"
   ]
  },
  {
   "cell_type": "code",
   "execution_count": 132,
   "id": "5d0334c1",
   "metadata": {},
   "outputs": [
    {
     "name": "stdout",
     "output_type": "stream",
     "text": [
      "2023-09-03 00:00:00\n",
      "2023-10-04 00:00:00\n"
     ]
    }
   ],
   "source": [
    "a = dt.datetime(2023,9,3)\n",
    "print(a)\n",
    "b = dt.datetime(2023,10,4)\n",
    "print(b)"
   ]
  },
  {
   "cell_type": "code",
   "execution_count": 143,
   "id": "327b9b0a",
   "metadata": {},
   "outputs": [
    {
     "name": "stdout",
     "output_type": "stream",
     "text": [
      "9\n",
      "2023\n",
      "36\n",
      "PM\n",
      "2023\n",
      "Wednesday\n",
      "Wed\n",
      "September\n"
     ]
    }
   ],
   "source": [
    "a = dt.datetime.now()\n",
    "print(a.month)\n",
    "print(a.year)\n",
    "print(a.strftime('%W'))\n",
    "print(a.strftime('%p'))\n",
    "print(a.strftime('%Y'))\n",
    "print(a.strftime('%A'))\n",
    "print(a.strftime('%a'))\n",
    "print(a.strftime('%B'))"
   ]
  },
  {
   "cell_type": "code",
   "execution_count": 144,
   "id": "b1da60bb",
   "metadata": {},
   "outputs": [
    {
     "data": {
      "text/plain": [
       "datetime.datetime(2023, 9, 6, 14, 48, 31, 427541)"
      ]
     },
     "execution_count": 144,
     "metadata": {},
     "output_type": "execute_result"
    }
   ],
   "source": [
    "import datetime as datetime\n",
    "datetime.datetime.now()\n"
   ]
  },
  {
   "cell_type": "code",
   "execution_count": 145,
   "id": "3d229beb",
   "metadata": {},
   "outputs": [
    {
     "name": "stdout",
     "output_type": "stream",
     "text": [
      "1\n"
     ]
    }
   ],
   "source": [
    "print(datetime.MINYEAR)"
   ]
  },
  {
   "cell_type": "code",
   "execution_count": 146,
   "id": "cfda40a5",
   "metadata": {},
   "outputs": [
    {
     "name": "stdout",
     "output_type": "stream",
     "text": [
      "9999\n"
     ]
    }
   ],
   "source": [
    "print(datetime.MAXYEAR)"
   ]
  },
  {
   "cell_type": "code",
   "execution_count": 147,
   "id": "a21c0198",
   "metadata": {},
   "outputs": [
    {
     "name": "stdout",
     "output_type": "stream",
     "text": [
      "2023-09-06 14:49:23.696575\n"
     ]
    }
   ],
   "source": [
    "x = datetime.datetime.now()\n",
    "print(x)"
   ]
  },
  {
   "cell_type": "code",
   "execution_count": 162,
   "id": "c50ceb3f",
   "metadata": {},
   "outputs": [
    {
     "name": "stdout",
     "output_type": "stream",
     "text": [
      "2023-09-06 14:54:25.598471\n",
      "9\n",
      "2023\n",
      "3\n",
      "Wednesday\n",
      "14\n",
      "Sep\n",
      "PM\n",
      "09/06/23mode\n",
      "Wedlias_magic\n",
      "PMip\n",
      "Wedutoawait\n",
      "3ho\n",
      "25\n"
     ]
    }
   ],
   "source": [
    "x = datetime.datetime.now()\n",
    "print(x)\n",
    "print(x.month)\n",
    "print(x.year)\n",
    "print(x.strftime('%w'))\n",
    "print(x.strftime('%A'))\n",
    "print(x.strftime('%H'))\n",
    "print(x.strftime('%b'))\n",
    "print(x.strftime('%p'))\n",
    "print(x.strftime('%xmode'))\n",
    "print(x.strftime('%alias_magic'))\n",
    "print(x.strftime('%pip'))\n",
    "print(x.strftime('%autoawait'))\n",
    "print(x.strftime('%who'))\n",
    "print(x.strftime('%S'))"
   ]
  },
  {
   "cell_type": "code",
   "execution_count": 173,
   "id": "0615888d",
   "metadata": {},
   "outputs": [
    {
     "name": "stdout",
     "output_type": "stream",
     "text": [
      "10\n",
      "300\n",
      "10\n",
      "20\n",
      "1000\n"
     ]
    }
   ],
   "source": [
    "# math function\n",
    "a = min(10,20,30)\n",
    "print(a)\n",
    "b = max(100,200,300)\n",
    "print(b)\n",
    "c = abs(-10)\n",
    "print(c)\n",
    "d = abs(20)\n",
    "print(d)\n",
    "e = pow(10,3)\n",
    "print(e)"
   ]
  },
  {
   "cell_type": "code",
   "execution_count": 180,
   "id": "29fb8999",
   "metadata": {},
   "outputs": [
    {
     "name": "stdout",
     "output_type": "stream",
     "text": [
      "3.1622776601683795\n",
      "10\n",
      "11\n",
      "2.718281828459045\n",
      "3.141592653589793\n",
      "nan\n",
      "<class 'float'>\n"
     ]
    }
   ],
   "source": [
    "import math as mm\n",
    "x = mm.sqrt(10)\n",
    "print(x)\n",
    "x = mm.floor(10.2)\n",
    "print(x)\n",
    "x = mm.ceil(10.2)\n",
    "print(x)\n",
    "e = mm.e\n",
    "print(e)\n",
    "e = mm.pi\n",
    "print(e)\n",
    "a = mm.nan\n",
    "\n",
    "print(a)\n",
    "print(type(a))"
   ]
  },
  {
   "cell_type": "code",
   "execution_count": 186,
   "id": "5f7558ef",
   "metadata": {},
   "outputs": [
    {
     "name": "stdout",
     "output_type": "stream",
     "text": [
      "10\n",
      "300\n",
      "1.1\n",
      "1\n",
      "160000\n"
     ]
    }
   ],
   "source": [
    "# math function\n",
    "a = min(10,20,30)\n",
    "print(a)\n",
    "b = max(100,200,300)\n",
    "print(b)\n",
    "c = min(1.1,2.1)\n",
    "print(c)\n",
    "d = abs(-1)\n",
    "print(d)\n",
    "e = pow(20,4)\n",
    "print(e)"
   ]
  },
  {
   "cell_type": "code",
   "execution_count": 195,
   "id": "39ed0f99",
   "metadata": {},
   "outputs": [
    {
     "name": "stdout",
     "output_type": "stream",
     "text": [
      "3.1622776601683795\n",
      "10\n",
      "2\n",
      "10\n",
      "2.718281828459045\n",
      "3.141592653589793\n",
      "nan\n",
      "<class 'float'>\n"
     ]
    }
   ],
   "source": [
    "import math as m\n",
    "a = m.sqrt(10)\n",
    "print(a)\n",
    "b = m.floor(10.3)\n",
    "print(b)\n",
    "c = m.ceil(1.1)\n",
    "print(c)\n",
    "d = m.ceil(10)\n",
    "print(d)\n",
    "e = m.e\n",
    "print(e)\n",
    "f = m.pi\n",
    "print(f)\n",
    "g = m.nan\n",
    "print(g)\n",
    "print(type(g))"
   ]
  },
  {
   "cell_type": "code",
   "execution_count": 2,
   "id": "9f728dcd",
   "metadata": {},
   "outputs": [
    {
     "name": "stdout",
     "output_type": "stream",
     "text": [
      "{\"name\":\"lili\",\"mobile\": 9887655676}\n",
      "<class 'str'>\n",
      "{'name': 'lili', 'mobile': 9887655676}\n",
      "<class 'dict'>\n"
     ]
    }
   ],
   "source": [
    "# json\n",
    "import json\n",
    "a = '{\"name\":\"lili\",\"mobile\": 9887655676}'\n",
    "print(a)\n",
    "print(type(a))\n",
    "b = json.loads(a)\n",
    "print(b)\n",
    "print(type(b))"
   ]
  },
  {
   "cell_type": "code",
   "execution_count": 3,
   "id": "72273928",
   "metadata": {},
   "outputs": [
    {
     "name": "stdout",
     "output_type": "stream",
     "text": [
      "{\"name\":\"kuku\",\"lname\":\"keke\"}\n",
      "<class 'str'>\n",
      "{'name': 'kuku', 'lname': 'keke'}\n",
      "<class 'dict'>\n"
     ]
    }
   ],
   "source": [
    "a = '{\"name\":\"kuku\",\"lname\":\"keke\"}'\n",
    "print(a)\n",
    "print(type(a))\n",
    "b = json.loads(a)\n",
    "print(b)\n",
    "print(type(b))"
   ]
  },
  {
   "cell_type": "code",
   "execution_count": 4,
   "id": "9c56ea02",
   "metadata": {},
   "outputs": [
    {
     "name": "stdout",
     "output_type": "stream",
     "text": [
      "{'name': 'lili', 'sub': 'cs', 'marks': 300}\n",
      "<class 'dict'>\n",
      "{\"name\": \"lili\", \"sub\": \"cs\", \"marks\": 300}\n",
      "<class 'str'>\n"
     ]
    }
   ],
   "source": [
    "a = {\n",
    "    'name':'lili',\n",
    "    'sub':'cs',\n",
    "    'marks':300\n",
    "}\n",
    "print(a)\n",
    "print(type(a))\n",
    "b = json.dumps(a)\n",
    "print(b)\n",
    "print(type(b))"
   ]
  },
  {
   "cell_type": "code",
   "execution_count": 5,
   "id": "f579ef25",
   "metadata": {},
   "outputs": [
    {
     "name": "stdout",
     "output_type": "stream",
     "text": [
      "('aa', 100, 200, 300, 'lili')\n",
      "<class 'tuple'>\n",
      "[\"aa\", 100, 200, 300, \"lili\"]\n",
      "<class 'str'>\n"
     ]
    }
   ],
   "source": [
    "tup = ('aa',100,200,300,'lili')\n",
    "print(tup)\n",
    "print(type(tup))\n",
    "b = json.dumps(tup)\n",
    "print(b)\n",
    "print(type(b))"
   ]
  },
  {
   "cell_type": "code",
   "execution_count": 8,
   "id": "59b04fdd",
   "metadata": {},
   "outputs": [
    {
     "name": "stdout",
     "output_type": "stream",
     "text": [
      "{'name': 'lili', 'sub': 'cs', 'marks': 100, 'veg': True, 'nonveg': False}\n",
      "<class 'dict'>\n",
      "{\"name\": \"lili\", \"sub\": \"cs\", \"marks\": 100, \"veg\": true, \"nonveg\": false}\n",
      "<class 'str'>\n",
      "True\n",
      "100\n"
     ]
    }
   ],
   "source": [
    "a = {\n",
    "    'name':'lili',\n",
    "    'sub':'cs',\n",
    "    'marks':100,\n",
    "    'veg': True,\n",
    "    'nonveg': False\n",
    "}\n",
    "print(a)\n",
    "print(type(a))\n",
    "b = json.dumps(a)\n",
    "print(b)\n",
    "print(type(b))\n",
    "c = a['veg']\n",
    "print(c)\n",
    "d = a['marks']\n",
    "print(d)"
   ]
  },
  {
   "cell_type": "code",
   "execution_count": 12,
   "id": "440c1aef",
   "metadata": {},
   "outputs": [
    {
     "name": "stdout",
     "output_type": "stream",
     "text": [
      "{'name': 'lili', 'sub': 'cs', 'marks': 100, 'veg': True, 'nonveg': False}\n",
      "{\n",
      "    \"marks\"=100-\n",
      "    \"name\"=\"lili\"-\n",
      "    \"nonveg\"=false-\n",
      "    \"sub\"=\"cs\"-\n",
      "    \"veg\"=true\n",
      "}\n"
     ]
    }
   ],
   "source": [
    "a = {\n",
    "    'name':'lili',\n",
    "    'sub':'cs',\n",
    "    'marks':100,\n",
    "    'veg': True,\n",
    "    'nonveg': False\n",
    "}\n",
    "print(a)\n",
    "print(json.dumps (a, indent = 4, separators = (\"-\",\"=\"), sort_keys = True))"
   ]
  },
  {
   "cell_type": "code",
   "execution_count": 13,
   "id": "d4b8a112",
   "metadata": {},
   "outputs": [
    {
     "name": "stdout",
     "output_type": "stream",
     "text": [
      "{\"name\":\"lili\",\"sub\":\"cs\"}\n",
      "<class 'str'>\n",
      "{'name': 'lili', 'sub': 'cs'}\n"
     ]
    }
   ],
   "source": [
    "a = '{\"name\":\"lili\",\"sub\":\"cs\"}'\n",
    "print(a)\n",
    "print(type(a))\n",
    "b = json.loads(a)\n",
    "print(b)"
   ]
  },
  {
   "cell_type": "code",
   "execution_count": 14,
   "id": "4c3ef6f9",
   "metadata": {},
   "outputs": [
    {
     "name": "stdout",
     "output_type": "stream",
     "text": [
      "{'name': 'lili', 'sub': 'cs', 'marks': 30, 'city': 'delhi'}\n",
      "<class 'dict'>\n",
      "{\"name\": \"lili\", \"sub\": \"cs\", \"marks\": 30, \"city\": \"delhi\"}\n",
      "<class 'str'>\n"
     ]
    }
   ],
   "source": [
    "b = {\n",
    "    'name':'lili',\n",
    "    'sub': 'cs',\n",
    "    'marks': 30,\n",
    "    'city': 'delhi'\n",
    "}\n",
    "print(b)\n",
    "print(type(b))\n",
    "c = json.dumps(b)\n",
    "print(c)\n",
    "print(type(c))"
   ]
  },
  {
   "cell_type": "code",
   "execution_count": 15,
   "id": "1bb8b8ca",
   "metadata": {},
   "outputs": [
    {
     "name": "stdout",
     "output_type": "stream",
     "text": [
      "('10', 'lili', 'kuku', 100, 300)\n",
      "<class 'tuple'>\n",
      "[\"10\", \"lili\", \"kuku\", 100, 300]\n",
      "<class 'str'>\n"
     ]
    }
   ],
   "source": [
    "tup = ('10',\"lili\",'kuku',100,300)\n",
    "print(tup)\n",
    "print(type(tup))\n",
    "b = json.dumps(tup)\n",
    "print(b)\n",
    "print(type(b))"
   ]
  },
  {
   "cell_type": "code",
   "execution_count": 16,
   "id": "58209c22",
   "metadata": {},
   "outputs": [
    {
     "name": "stdout",
     "output_type": "stream",
     "text": [
      "{'name': 'titi', 'sub': 'cs', 'marks': 20, 'city': 'pune'}\n",
      "<class 'dict'>\n",
      "{\"name\": \"titi\", \"sub\": \"cs\", \"marks\": 20, \"city\": \"pune\"}\n",
      "<class 'str'>\n"
     ]
    }
   ],
   "source": [
    "a = {\n",
    "    'name':'titi',\n",
    "    'sub':'cs',\n",
    "    'marks': 20,\n",
    "    'city':'pune'\n",
    "}\n",
    "print(a)\n",
    "print(type(a))\n",
    "b = json.dumps(a)\n",
    "print(b)\n",
    "print(type(b))"
   ]
  },
  {
   "cell_type": "code",
   "execution_count": 19,
   "id": "b4ed6b0b",
   "metadata": {},
   "outputs": [
    {
     "name": "stdout",
     "output_type": "stream",
     "text": [
      "{'name': 'lili', 'sub': 'cs', 'marks': 20, 'city': 'pune'}\n",
      "{\n",
      "    \"city\"=\"pune\"-\n",
      "    \"marks\"=20-\n",
      "    \"name\"=\"lili\"-\n",
      "    \"sub\"=\"cs\"\n",
      "}\n",
      "{\n",
      "    \"name\"=\"lili\"-\n",
      "    \"sub\"=\"cs\"-\n",
      "    \"marks\"=20-\n",
      "    \"city\"=\"pune\"\n",
      "}\n"
     ]
    }
   ],
   "source": [
    "a = {\n",
    "    'name': 'lili',\n",
    "    'sub': 'cs',\n",
    "    'marks': 20,\n",
    "    'city': 'pune'\n",
    "}\n",
    "print(a)\n",
    "print(json.dumps(a, indent = 4, separators = (\"-\",\"=\"),sort_keys= True))\n",
    "print(json.dumps(a,indent = 4,separators = (\"-\",\"=\"),sort_keys = False))"
   ]
  },
  {
   "cell_type": "code",
   "execution_count": 21,
   "id": "b68be903",
   "metadata": {},
   "outputs": [
    {
     "name": "stdout",
     "output_type": "stream",
     "text": [
      "yes match\n"
     ]
    }
   ],
   "source": [
    "# regular expression\n",
    "import re\n",
    "a = 'my name is lili my sub is cs'\n",
    "b = re.search('my.*cs$',a)\n",
    "if b:\n",
    "    print('yes match')\n",
    "else:\n",
    "    print('no match')\n",
    "    \n"
   ]
  },
  {
   "cell_type": "code",
   "execution_count": 31,
   "id": "43fac542",
   "metadata": {},
   "outputs": [
    {
     "name": "stdout",
     "output_type": "stream",
     "text": [
      "(0, 18)\n",
      "0\n",
      "18\n",
      "the flower is nice\n",
      "the flower is nice\n",
      "yes\n"
     ]
    }
   ],
   "source": [
    "a = 'the flower is nice'\n",
    "b = re.search('the.*nice$',a)\n",
    "print(b.span())\n",
    "print(b.start())\n",
    "print(b.end())\n",
    "print(b.string)\n",
    "print(b.group())\n",
    "if b:\n",
    "    print('yes')\n",
    "else:\n",
    "    print('no')\n"
   ]
  },
  {
   "cell_type": "code",
   "execution_count": 42,
   "id": "7422a43f",
   "metadata": {},
   "outputs": [
    {
     "name": "stdout",
     "output_type": "stream",
     "text": [
      "['a', 'a']\n",
      "['the value is lili and kuku is riri']\n",
      "['the va', 'ue is ', 'ili and kuku is riri']\n",
      "the=value=is=lili=and=kuku=is=riri\n",
      "the##value##is##lili##and##kuku##is##riri\n",
      "the--value--is--lili and kuku is riri\n"
     ]
    }
   ],
   "source": [
    "a = 'the value is lili and kuku is riri'\n",
    "b = re.findall('a',a)\n",
    "print(b)\n",
    "b = re.split('\\t',a)\n",
    "print(b)\n",
    "b = re.split('l',a,2)\n",
    "print(b)\n",
    "c = re.sub('\\s','=',a)\n",
    "print(c)\n",
    "d = re.sub('\\s','##',a)\n",
    "print(d)\n",
    "e = re.sub('\\s','--',a,3)\n",
    "print(e)"
   ]
  },
  {
   "cell_type": "code",
   "execution_count": 48,
   "id": "1d85b36e",
   "metadata": {},
   "outputs": [
    {
     "name": "stdout",
     "output_type": "stream",
     "text": [
      "['the city is lili ', 'nd my n', 'me is kuku']\n",
      "['a', 'a']\n",
      "the$$city$$is$$lili$$and$$my$$name$$is$$kuku\n",
      "<re.Match object; span=(4, 5), match='c'>\n"
     ]
    }
   ],
   "source": [
    "a = 'the city is lili and my name is kuku'\n",
    "b = re.split('a',a)\n",
    "print(b)\n",
    "c = re.findall('a',a)\n",
    "print(c)\n",
    "d = re.sub('\\s','$$',a)\n",
    "print(d)\n",
    "e = re.search('c',a)\n",
    "print(e)"
   ]
  },
  {
   "cell_type": "code",
   "execution_count": 49,
   "id": "c400d0b5",
   "metadata": {},
   "outputs": [
    {
     "name": "stdout",
     "output_type": "stream",
     "text": [
      "yes\n"
     ]
    }
   ],
   "source": [
    "a = 'my name is lili'\n",
    "b = re.search('my.*lili$',a)\n",
    "if b:\n",
    "    print('yes')\n",
    "else:\n",
    "    print('no')"
   ]
  },
  {
   "cell_type": "code",
   "execution_count": 50,
   "id": "e75a63cf",
   "metadata": {},
   "outputs": [
    {
     "name": "stdout",
     "output_type": "stream",
     "text": [
      "['a']\n"
     ]
    }
   ],
   "source": [
    "a = 'my value is lili'\n",
    "b = re.findall('a',a)\n",
    "print(b)"
   ]
  },
  {
   "cell_type": "code",
   "execution_count": 51,
   "id": "7f7b3bc4",
   "metadata": {},
   "outputs": [
    {
     "name": "stdout",
     "output_type": "stream",
     "text": [
      "<re.Match object; span=(4, 5), match='c'>\n"
     ]
    }
   ],
   "source": [
    "a = 'the cr is bes'\n",
    "b = re.search('c',a)\n",
    "print(b)"
   ]
  },
  {
   "cell_type": "code",
   "execution_count": 53,
   "id": "87fb7a5f",
   "metadata": {},
   "outputs": [
    {
     "name": "stdout",
     "output_type": "stream",
     "text": [
      "['my', 'name', 'is', 'kuku']\n",
      "['my', 'name', 'is kuku']\n"
     ]
    }
   ],
   "source": [
    "a = 'my name is kuku'\n",
    "b = re.split('\\s',a)\n",
    "print(b)\n",
    "c = re.split('\\s',a,2)\n",
    "print(c)"
   ]
  },
  {
   "cell_type": "code",
   "execution_count": 54,
   "id": "d9a11d12",
   "metadata": {},
   "outputs": [
    {
     "name": "stdout",
     "output_type": "stream",
     "text": [
      "my\tname\tis\tkuku\tand\tmy\tsub\tis\tcs\n"
     ]
    }
   ],
   "source": [
    "x = 'my name is kuku and my sub is cs'\n",
    "y = re.sub('\\s','\\t',x)\n",
    "print(y)"
   ]
  },
  {
   "cell_type": "code",
   "execution_count": 1,
   "id": "77029ae3",
   "metadata": {},
   "outputs": [
    {
     "name": "stdout",
     "output_type": "stream",
     "text": [
      "yes\n"
     ]
    }
   ],
   "source": [
    "# exception handling\n",
    "try:\n",
    "    print(a)\n",
    "except NameError:\n",
    "    print('yes')\n",
    "except:\n",
    "    print('no')"
   ]
  },
  {
   "cell_type": "code",
   "execution_count": 2,
   "id": "4ef6e766",
   "metadata": {},
   "outputs": [
    {
     "name": "stdout",
     "output_type": "stream",
     "text": [
      "not declared\n"
     ]
    }
   ],
   "source": [
    "try:\n",
    "    print(a)\n",
    "except ValueError:\n",
    "    print('declared')\n",
    "except:\n",
    "    print('not declared')\n",
    "    "
   ]
  },
  {
   "cell_type": "code",
   "execution_count": 3,
   "id": "58287161",
   "metadata": {},
   "outputs": [
    {
     "name": "stdout",
     "output_type": "stream",
     "text": [
      "10\n"
     ]
    }
   ],
   "source": [
    "a = 10\n",
    "try:\n",
    "    print(a)\n",
    "except:\n",
    "    print('no match')\n",
    "    "
   ]
  },
  {
   "cell_type": "code",
   "execution_count": 4,
   "id": "2cf9365f",
   "metadata": {},
   "outputs": [
    {
     "name": "stdout",
     "output_type": "stream",
     "text": [
      "enter the number10\n"
     ]
    }
   ],
   "source": [
    "while True:\n",
    "    try:\n",
    "        a = int(input('enter the number'))\n",
    "        break\n",
    "    except ValueError:\n",
    "        print('helli')"
   ]
  },
  {
   "cell_type": "code",
   "execution_count": 5,
   "id": "f6a28153",
   "metadata": {},
   "outputs": [
    {
     "name": "stdout",
     "output_type": "stream",
     "text": [
      "hi\n",
      "hey\n"
     ]
    }
   ],
   "source": [
    "try:\n",
    "    print('hi')\n",
    "except:\n",
    "    print('hello')\n",
    "else:\n",
    "    print('hey')"
   ]
  },
  {
   "cell_type": "code",
   "execution_count": 6,
   "id": "9a11cb76",
   "metadata": {},
   "outputs": [
    {
     "name": "stdout",
     "output_type": "stream",
     "text": [
      "good morning\n",
      "good aftrnoon\n"
     ]
    }
   ],
   "source": [
    "try:\n",
    "    print('good morning')\n",
    "except:\n",
    "    print('good night')\n",
    "finally:\n",
    "    print('good aftrnoon')"
   ]
  },
  {
   "cell_type": "code",
   "execution_count": 7,
   "id": "cc3e45f8",
   "metadata": {},
   "outputs": [
    {
     "name": "stdout",
     "output_type": "stream",
     "text": [
      "0\n",
      "1\n"
     ]
    }
   ],
   "source": [
    "try:\n",
    "    l = [10,20,30,40]\n",
    "    for i in range(0,2):\n",
    "        print(i)\n",
    "except:\n",
    "    print('hello')\n",
    "    \n"
   ]
  },
  {
   "cell_type": "code",
   "execution_count": 11,
   "id": "94d064dd",
   "metadata": {},
   "outputs": [
    {
     "name": "stdout",
     "output_type": "stream",
     "text": [
      "10\n",
      "11\n",
      "12\n",
      "13\n",
      "14\n",
      "15\n",
      "16\n",
      "17\n",
      "18\n",
      "19\n",
      "20\n",
      "21\n",
      "22\n",
      "23\n",
      "24\n",
      "25\n",
      "26\n",
      "27\n",
      "28\n",
      "29\n",
      "30\n",
      "31\n",
      "32\n",
      "33\n",
      "34\n",
      "35\n",
      "36\n",
      "37\n",
      "38\n",
      "39\n",
      "hello\n"
     ]
    }
   ],
   "source": [
    "try:\n",
    "   \n",
    "    for x in range(10,40):\n",
    "        print(x)\n",
    "except:\n",
    "    print('hi')\n",
    "else:\n",
    "    print('hello')"
   ]
  },
  {
   "cell_type": "code",
   "execution_count": 17,
   "id": "ad138e57",
   "metadata": {},
   "outputs": [
    {
     "name": "stdout",
     "output_type": "stream",
     "text": [
      "10\n",
      "20\n",
      "30\n",
      "hello\n"
     ]
    }
   ],
   "source": [
    "try:\n",
    "    a = (10,20,30,40,50)\n",
    "    for x in range(0,3):\n",
    "        print(a[x])\n",
    "except:\n",
    "    print('hi')\n",
    "else:\n",
    "    print('hello')"
   ]
  },
  {
   "cell_type": "code",
   "execution_count": 16,
   "id": "ba2d05b2",
   "metadata": {},
   "outputs": [
    {
     "name": "stdout",
     "output_type": "stream",
     "text": [
      "1\n",
      "2\n",
      "3\n"
     ]
    }
   ],
   "source": [
    "try:\n",
    "    a = [1,2,3,4,5,6,7]\n",
    "    for x in range(0,3):\n",
    "        print(a[x])\n",
    "except:\n",
    "    print('hii')"
   ]
  },
  {
   "cell_type": "code",
   "execution_count": 18,
   "id": "5edc7af8",
   "metadata": {},
   "outputs": [
    {
     "name": "stdout",
     "output_type": "stream",
     "text": [
      "10\n",
      "ok\n"
     ]
    }
   ],
   "source": [
    "a = 10\n",
    "try:\n",
    "    print(a)\n",
    "except:\n",
    "    print('hi')\n",
    "finally:\n",
    "    print('ok')"
   ]
  },
  {
   "cell_type": "code",
   "execution_count": 20,
   "id": "f9767ebe",
   "metadata": {},
   "outputs": [
    {
     "name": "stdout",
     "output_type": "stream",
     "text": [
      "10\n",
      "hey\n",
      "heyyy\n"
     ]
    }
   ],
   "source": [
    "a = 10\n",
    "try:\n",
    "    print(a)\n",
    "except ValueError:\n",
    "    print('hi')\n",
    "except:\n",
    "    print('hello')\n",
    "else:\n",
    "    print('hey')\n",
    "finally:\n",
    "    print('heyyy')\n",
    "    "
   ]
  },
  {
   "cell_type": "code",
   "execution_count": 23,
   "id": "7511638f",
   "metadata": {},
   "outputs": [
    {
     "ename": "TypeError",
     "evalue": "no match",
     "output_type": "error",
     "traceback": [
      "\u001b[1;31m---------------------------------------------------------------------------\u001b[0m",
      "\u001b[1;31mTypeError\u001b[0m                                 Traceback (most recent call last)",
      "Cell \u001b[1;32mIn[23], line 3\u001b[0m\n\u001b[0;32m      1\u001b[0m a \u001b[38;5;241m=\u001b[39m (\u001b[38;5;241m10\u001b[39m)\n\u001b[0;32m      2\u001b[0m \u001b[38;5;28;01mif\u001b[39;00m a\u001b[38;5;241m>\u001b[39m\u001b[38;5;241m1\u001b[39m:\n\u001b[1;32m----> 3\u001b[0m     \u001b[38;5;28;01mraise\u001b[39;00m \u001b[38;5;167;01mTypeError\u001b[39;00m(\u001b[38;5;124m'\u001b[39m\u001b[38;5;124mno match\u001b[39m\u001b[38;5;124m'\u001b[39m)\n",
      "\u001b[1;31mTypeError\u001b[0m: no match"
     ]
    }
   ],
   "source": [
    "a = (10)\n",
    "if a>1:\n",
    "    raise TypeError('no match')"
   ]
  },
  {
   "cell_type": "code",
   "execution_count": 24,
   "id": "82339bb7",
   "metadata": {},
   "outputs": [
    {
     "name": "stdout",
     "output_type": "stream",
     "text": [
      "(10, 20, 30, 40)\n"
     ]
    }
   ],
   "source": [
    "tup = (10,20,30,40)\n",
    "try:\n",
    "    print(tup)\n",
    "except:\n",
    "    print('hello')"
   ]
  },
  {
   "cell_type": "code",
   "execution_count": 26,
   "id": "83f2f68d",
   "metadata": {},
   "outputs": [
    {
     "name": "stdout",
     "output_type": "stream",
     "text": [
      "enter the number10\n",
      "enter the number20\n",
      "30\n"
     ]
    }
   ],
   "source": [
    "while True:\n",
    "    try:\n",
    "        a = int(input('enter the number'))\n",
    "        b = int(input('enter the number'))\n",
    "        c = a+b\n",
    "        print(c)\n",
    "        break\n",
    "    except ValueError:\n",
    "        print('hii')\n",
    "    except:\n",
    "        print('hello')"
   ]
  },
  {
   "cell_type": "code",
   "execution_count": 28,
   "id": "4543cca1",
   "metadata": {},
   "outputs": [
    {
     "name": "stdout",
     "output_type": "stream",
     "text": [
      "hiii\n"
     ]
    }
   ],
   "source": [
    "try:\n",
    "    print(z)\n",
    "except SyntaxError:\n",
    "    print('hello')\n",
    "except:\n",
    "    print('hiii')"
   ]
  },
  {
   "cell_type": "code",
   "execution_count": 29,
   "id": "bfe267a9",
   "metadata": {},
   "outputs": [
    {
     "name": "stdout",
     "output_type": "stream",
     "text": [
      "hi\n",
      "hey\n"
     ]
    }
   ],
   "source": [
    "try:\n",
    "    print('hi')\n",
    "except:\n",
    "    print('hello')\n",
    "else:\n",
    "    print('hey')"
   ]
  },
  {
   "cell_type": "code",
   "execution_count": 30,
   "id": "13d5d6cd",
   "metadata": {},
   "outputs": [
    {
     "name": "stdout",
     "output_type": "stream",
     "text": [
      "20\n",
      "30\n",
      "no match\n"
     ]
    }
   ],
   "source": [
    "try:\n",
    "    a =[10,20,30,40,50]\n",
    "    for x in range(1,3):\n",
    "        print(a[x])\n",
    "except:\n",
    "    print('yes match')\n",
    "finally:\n",
    "    print('no match')"
   ]
  },
  {
   "cell_type": "code",
   "execution_count": 31,
   "id": "bd098f88",
   "metadata": {},
   "outputs": [
    {
     "name": "stdout",
     "output_type": "stream",
     "text": [
      "2\n",
      "hello\n"
     ]
    }
   ],
   "source": [
    "try:\n",
    "    print(x)\n",
    "except:\n",
    "    print('hi')\n",
    "finally:\n",
    "    print('hello')"
   ]
  },
  {
   "cell_type": "code",
   "execution_count": 33,
   "id": "92986ab0",
   "metadata": {},
   "outputs": [
    {
     "ename": "Exception",
     "evalue": "sorry no match",
     "output_type": "error",
     "traceback": [
      "\u001b[1;31m---------------------------------------------------------------------------\u001b[0m",
      "\u001b[1;31mException\u001b[0m                                 Traceback (most recent call last)",
      "Cell \u001b[1;32mIn[33], line 3\u001b[0m\n\u001b[0;32m      1\u001b[0m a \u001b[38;5;241m=\u001b[39m \u001b[38;5;241m10\u001b[39m\n\u001b[0;32m      2\u001b[0m \u001b[38;5;28;01mif\u001b[39;00m a\u001b[38;5;241m>\u001b[39m\u001b[38;5;241m0\u001b[39m:\n\u001b[1;32m----> 3\u001b[0m     \u001b[38;5;28;01mraise\u001b[39;00m \u001b[38;5;167;01mException\u001b[39;00m(\u001b[38;5;124m'\u001b[39m\u001b[38;5;124msorry no match\u001b[39m\u001b[38;5;124m'\u001b[39m)\n",
      "\u001b[1;31mException\u001b[0m: sorry no match"
     ]
    }
   ],
   "source": [
    "a = 10\n",
    "if a>0:\n",
    "    raise Exception('sorry no match')"
   ]
  },
  {
   "cell_type": "code",
   "execution_count": 34,
   "id": "de9fdb32",
   "metadata": {},
   "outputs": [
    {
     "name": "stdout",
     "output_type": "stream",
     "text": [
      "the value is 100\n"
     ]
    }
   ],
   "source": [
    "# string formatting\n",
    "a = 100\n",
    "b = 'the value is {}'\n",
    "print(b.format(a))"
   ]
  },
  {
   "cell_type": "code",
   "execution_count": 35,
   "id": "72ba332d",
   "metadata": {},
   "outputs": [
    {
     "name": "stdout",
     "output_type": "stream",
     "text": [
      "the value is 10.2\n"
     ]
    }
   ],
   "source": [
    "a = 10.2\n",
    "b = 'the value is {}'\n",
    "print(b.format(a))"
   ]
  },
  {
   "cell_type": "code",
   "execution_count": 40,
   "id": "738cc5cb",
   "metadata": {},
   "outputs": [
    {
     "name": "stdout",
     "output_type": "stream",
     "text": [
      "the value is 10\n",
      "the value is  10\n",
      "the value is 10\n"
     ]
    }
   ],
   "source": [
    "a = 10\n",
    "b = 'the value is {}'\n",
    "print(b.format(a))\n",
    "print('the value is ',a)\n",
    "print('the value is 10')"
   ]
  },
  {
   "cell_type": "code",
   "execution_count": 41,
   "id": "99c0da20",
   "metadata": {},
   "outputs": [
    {
     "name": "stdout",
     "output_type": "stream",
     "text": [
      "the value is  a 10 the value is b 20 \n"
     ]
    }
   ],
   "source": [
    "a = 10\n",
    "b = 20\n",
    "c = 'the value is  a {} the value is b {} '\n",
    "print(c.format(a,b))"
   ]
  },
  {
   "cell_type": "code",
   "execution_count": 54,
   "id": "9d169928",
   "metadata": {},
   "outputs": [],
   "source": [
    "a = 10\n",
    "b = 20\n",
    "print = ('the price a is {} and price b is {}'.format(a,b))\n"
   ]
  },
  {
   "cell_type": "code",
   "execution_count": 10,
   "id": "c57a8e0e",
   "metadata": {},
   "outputs": [
    {
     "name": "stdout",
     "output_type": "stream",
     "text": [
      "hi \n",
      "hello python\n",
      "good morning\n",
      "my name is lili\n",
      "\n",
      "\n"
     ]
    }
   ],
   "source": [
    "# file handling\n",
    "f = open('f1.txt','r')\n",
    "print(f.read())\n",
    "print(f.readline())\n",
    "for x in f:\n",
    "    print(x)\n",
    "print(f.read(5))"
   ]
  },
  {
   "cell_type": "code",
   "execution_count": 12,
   "id": "75d20bd0",
   "metadata": {},
   "outputs": [
    {
     "name": "stdout",
     "output_type": "stream",
     "text": [
      "hi \n",
      "\n",
      "hello python\n",
      "\n",
      "good morning\n",
      "\n",
      "my name is lili\n"
     ]
    }
   ],
   "source": [
    "f = open('f1.txt','r')\n",
    "for x in f:\n",
    "    print(x)"
   ]
  },
  {
   "cell_type": "code",
   "execution_count": 14,
   "id": "3f603529",
   "metadata": {},
   "outputs": [
    {
     "name": "stdout",
     "output_type": "stream",
     "text": [
      "hi \n",
      "hello python\n",
      "good morning\n",
      "my name is lilithis is new addthis is new add\n"
     ]
    }
   ],
   "source": [
    "f = open('f1.txt','a')\n",
    "a = 'this is new add'\n",
    "f.write(a)\n",
    "f = open('f1.txt','r')\n",
    "print(f.read())"
   ]
  },
  {
   "cell_type": "code",
   "execution_count": 15,
   "id": "a74b8177",
   "metadata": {},
   "outputs": [
    {
     "name": "stdout",
     "output_type": "stream",
     "text": [
      "hi \n",
      "hello python\n",
      "good morning\n",
      "my name is lilithis is new addthis is new add\n"
     ]
    }
   ],
   "source": [
    "f_r = open('f1.txt','r')\n",
    "print(f_r.read())"
   ]
  },
  {
   "cell_type": "code",
   "execution_count": 17,
   "id": "9e10bb5c",
   "metadata": {},
   "outputs": [
    {
     "name": "stdout",
     "output_type": "stream",
     "text": [
      "hi \n",
      "hello python\n",
      "good morning\n",
      "my name is lilithis is new addthis is new addhey come to dubai\n"
     ]
    }
   ],
   "source": [
    "f_w = open('f1.txt','a')\n",
    "a = 'hey come to dubai'\n",
    "f_w.write(a)\n",
    "f_r = open('f1.txt','r')\n",
    "print(f_r.read())"
   ]
  },
  {
   "cell_type": "code",
   "execution_count": 30,
   "id": "e35c4a1b",
   "metadata": {},
   "outputs": [
    {
     "name": "stdout",
     "output_type": "stream",
     "text": [
      "\n"
     ]
    },
    {
     "data": {
      "text/plain": [
       "15"
      ]
     },
     "execution_count": 30,
     "metadata": {},
     "output_type": "execute_result"
    }
   ],
   "source": [
    "f_x = open('f7.txt','x')\n",
    "f_r = open('f7.txt','r')\n",
    "print(f_r.read())\n",
    "f_w = open('f7.txt','a')\n",
    "a = 'hi good morning'\n",
    "f_w.write(a)"
   ]
  },
  {
   "cell_type": "code",
   "execution_count": null,
   "id": "1b863eda",
   "metadata": {},
   "outputs": [],
   "source": []
  }
 ],
 "metadata": {
  "kernelspec": {
   "display_name": "Python 3 (ipykernel)",
   "language": "python",
   "name": "python3"
  },
  "language_info": {
   "codemirror_mode": {
    "name": "ipython",
    "version": 3
   },
   "file_extension": ".py",
   "mimetype": "text/x-python",
   "name": "python",
   "nbconvert_exporter": "python",
   "pygments_lexer": "ipython3",
   "version": "3.10.3"
  }
 },
 "nbformat": 4,
 "nbformat_minor": 5
}
